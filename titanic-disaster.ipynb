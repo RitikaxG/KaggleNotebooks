{
 "cells": [
  {
   "cell_type": "code",
   "execution_count": 1,
   "id": "d44c3e9c",
   "metadata": {
    "_cell_guid": "b1076dfc-b9ad-4769-8c92-a6c4dae69d19",
    "_uuid": "8f2839f25d086af736a60e9eeb907d3b93b6e0e5",
    "execution": {
     "iopub.execute_input": "2024-01-21T15:36:27.067031Z",
     "iopub.status.busy": "2024-01-21T15:36:27.066609Z",
     "iopub.status.idle": "2024-01-21T15:36:27.080067Z",
     "shell.execute_reply": "2024-01-21T15:36:27.078649Z"
    },
    "papermill": {
     "duration": 0.03188,
     "end_time": "2024-01-21T15:36:27.082107",
     "exception": false,
     "start_time": "2024-01-21T15:36:27.050227",
     "status": "completed"
    },
    "tags": []
   },
   "outputs": [
    {
     "name": "stdout",
     "output_type": "stream",
     "text": [
      "/kaggle/input/titanic/train.csv\n",
      "/kaggle/input/titanic/test.csv\n",
      "/kaggle/input/titanic/gender_submission.csv\n"
     ]
    }
   ],
   "source": [
    "import os\n",
    "for dirname, _, filenames in os.walk('/kaggle/input'):\n",
    "    for filename in filenames:\n",
    "        print(os.path.join(dirname, filename))"
   ]
  },
  {
   "cell_type": "markdown",
   "id": "349670ee",
   "metadata": {
    "papermill": {
     "duration": 0.014178,
     "end_time": "2024-01-21T15:36:27.111170",
     "exception": false,
     "start_time": "2024-01-21T15:36:27.096992",
     "status": "completed"
    },
    "tags": []
   },
   "source": [
    "### Importing Libraries"
   ]
  },
  {
   "cell_type": "code",
   "execution_count": 2,
   "id": "7f3425bd",
   "metadata": {
    "execution": {
     "iopub.execute_input": "2024-01-21T15:36:27.142288Z",
     "iopub.status.busy": "2024-01-21T15:36:27.141723Z",
     "iopub.status.idle": "2024-01-21T15:36:29.280401Z",
     "shell.execute_reply": "2024-01-21T15:36:29.279321Z"
    },
    "papermill": {
     "duration": 2.157124,
     "end_time": "2024-01-21T15:36:29.283076",
     "exception": false,
     "start_time": "2024-01-21T15:36:27.125952",
     "status": "completed"
    },
    "tags": []
   },
   "outputs": [],
   "source": [
    "import pandas as pd\n",
    "import numpy as np\n",
    "import matplotlib.pyplot as plt\n",
    "import seaborn as sns\n",
    "%matplotlib inline\n",
    "\n",
    "from sklearn.ensemble import RandomForestClassifier\n",
    "from sklearn.linear_model import LogisticRegression\n",
    "from sklearn.neighbors import KNeighborsClassifier\n",
    "from sklearn.tree import DecisionTreeClassifier\n",
    "from sklearn.svm import SVC\n",
    "# Setting the size of sns plots\n",
    "sns.set(rc={'figure.figsize':(12,10)})\n",
    "\n",
    "import warnings\n",
    "warnings.filterwarnings(\"ignore\")"
   ]
  },
  {
   "cell_type": "markdown",
   "id": "ee2f7ce3",
   "metadata": {
    "papermill": {
     "duration": 0.013896,
     "end_time": "2024-01-21T15:36:29.312733",
     "exception": false,
     "start_time": "2024-01-21T15:36:29.298837",
     "status": "completed"
    },
    "tags": []
   },
   "source": [
    "### Loading Dataset"
   ]
  },
  {
   "cell_type": "code",
   "execution_count": 3,
   "id": "94236072",
   "metadata": {
    "execution": {
     "iopub.execute_input": "2024-01-21T15:36:29.344196Z",
     "iopub.status.busy": "2024-01-21T15:36:29.342930Z",
     "iopub.status.idle": "2024-01-21T15:36:29.386313Z",
     "shell.execute_reply": "2024-01-21T15:36:29.385553Z"
    },
    "papermill": {
     "duration": 0.061337,
     "end_time": "2024-01-21T15:36:29.388370",
     "exception": false,
     "start_time": "2024-01-21T15:36:29.327033",
     "status": "completed"
    },
    "tags": []
   },
   "outputs": [
    {
     "data": {
      "text/html": [
       "<div>\n",
       "<style scoped>\n",
       "    .dataframe tbody tr th:only-of-type {\n",
       "        vertical-align: middle;\n",
       "    }\n",
       "\n",
       "    .dataframe tbody tr th {\n",
       "        vertical-align: top;\n",
       "    }\n",
       "\n",
       "    .dataframe thead th {\n",
       "        text-align: right;\n",
       "    }\n",
       "</style>\n",
       "<table border=\"1\" class=\"dataframe\">\n",
       "  <thead>\n",
       "    <tr style=\"text-align: right;\">\n",
       "      <th></th>\n",
       "      <th>PassengerId</th>\n",
       "      <th>Survived</th>\n",
       "      <th>Pclass</th>\n",
       "      <th>Name</th>\n",
       "      <th>Sex</th>\n",
       "      <th>Age</th>\n",
       "      <th>SibSp</th>\n",
       "      <th>Parch</th>\n",
       "      <th>Ticket</th>\n",
       "      <th>Fare</th>\n",
       "      <th>Cabin</th>\n",
       "      <th>Embarked</th>\n",
       "    </tr>\n",
       "  </thead>\n",
       "  <tbody>\n",
       "    <tr>\n",
       "      <th>0</th>\n",
       "      <td>1</td>\n",
       "      <td>0</td>\n",
       "      <td>3</td>\n",
       "      <td>Braund, Mr. Owen Harris</td>\n",
       "      <td>male</td>\n",
       "      <td>22.0</td>\n",
       "      <td>1</td>\n",
       "      <td>0</td>\n",
       "      <td>A/5 21171</td>\n",
       "      <td>7.2500</td>\n",
       "      <td>NaN</td>\n",
       "      <td>S</td>\n",
       "    </tr>\n",
       "    <tr>\n",
       "      <th>1</th>\n",
       "      <td>2</td>\n",
       "      <td>1</td>\n",
       "      <td>1</td>\n",
       "      <td>Cumings, Mrs. John Bradley (Florence Briggs Th...</td>\n",
       "      <td>female</td>\n",
       "      <td>38.0</td>\n",
       "      <td>1</td>\n",
       "      <td>0</td>\n",
       "      <td>PC 17599</td>\n",
       "      <td>71.2833</td>\n",
       "      <td>C85</td>\n",
       "      <td>C</td>\n",
       "    </tr>\n",
       "    <tr>\n",
       "      <th>2</th>\n",
       "      <td>3</td>\n",
       "      <td>1</td>\n",
       "      <td>3</td>\n",
       "      <td>Heikkinen, Miss. Laina</td>\n",
       "      <td>female</td>\n",
       "      <td>26.0</td>\n",
       "      <td>0</td>\n",
       "      <td>0</td>\n",
       "      <td>STON/O2. 3101282</td>\n",
       "      <td>7.9250</td>\n",
       "      <td>NaN</td>\n",
       "      <td>S</td>\n",
       "    </tr>\n",
       "    <tr>\n",
       "      <th>3</th>\n",
       "      <td>4</td>\n",
       "      <td>1</td>\n",
       "      <td>1</td>\n",
       "      <td>Futrelle, Mrs. Jacques Heath (Lily May Peel)</td>\n",
       "      <td>female</td>\n",
       "      <td>35.0</td>\n",
       "      <td>1</td>\n",
       "      <td>0</td>\n",
       "      <td>113803</td>\n",
       "      <td>53.1000</td>\n",
       "      <td>C123</td>\n",
       "      <td>S</td>\n",
       "    </tr>\n",
       "    <tr>\n",
       "      <th>4</th>\n",
       "      <td>5</td>\n",
       "      <td>0</td>\n",
       "      <td>3</td>\n",
       "      <td>Allen, Mr. William Henry</td>\n",
       "      <td>male</td>\n",
       "      <td>35.0</td>\n",
       "      <td>0</td>\n",
       "      <td>0</td>\n",
       "      <td>373450</td>\n",
       "      <td>8.0500</td>\n",
       "      <td>NaN</td>\n",
       "      <td>S</td>\n",
       "    </tr>\n",
       "  </tbody>\n",
       "</table>\n",
       "</div>"
      ],
      "text/plain": [
       "   PassengerId  Survived  Pclass  \\\n",
       "0            1         0       3   \n",
       "1            2         1       1   \n",
       "2            3         1       3   \n",
       "3            4         1       1   \n",
       "4            5         0       3   \n",
       "\n",
       "                                                Name     Sex   Age  SibSp  \\\n",
       "0                            Braund, Mr. Owen Harris    male  22.0      1   \n",
       "1  Cumings, Mrs. John Bradley (Florence Briggs Th...  female  38.0      1   \n",
       "2                             Heikkinen, Miss. Laina  female  26.0      0   \n",
       "3       Futrelle, Mrs. Jacques Heath (Lily May Peel)  female  35.0      1   \n",
       "4                           Allen, Mr. William Henry    male  35.0      0   \n",
       "\n",
       "   Parch            Ticket     Fare Cabin Embarked  \n",
       "0      0         A/5 21171   7.2500   NaN        S  \n",
       "1      0          PC 17599  71.2833   C85        C  \n",
       "2      0  STON/O2. 3101282   7.9250   NaN        S  \n",
       "3      0            113803  53.1000  C123        S  \n",
       "4      0            373450   8.0500   NaN        S  "
      ]
     },
     "execution_count": 3,
     "metadata": {},
     "output_type": "execute_result"
    }
   ],
   "source": [
    "df_train = pd.read_csv(\"/kaggle/input/titanic/train.csv\")\n",
    "df_train.head(5)"
   ]
  },
  {
   "cell_type": "markdown",
   "id": "aebb611d",
   "metadata": {
    "papermill": {
     "duration": 0.014197,
     "end_time": "2024-01-21T15:36:29.417287",
     "exception": false,
     "start_time": "2024-01-21T15:36:29.403090",
     "status": "completed"
    },
    "tags": []
   },
   "source": [
    "### Type of Features in the Dataset\n",
    "* **Categorical** : Sex  , Embarked\n",
    "* **Continuous**  : Age  , Fare\n",
    "* **Discrete**   : SibSp, Parch\n",
    "* **Alphanumaric**: Cabin, Ticket"
   ]
  },
  {
   "cell_type": "code",
   "execution_count": 4,
   "id": "2d998ee9",
   "metadata": {
    "execution": {
     "iopub.execute_input": "2024-01-21T15:36:29.448134Z",
     "iopub.status.busy": "2024-01-21T15:36:29.447731Z",
     "iopub.status.idle": "2024-01-21T15:36:29.475752Z",
     "shell.execute_reply": "2024-01-21T15:36:29.474097Z"
    },
    "papermill": {
     "duration": 0.046164,
     "end_time": "2024-01-21T15:36:29.478026",
     "exception": false,
     "start_time": "2024-01-21T15:36:29.431862",
     "status": "completed"
    },
    "tags": []
   },
   "outputs": [
    {
     "name": "stdout",
     "output_type": "stream",
     "text": [
      "<class 'pandas.core.frame.DataFrame'>\n",
      "RangeIndex: 891 entries, 0 to 890\n",
      "Data columns (total 12 columns):\n",
      " #   Column       Non-Null Count  Dtype  \n",
      "---  ------       --------------  -----  \n",
      " 0   PassengerId  891 non-null    int64  \n",
      " 1   Survived     891 non-null    int64  \n",
      " 2   Pclass       891 non-null    int64  \n",
      " 3   Name         891 non-null    object \n",
      " 4   Sex          891 non-null    object \n",
      " 5   Age          714 non-null    float64\n",
      " 6   SibSp        891 non-null    int64  \n",
      " 7   Parch        891 non-null    int64  \n",
      " 8   Ticket       891 non-null    object \n",
      " 9   Fare         891 non-null    float64\n",
      " 10  Cabin        204 non-null    object \n",
      " 11  Embarked     889 non-null    object \n",
      "dtypes: float64(2), int64(5), object(5)\n",
      "memory usage: 83.7+ KB\n"
     ]
    }
   ],
   "source": [
    "df_train.info()"
   ]
  },
  {
   "cell_type": "code",
   "execution_count": 5,
   "id": "e1d7d9b1",
   "metadata": {
    "execution": {
     "iopub.execute_input": "2024-01-21T15:36:29.510035Z",
     "iopub.status.busy": "2024-01-21T15:36:29.509082Z",
     "iopub.status.idle": "2024-01-21T15:36:29.518064Z",
     "shell.execute_reply": "2024-01-21T15:36:29.517002Z"
    },
    "papermill": {
     "duration": 0.027011,
     "end_time": "2024-01-21T15:36:29.520121",
     "exception": false,
     "start_time": "2024-01-21T15:36:29.493110",
     "status": "completed"
    },
    "tags": []
   },
   "outputs": [
    {
     "data": {
      "text/plain": [
       "PassengerId      0\n",
       "Survived         0\n",
       "Pclass           0\n",
       "Name             0\n",
       "Sex              0\n",
       "Age            177\n",
       "SibSp            0\n",
       "Parch            0\n",
       "Ticket           0\n",
       "Fare             0\n",
       "Cabin          687\n",
       "Embarked         2\n",
       "dtype: int64"
      ]
     },
     "execution_count": 5,
     "metadata": {},
     "output_type": "execute_result"
    }
   ],
   "source": [
    "# Null values in our dataset\n",
    "df_train.isnull().sum()"
   ]
  },
  {
   "cell_type": "code",
   "execution_count": 6,
   "id": "9b2619a5",
   "metadata": {
    "execution": {
     "iopub.execute_input": "2024-01-21T15:36:29.551638Z",
     "iopub.status.busy": "2024-01-21T15:36:29.551233Z",
     "iopub.status.idle": "2024-01-21T15:36:29.581165Z",
     "shell.execute_reply": "2024-01-21T15:36:29.580173Z"
    },
    "papermill": {
     "duration": 0.048566,
     "end_time": "2024-01-21T15:36:29.583554",
     "exception": false,
     "start_time": "2024-01-21T15:36:29.534988",
     "status": "completed"
    },
    "tags": []
   },
   "outputs": [
    {
     "data": {
      "text/html": [
       "<div>\n",
       "<style scoped>\n",
       "    .dataframe tbody tr th:only-of-type {\n",
       "        vertical-align: middle;\n",
       "    }\n",
       "\n",
       "    .dataframe tbody tr th {\n",
       "        vertical-align: top;\n",
       "    }\n",
       "\n",
       "    .dataframe thead th {\n",
       "        text-align: right;\n",
       "    }\n",
       "</style>\n",
       "<table border=\"1\" class=\"dataframe\">\n",
       "  <thead>\n",
       "    <tr style=\"text-align: right;\">\n",
       "      <th></th>\n",
       "      <th>PassengerId</th>\n",
       "      <th>Survived</th>\n",
       "      <th>Pclass</th>\n",
       "      <th>Age</th>\n",
       "      <th>SibSp</th>\n",
       "      <th>Parch</th>\n",
       "      <th>Fare</th>\n",
       "    </tr>\n",
       "  </thead>\n",
       "  <tbody>\n",
       "    <tr>\n",
       "      <th>count</th>\n",
       "      <td>891.000000</td>\n",
       "      <td>891.000000</td>\n",
       "      <td>891.000000</td>\n",
       "      <td>714.000000</td>\n",
       "      <td>891.000000</td>\n",
       "      <td>891.000000</td>\n",
       "      <td>891.000000</td>\n",
       "    </tr>\n",
       "    <tr>\n",
       "      <th>mean</th>\n",
       "      <td>446.000000</td>\n",
       "      <td>0.383838</td>\n",
       "      <td>2.308642</td>\n",
       "      <td>29.699118</td>\n",
       "      <td>0.523008</td>\n",
       "      <td>0.381594</td>\n",
       "      <td>32.204208</td>\n",
       "    </tr>\n",
       "    <tr>\n",
       "      <th>std</th>\n",
       "      <td>257.353842</td>\n",
       "      <td>0.486592</td>\n",
       "      <td>0.836071</td>\n",
       "      <td>14.526497</td>\n",
       "      <td>1.102743</td>\n",
       "      <td>0.806057</td>\n",
       "      <td>49.693429</td>\n",
       "    </tr>\n",
       "    <tr>\n",
       "      <th>min</th>\n",
       "      <td>1.000000</td>\n",
       "      <td>0.000000</td>\n",
       "      <td>1.000000</td>\n",
       "      <td>0.420000</td>\n",
       "      <td>0.000000</td>\n",
       "      <td>0.000000</td>\n",
       "      <td>0.000000</td>\n",
       "    </tr>\n",
       "    <tr>\n",
       "      <th>25%</th>\n",
       "      <td>223.500000</td>\n",
       "      <td>0.000000</td>\n",
       "      <td>2.000000</td>\n",
       "      <td>20.125000</td>\n",
       "      <td>0.000000</td>\n",
       "      <td>0.000000</td>\n",
       "      <td>7.910400</td>\n",
       "    </tr>\n",
       "    <tr>\n",
       "      <th>50%</th>\n",
       "      <td>446.000000</td>\n",
       "      <td>0.000000</td>\n",
       "      <td>3.000000</td>\n",
       "      <td>28.000000</td>\n",
       "      <td>0.000000</td>\n",
       "      <td>0.000000</td>\n",
       "      <td>14.454200</td>\n",
       "    </tr>\n",
       "    <tr>\n",
       "      <th>75%</th>\n",
       "      <td>668.500000</td>\n",
       "      <td>1.000000</td>\n",
       "      <td>3.000000</td>\n",
       "      <td>38.000000</td>\n",
       "      <td>1.000000</td>\n",
       "      <td>0.000000</td>\n",
       "      <td>31.000000</td>\n",
       "    </tr>\n",
       "    <tr>\n",
       "      <th>max</th>\n",
       "      <td>891.000000</td>\n",
       "      <td>1.000000</td>\n",
       "      <td>3.000000</td>\n",
       "      <td>80.000000</td>\n",
       "      <td>8.000000</td>\n",
       "      <td>6.000000</td>\n",
       "      <td>512.329200</td>\n",
       "    </tr>\n",
       "  </tbody>\n",
       "</table>\n",
       "</div>"
      ],
      "text/plain": [
       "       PassengerId    Survived      Pclass         Age       SibSp  \\\n",
       "count   891.000000  891.000000  891.000000  714.000000  891.000000   \n",
       "mean    446.000000    0.383838    2.308642   29.699118    0.523008   \n",
       "std     257.353842    0.486592    0.836071   14.526497    1.102743   \n",
       "min       1.000000    0.000000    1.000000    0.420000    0.000000   \n",
       "25%     223.500000    0.000000    2.000000   20.125000    0.000000   \n",
       "50%     446.000000    0.000000    3.000000   28.000000    0.000000   \n",
       "75%     668.500000    1.000000    3.000000   38.000000    1.000000   \n",
       "max     891.000000    1.000000    3.000000   80.000000    8.000000   \n",
       "\n",
       "            Parch        Fare  \n",
       "count  891.000000  891.000000  \n",
       "mean     0.381594   32.204208  \n",
       "std      0.806057   49.693429  \n",
       "min      0.000000    0.000000  \n",
       "25%      0.000000    7.910400  \n",
       "50%      0.000000   14.454200  \n",
       "75%      0.000000   31.000000  \n",
       "max      6.000000  512.329200  "
      ]
     },
     "execution_count": 6,
     "metadata": {},
     "output_type": "execute_result"
    }
   ],
   "source": [
    "df_train.describe()"
   ]
  },
  {
   "cell_type": "markdown",
   "id": "f4134785",
   "metadata": {
    "papermill": {
     "duration": 0.074916,
     "end_time": "2024-01-21T15:36:29.673686",
     "exception": false,
     "start_time": "2024-01-21T15:36:29.598770",
     "status": "completed"
    },
    "tags": []
   },
   "source": [
    "### Numarical Value Analysis"
   ]
  },
  {
   "cell_type": "code",
   "execution_count": 7,
   "id": "9d91cd28",
   "metadata": {
    "execution": {
     "iopub.execute_input": "2024-01-21T15:36:29.706241Z",
     "iopub.status.busy": "2024-01-21T15:36:29.705834Z",
     "iopub.status.idle": "2024-01-21T15:36:30.248030Z",
     "shell.execute_reply": "2024-01-21T15:36:30.246961Z"
    },
    "papermill": {
     "duration": 0.561148,
     "end_time": "2024-01-21T15:36:30.250220",
     "exception": false,
     "start_time": "2024-01-21T15:36:29.689072",
     "status": "completed"
    },
    "tags": []
   },
   "outputs": [
    {
     "data": {
      "image/png": "[encoded data removed]",
      "text/plain": [
       "<Figure size 1200x1000 with 2 Axes>"
      ]
     },
     "metadata": {},
     "output_type": "display_data"
    }
   ],
   "source": [
    "plt.figure(figsize=(12,10))\n",
    "heatmap = sns.heatmap(df_train[['Survived','SibSp','Parch','Fare','Age']].corr(),annot=True)"
   ]
  },
  {
   "cell_type": "markdown",
   "id": "da6f991a",
   "metadata": {
    "papermill": {
     "duration": 0.015736,
     "end_time": "2024-01-21T15:36:30.282191",
     "exception": false,
     "start_time": "2024-01-21T15:36:30.266455",
     "status": "completed"
    },
    "tags": []
   },
   "source": [
    "### SibSp : No of siblings/spouses aboard the Titanic"
   ]
  },
  {
   "cell_type": "code",
   "execution_count": 8,
   "id": "af1aec4d",
   "metadata": {
    "execution": {
     "iopub.execute_input": "2024-01-21T15:36:30.317758Z",
     "iopub.status.busy": "2024-01-21T15:36:30.316995Z",
     "iopub.status.idle": "2024-01-21T15:36:30.324576Z",
     "shell.execute_reply": "2024-01-21T15:36:30.323511Z"
    },
    "papermill": {
     "duration": 0.027508,
     "end_time": "2024-01-21T15:36:30.326595",
     "exception": false,
     "start_time": "2024-01-21T15:36:30.299087",
     "status": "completed"
    },
    "tags": []
   },
   "outputs": [
    {
     "data": {
      "text/plain": [
       "array([1, 0, 3, 4, 2, 5, 8])"
      ]
     },
     "execution_count": 8,
     "metadata": {},
     "output_type": "execute_result"
    }
   ],
   "source": [
    "# No of siblings that a passenger may have\n",
    "df_train['SibSp'].unique()"
   ]
  },
  {
   "cell_type": "code",
   "execution_count": 9,
   "id": "14bbb7a5",
   "metadata": {
    "execution": {
     "iopub.execute_input": "2024-01-21T15:36:30.362290Z",
     "iopub.status.busy": "2024-01-21T15:36:30.361669Z",
     "iopub.status.idle": "2024-01-21T15:36:31.045282Z",
     "shell.execute_reply": "2024-01-21T15:36:31.044244Z"
    },
    "papermill": {
     "duration": 0.703952,
     "end_time": "2024-01-21T15:36:31.047324",
     "exception": false,
     "start_time": "2024-01-21T15:36:30.343372",
     "status": "completed"
    },
    "tags": []
   },
   "outputs": [
    {
     "data": {
      "text/plain": [
       "<seaborn.axisgrid.FacetGrid at 0x796351f2dae0>"
      ]
     },
     "execution_count": 9,
     "metadata": {},
     "output_type": "execute_result"
    },
    {
     "data": {
      "image/png": "[encoded data removed]",
      "text/plain": [
       "<Figure size 500x500 with 1 Axes>"
      ]
     },
     "metadata": {},
     "output_type": "display_data"
    }
   ],
   "source": [
    "sns.catplot(x='SibSp',y='Survived',data=df_train,kind='bar').set_ylabels(\"Survival Probability\")"
   ]
  },
  {
   "cell_type": "markdown",
   "id": "83d4ba29",
   "metadata": {
    "papermill": {
     "duration": 0.016351,
     "end_time": "2024-01-21T15:36:31.080547",
     "exception": false,
     "start_time": "2024-01-21T15:36:31.064196",
     "status": "completed"
    },
    "tags": []
   },
   "source": [
    "We can observe that probability of survival of passenger having 1 or 2 sibling is higher."
   ]
  },
  {
   "cell_type": "markdown",
   "id": "acfa01e2",
   "metadata": {
    "papermill": {
     "duration": 0.016467,
     "end_time": "2024-01-21T15:36:31.113704",
     "exception": false,
     "start_time": "2024-01-21T15:36:31.097237",
     "status": "completed"
    },
    "tags": []
   },
   "source": [
    "### Age"
   ]
  },
  {
   "cell_type": "code",
   "execution_count": 10,
   "id": "b466b75a",
   "metadata": {
    "execution": {
     "iopub.execute_input": "2024-01-21T15:36:31.149374Z",
     "iopub.status.busy": "2024-01-21T15:36:31.148225Z",
     "iopub.status.idle": "2024-01-21T15:36:32.170663Z",
     "shell.execute_reply": "2024-01-21T15:36:32.169774Z"
    },
    "papermill": {
     "duration": 1.042401,
     "end_time": "2024-01-21T15:36:32.172714",
     "exception": false,
     "start_time": "2024-01-21T15:36:31.130313",
     "status": "completed"
    },
    "tags": []
   },
   "outputs": [
    {
     "data": {
      "image/png": "[encoded data removed]",
      "text/plain": [
       "<Figure size 600x300 with 2 Axes>"
      ]
     },
     "metadata": {},
     "output_type": "display_data"
    }
   ],
   "source": [
    "age_visual = sns.FacetGrid(df_train,col='Survived')\n",
    "age_visual = age_visual.map(sns.distplot,\"Age\").set_ylabels(\"Survival Probability\")"
   ]
  },
  {
   "cell_type": "markdown",
   "id": "a2895a02",
   "metadata": {
    "papermill": {
     "duration": 0.0175,
     "end_time": "2024-01-21T15:36:32.208653",
     "exception": false,
     "start_time": "2024-01-21T15:36:32.191153",
     "status": "completed"
    },
    "tags": []
   },
   "source": [
    "### Sex"
   ]
  },
  {
   "cell_type": "code",
   "execution_count": 11,
   "id": "cc8fa37c",
   "metadata": {
    "execution": {
     "iopub.execute_input": "2024-01-21T15:36:32.245147Z",
     "iopub.status.busy": "2024-01-21T15:36:32.244464Z",
     "iopub.status.idle": "2024-01-21T15:36:32.555460Z",
     "shell.execute_reply": "2024-01-21T15:36:32.554652Z"
    },
    "papermill": {
     "duration": 0.331794,
     "end_time": "2024-01-21T15:36:32.557640",
     "exception": false,
     "start_time": "2024-01-21T15:36:32.225846",
     "status": "completed"
    },
    "tags": []
   },
   "outputs": [
    {
     "data": {
      "image/png": "[encoded data removed]",
      "text/plain": [
       "<Figure size 1200x1000 with 1 Axes>"
      ]
     },
     "metadata": {},
     "output_type": "display_data"
    }
   ],
   "source": [
    "sns_plot = sns.barplot(x='Sex',y='Survived',data=df_train).set_ylabel(\"Survival Probability\")"
   ]
  },
  {
   "cell_type": "code",
   "execution_count": 12,
   "id": "81e3af87",
   "metadata": {
    "execution": {
     "iopub.execute_input": "2024-01-21T15:36:32.594939Z",
     "iopub.status.busy": "2024-01-21T15:36:32.594207Z",
     "iopub.status.idle": "2024-01-21T15:36:32.608981Z",
     "shell.execute_reply": "2024-01-21T15:36:32.607819Z"
    },
    "papermill": {
     "duration": 0.036455,
     "end_time": "2024-01-21T15:36:32.611626",
     "exception": false,
     "start_time": "2024-01-21T15:36:32.575171",
     "status": "completed"
    },
    "tags": []
   },
   "outputs": [
    {
     "data": {
      "text/html": [
       "<div>\n",
       "<style scoped>\n",
       "    .dataframe tbody tr th:only-of-type {\n",
       "        vertical-align: middle;\n",
       "    }\n",
       "\n",
       "    .dataframe tbody tr th {\n",
       "        vertical-align: top;\n",
       "    }\n",
       "\n",
       "    .dataframe thead th {\n",
       "        text-align: right;\n",
       "    }\n",
       "</style>\n",
       "<table border=\"1\" class=\"dataframe\">\n",
       "  <thead>\n",
       "    <tr style=\"text-align: right;\">\n",
       "      <th></th>\n",
       "      <th>Survived</th>\n",
       "    </tr>\n",
       "    <tr>\n",
       "      <th>Sex</th>\n",
       "      <th></th>\n",
       "    </tr>\n",
       "  </thead>\n",
       "  <tbody>\n",
       "    <tr>\n",
       "      <th>female</th>\n",
       "      <td>0.742038</td>\n",
       "    </tr>\n",
       "    <tr>\n",
       "      <th>male</th>\n",
       "      <td>0.188908</td>\n",
       "    </tr>\n",
       "  </tbody>\n",
       "</table>\n",
       "</div>"
      ],
      "text/plain": [
       "        Survived\n",
       "Sex             \n",
       "female  0.742038\n",
       "male    0.188908"
      ]
     },
     "execution_count": 12,
     "metadata": {},
     "output_type": "execute_result"
    }
   ],
   "source": [
    "df_train[[\"Sex\",\"Survived\"]].groupby(\"Sex\").mean()"
   ]
  },
  {
   "cell_type": "markdown",
   "id": "b9c46f7c",
   "metadata": {
    "papermill": {
     "duration": 0.018561,
     "end_time": "2024-01-21T15:36:32.648416",
     "exception": false,
     "start_time": "2024-01-21T15:36:32.629855",
     "status": "completed"
    },
    "tags": []
   },
   "source": [
    "We can observe that Females have a greater chances of survival."
   ]
  },
  {
   "cell_type": "markdown",
   "id": "9a0b3ee2",
   "metadata": {
    "papermill": {
     "duration": 0.017306,
     "end_time": "2024-01-21T15:36:32.683677",
     "exception": false,
     "start_time": "2024-01-21T15:36:32.666371",
     "status": "completed"
    },
    "tags": []
   },
   "source": [
    "### PClass"
   ]
  },
  {
   "cell_type": "code",
   "execution_count": 13,
   "id": "da45eedc",
   "metadata": {
    "execution": {
     "iopub.execute_input": "2024-01-21T15:36:32.721408Z",
     "iopub.status.busy": "2024-01-21T15:36:32.720787Z",
     "iopub.status.idle": "2024-01-21T15:36:33.219746Z",
     "shell.execute_reply": "2024-01-21T15:36:33.218343Z"
    },
    "papermill": {
     "duration": 0.521389,
     "end_time": "2024-01-21T15:36:33.222713",
     "exception": false,
     "start_time": "2024-01-21T15:36:32.701324",
     "status": "completed"
    },
    "tags": []
   },
   "outputs": [
    {
     "data": {
      "image/png": "[encoded data removed]",
      "text/plain": [
       "<Figure size 500x500 with 1 Axes>"
      ]
     },
     "metadata": {},
     "output_type": "display_data"
    }
   ],
   "source": [
    "pclass = sns.catplot(x=\"Pclass\",y=\"Survived\",data=df_train,kind='bar')\n",
    "pclass = pclass.set_ylabels(\"Survival Probability\")"
   ]
  },
  {
   "cell_type": "markdown",
   "id": "348d0b2d",
   "metadata": {
    "papermill": {
     "duration": 0.019159,
     "end_time": "2024-01-21T15:36:33.260912",
     "exception": false,
     "start_time": "2024-01-21T15:36:33.241753",
     "status": "completed"
    },
    "tags": []
   },
   "source": [
    "Passengers belonging to 1st class have higher chances of survival."
   ]
  },
  {
   "cell_type": "code",
   "execution_count": 14,
   "id": "51f759a8",
   "metadata": {
    "execution": {
     "iopub.execute_input": "2024-01-21T15:36:33.301377Z",
     "iopub.status.busy": "2024-01-21T15:36:33.300975Z",
     "iopub.status.idle": "2024-01-21T15:36:34.004180Z",
     "shell.execute_reply": "2024-01-21T15:36:34.002898Z"
    },
    "papermill": {
     "duration": 0.727467,
     "end_time": "2024-01-21T15:36:34.006576",
     "exception": false,
     "start_time": "2024-01-21T15:36:33.279109",
     "status": "completed"
    },
    "tags": []
   },
   "outputs": [
    {
     "data": {
      "image/png": "[encoded data removed]",
      "text/plain": [
       "<Figure size 607.875x500 with 1 Axes>"
      ]
     },
     "metadata": {},
     "output_type": "display_data"
    }
   ],
   "source": [
    "pclass = sns.catplot(x=\"Pclass\",y=\"Survived\",data=df_train,kind='bar',hue='Sex')\n",
    "pclass = pclass.set_ylabels(\"Survival Probability\")"
   ]
  },
  {
   "cell_type": "markdown",
   "id": "21b2891b",
   "metadata": {
    "papermill": {
     "duration": 0.018404,
     "end_time": "2024-01-21T15:36:34.044468",
     "exception": false,
     "start_time": "2024-01-21T15:36:34.026064",
     "status": "completed"
    },
    "tags": []
   },
   "source": [
    "### Embarked\n",
    "Whether the station from which the person has started the journey has any impact on its survival."
   ]
  },
  {
   "cell_type": "code",
   "execution_count": 15,
   "id": "49a5611e",
   "metadata": {
    "execution": {
     "iopub.execute_input": "2024-01-21T15:36:34.083497Z",
     "iopub.status.busy": "2024-01-21T15:36:34.082887Z",
     "iopub.status.idle": "2024-01-21T15:36:34.090705Z",
     "shell.execute_reply": "2024-01-21T15:36:34.089567Z"
    },
    "papermill": {
     "duration": 0.030025,
     "end_time": "2024-01-21T15:36:34.092947",
     "exception": false,
     "start_time": "2024-01-21T15:36:34.062922",
     "status": "completed"
    },
    "tags": []
   },
   "outputs": [
    {
     "data": {
      "text/plain": [
       "2"
      ]
     },
     "execution_count": 15,
     "metadata": {},
     "output_type": "execute_result"
    }
   ],
   "source": [
    "df_train[\"Embarked\"].isnull().sum()"
   ]
  },
  {
   "cell_type": "code",
   "execution_count": 16,
   "id": "b5899ecb",
   "metadata": {
    "execution": {
     "iopub.execute_input": "2024-01-21T15:36:34.132643Z",
     "iopub.status.busy": "2024-01-21T15:36:34.132184Z",
     "iopub.status.idle": "2024-01-21T15:36:34.141549Z",
     "shell.execute_reply": "2024-01-21T15:36:34.140660Z"
    },
    "papermill": {
     "duration": 0.03139,
     "end_time": "2024-01-21T15:36:34.143708",
     "exception": false,
     "start_time": "2024-01-21T15:36:34.112318",
     "status": "completed"
    },
    "tags": []
   },
   "outputs": [
    {
     "data": {
      "text/plain": [
       "Embarked\n",
       "S    644\n",
       "C    168\n",
       "Q     77\n",
       "Name: count, dtype: int64"
      ]
     },
     "execution_count": 16,
     "metadata": {},
     "output_type": "execute_result"
    }
   ],
   "source": [
    "df_train[\"Embarked\"].value_counts()"
   ]
  },
  {
   "cell_type": "code",
   "execution_count": 17,
   "id": "02b93eab",
   "metadata": {
    "execution": {
     "iopub.execute_input": "2024-01-21T15:36:34.184299Z",
     "iopub.status.busy": "2024-01-21T15:36:34.183337Z",
     "iopub.status.idle": "2024-01-21T15:36:34.190068Z",
     "shell.execute_reply": "2024-01-21T15:36:34.188888Z"
    },
    "papermill": {
     "duration": 0.029299,
     "end_time": "2024-01-21T15:36:34.192458",
     "exception": false,
     "start_time": "2024-01-21T15:36:34.163159",
     "status": "completed"
    },
    "tags": []
   },
   "outputs": [],
   "source": [
    "# Fill the null values with 'S' since it is majority\n",
    "df_train[\"Embarked\"] = df_train[\"Embarked\"].fillna('S')"
   ]
  },
  {
   "cell_type": "code",
   "execution_count": 18,
   "id": "e2312367",
   "metadata": {
    "execution": {
     "iopub.execute_input": "2024-01-21T15:36:34.232871Z",
     "iopub.status.busy": "2024-01-21T15:36:34.232451Z",
     "iopub.status.idle": "2024-01-21T15:36:34.724595Z",
     "shell.execute_reply": "2024-01-21T15:36:34.723472Z"
    },
    "papermill": {
     "duration": 0.515283,
     "end_time": "2024-01-21T15:36:34.726987",
     "exception": false,
     "start_time": "2024-01-21T15:36:34.211704",
     "status": "completed"
    },
    "tags": []
   },
   "outputs": [
    {
     "data": {
      "image/png": "[encoded data removed]",
      "text/plain": [
       "<Figure size 500x500 with 1 Axes>"
      ]
     },
     "metadata": {},
     "output_type": "display_data"
    }
   ],
   "source": [
    "embark = sns.catplot(x='Embarked',y='Survived',data=df_train,kind='bar')\n",
    "embark = embark.set_ylabels(\"Survived Probability\")"
   ]
  },
  {
   "cell_type": "markdown",
   "id": "e9ba0194",
   "metadata": {
    "papermill": {
     "duration": 0.01888,
     "end_time": "2024-01-21T15:36:34.765259",
     "exception": false,
     "start_time": "2024-01-21T15:36:34.746379",
     "status": "completed"
    },
    "tags": []
   },
   "source": [
    "Passengers from Cherbourg 'C' had a higher chance of survival."
   ]
  },
  {
   "cell_type": "code",
   "execution_count": 19,
   "id": "bac9ab74",
   "metadata": {
    "execution": {
     "iopub.execute_input": "2024-01-21T15:36:34.806020Z",
     "iopub.status.busy": "2024-01-21T15:36:34.805265Z",
     "iopub.status.idle": "2024-01-21T15:36:35.834622Z",
     "shell.execute_reply": "2024-01-21T15:36:35.833709Z"
    },
    "papermill": {
     "duration": 1.052178,
     "end_time": "2024-01-21T15:36:35.836872",
     "exception": false,
     "start_time": "2024-01-21T15:36:34.784694",
     "status": "completed"
    },
    "tags": []
   },
   "outputs": [
    {
     "data": {
      "image/png": "[encoded data removed]",
      "text/plain": [
       "<Figure size 1500x500 with 3 Axes>"
      ]
     },
     "metadata": {},
     "output_type": "display_data"
    }
   ],
   "source": [
    "# Explore Pclass vs Embarked\n",
    "embark_pclass = sns.catplot(x='Pclass',col='Embarked',data=df_train,kind='count')\n",
    "embark_pclass.despine(left=True)\n",
    "embark_pclass = embark_pclass.set_ylabels(\"Count\")"
   ]
  },
  {
   "cell_type": "code",
   "execution_count": 20,
   "id": "0fb09ad4",
   "metadata": {
    "execution": {
     "iopub.execute_input": "2024-01-21T15:36:35.878276Z",
     "iopub.status.busy": "2024-01-21T15:36:35.877301Z",
     "iopub.status.idle": "2024-01-21T15:36:36.884645Z",
     "shell.execute_reply": "2024-01-21T15:36:36.883630Z"
    },
    "papermill": {
     "duration": 1.030718,
     "end_time": "2024-01-21T15:36:36.887004",
     "exception": false,
     "start_time": "2024-01-21T15:36:35.856286",
     "status": "completed"
    },
    "tags": []
   },
   "outputs": [
    {
     "data": {
      "image/png": "[encoded data removed]",
      "text/plain": [
       "<Figure size 1500x500 with 3 Axes>"
      ]
     },
     "metadata": {},
     "output_type": "display_data"
    }
   ],
   "source": [
    "gender = sns.catplot(x='Sex',col='Embarked',data=df_train,kind='count')"
   ]
  },
  {
   "cell_type": "markdown",
   "id": "205630c3",
   "metadata": {
    "papermill": {
     "duration": 0.021806,
     "end_time": "2024-01-21T15:36:36.929219",
     "exception": false,
     "start_time": "2024-01-21T15:36:36.907413",
     "status": "completed"
    },
    "tags": []
   },
   "source": [
    "Majority of Passengers who embarked from \"Southampton\" are Male that's why there survival rate is less."
   ]
  },
  {
   "cell_type": "markdown",
   "id": "e0591fad",
   "metadata": {
    "papermill": {
     "duration": 0.019503,
     "end_time": "2024-01-21T15:36:36.968837",
     "exception": false,
     "start_time": "2024-01-21T15:36:36.949334",
     "status": "completed"
    },
    "tags": []
   },
   "source": [
    "### Preparing the Data"
   ]
  },
  {
   "cell_type": "code",
   "execution_count": 21,
   "id": "eee42fda",
   "metadata": {
    "execution": {
     "iopub.execute_input": "2024-01-21T15:36:37.011315Z",
     "iopub.status.busy": "2024-01-21T15:36:37.010909Z",
     "iopub.status.idle": "2024-01-21T15:36:37.026139Z",
     "shell.execute_reply": "2024-01-21T15:36:37.025275Z"
    },
    "papermill": {
     "duration": 0.038646,
     "end_time": "2024-01-21T15:36:37.028032",
     "exception": false,
     "start_time": "2024-01-21T15:36:36.989386",
     "status": "completed"
    },
    "tags": []
   },
   "outputs": [
    {
     "data": {
      "text/html": [
       "<div>\n",
       "<style scoped>\n",
       "    .dataframe tbody tr th:only-of-type {\n",
       "        vertical-align: middle;\n",
       "    }\n",
       "\n",
       "    .dataframe tbody tr th {\n",
       "        vertical-align: top;\n",
       "    }\n",
       "\n",
       "    .dataframe thead th {\n",
       "        text-align: right;\n",
       "    }\n",
       "</style>\n",
       "<table border=\"1\" class=\"dataframe\">\n",
       "  <thead>\n",
       "    <tr style=\"text-align: right;\">\n",
       "      <th></th>\n",
       "      <th>PassengerId</th>\n",
       "      <th>Survived</th>\n",
       "      <th>Pclass</th>\n",
       "      <th>Name</th>\n",
       "      <th>Sex</th>\n",
       "      <th>Age</th>\n",
       "      <th>SibSp</th>\n",
       "      <th>Parch</th>\n",
       "      <th>Ticket</th>\n",
       "      <th>Fare</th>\n",
       "      <th>Cabin</th>\n",
       "      <th>Embarked</th>\n",
       "    </tr>\n",
       "  </thead>\n",
       "  <tbody>\n",
       "    <tr>\n",
       "      <th>0</th>\n",
       "      <td>1</td>\n",
       "      <td>0</td>\n",
       "      <td>3</td>\n",
       "      <td>Braund, Mr. Owen Harris</td>\n",
       "      <td>male</td>\n",
       "      <td>22.0</td>\n",
       "      <td>1</td>\n",
       "      <td>0</td>\n",
       "      <td>A/5 21171</td>\n",
       "      <td>7.2500</td>\n",
       "      <td>NaN</td>\n",
       "      <td>S</td>\n",
       "    </tr>\n",
       "    <tr>\n",
       "      <th>1</th>\n",
       "      <td>2</td>\n",
       "      <td>1</td>\n",
       "      <td>1</td>\n",
       "      <td>Cumings, Mrs. John Bradley (Florence Briggs Th...</td>\n",
       "      <td>female</td>\n",
       "      <td>38.0</td>\n",
       "      <td>1</td>\n",
       "      <td>0</td>\n",
       "      <td>PC 17599</td>\n",
       "      <td>71.2833</td>\n",
       "      <td>C85</td>\n",
       "      <td>C</td>\n",
       "    </tr>\n",
       "    <tr>\n",
       "      <th>2</th>\n",
       "      <td>3</td>\n",
       "      <td>1</td>\n",
       "      <td>3</td>\n",
       "      <td>Heikkinen, Miss. Laina</td>\n",
       "      <td>female</td>\n",
       "      <td>26.0</td>\n",
       "      <td>0</td>\n",
       "      <td>0</td>\n",
       "      <td>STON/O2. 3101282</td>\n",
       "      <td>7.9250</td>\n",
       "      <td>NaN</td>\n",
       "      <td>S</td>\n",
       "    </tr>\n",
       "    <tr>\n",
       "      <th>3</th>\n",
       "      <td>4</td>\n",
       "      <td>1</td>\n",
       "      <td>1</td>\n",
       "      <td>Futrelle, Mrs. Jacques Heath (Lily May Peel)</td>\n",
       "      <td>female</td>\n",
       "      <td>35.0</td>\n",
       "      <td>1</td>\n",
       "      <td>0</td>\n",
       "      <td>113803</td>\n",
       "      <td>53.1000</td>\n",
       "      <td>C123</td>\n",
       "      <td>S</td>\n",
       "    </tr>\n",
       "    <tr>\n",
       "      <th>4</th>\n",
       "      <td>5</td>\n",
       "      <td>0</td>\n",
       "      <td>3</td>\n",
       "      <td>Allen, Mr. William Henry</td>\n",
       "      <td>male</td>\n",
       "      <td>35.0</td>\n",
       "      <td>0</td>\n",
       "      <td>0</td>\n",
       "      <td>373450</td>\n",
       "      <td>8.0500</td>\n",
       "      <td>NaN</td>\n",
       "      <td>S</td>\n",
       "    </tr>\n",
       "  </tbody>\n",
       "</table>\n",
       "</div>"
      ],
      "text/plain": [
       "   PassengerId  Survived  Pclass  \\\n",
       "0            1         0       3   \n",
       "1            2         1       1   \n",
       "2            3         1       3   \n",
       "3            4         1       1   \n",
       "4            5         0       3   \n",
       "\n",
       "                                                Name     Sex   Age  SibSp  \\\n",
       "0                            Braund, Mr. Owen Harris    male  22.0      1   \n",
       "1  Cumings, Mrs. John Bradley (Florence Briggs Th...  female  38.0      1   \n",
       "2                             Heikkinen, Miss. Laina  female  26.0      0   \n",
       "3       Futrelle, Mrs. Jacques Heath (Lily May Peel)  female  35.0      1   \n",
       "4                           Allen, Mr. William Henry    male  35.0      0   \n",
       "\n",
       "   Parch            Ticket     Fare Cabin Embarked  \n",
       "0      0         A/5 21171   7.2500   NaN        S  \n",
       "1      0          PC 17599  71.2833   C85        C  \n",
       "2      0  STON/O2. 3101282   7.9250   NaN        S  \n",
       "3      0            113803  53.1000  C123        S  \n",
       "4      0            373450   8.0500   NaN        S  "
      ]
     },
     "execution_count": 21,
     "metadata": {},
     "output_type": "execute_result"
    }
   ],
   "source": [
    "df_train.head()"
   ]
  },
  {
   "cell_type": "code",
   "execution_count": 22,
   "id": "0827f43f",
   "metadata": {
    "execution": {
     "iopub.execute_input": "2024-01-21T15:36:37.070372Z",
     "iopub.status.busy": "2024-01-21T15:36:37.069185Z",
     "iopub.status.idle": "2024-01-21T15:36:37.092535Z",
     "shell.execute_reply": "2024-01-21T15:36:37.091468Z"
    },
    "papermill": {
     "duration": 0.047103,
     "end_time": "2024-01-21T15:36:37.095044",
     "exception": false,
     "start_time": "2024-01-21T15:36:37.047941",
     "status": "completed"
    },
    "tags": []
   },
   "outputs": [
    {
     "data": {
      "text/html": [
       "<div>\n",
       "<style scoped>\n",
       "    .dataframe tbody tr th:only-of-type {\n",
       "        vertical-align: middle;\n",
       "    }\n",
       "\n",
       "    .dataframe tbody tr th {\n",
       "        vertical-align: top;\n",
       "    }\n",
       "\n",
       "    .dataframe thead th {\n",
       "        text-align: right;\n",
       "    }\n",
       "</style>\n",
       "<table border=\"1\" class=\"dataframe\">\n",
       "  <thead>\n",
       "    <tr style=\"text-align: right;\">\n",
       "      <th></th>\n",
       "      <th>PassengerId</th>\n",
       "      <th>Pclass</th>\n",
       "      <th>Name</th>\n",
       "      <th>Sex</th>\n",
       "      <th>Age</th>\n",
       "      <th>SibSp</th>\n",
       "      <th>Parch</th>\n",
       "      <th>Ticket</th>\n",
       "      <th>Fare</th>\n",
       "      <th>Cabin</th>\n",
       "      <th>Embarked</th>\n",
       "    </tr>\n",
       "  </thead>\n",
       "  <tbody>\n",
       "    <tr>\n",
       "      <th>0</th>\n",
       "      <td>892</td>\n",
       "      <td>3</td>\n",
       "      <td>Kelly, Mr. James</td>\n",
       "      <td>male</td>\n",
       "      <td>34.5</td>\n",
       "      <td>0</td>\n",
       "      <td>0</td>\n",
       "      <td>330911</td>\n",
       "      <td>7.8292</td>\n",
       "      <td>NaN</td>\n",
       "      <td>Q</td>\n",
       "    </tr>\n",
       "    <tr>\n",
       "      <th>1</th>\n",
       "      <td>893</td>\n",
       "      <td>3</td>\n",
       "      <td>Wilkes, Mrs. James (Ellen Needs)</td>\n",
       "      <td>female</td>\n",
       "      <td>47.0</td>\n",
       "      <td>1</td>\n",
       "      <td>0</td>\n",
       "      <td>363272</td>\n",
       "      <td>7.0000</td>\n",
       "      <td>NaN</td>\n",
       "      <td>S</td>\n",
       "    </tr>\n",
       "    <tr>\n",
       "      <th>2</th>\n",
       "      <td>894</td>\n",
       "      <td>2</td>\n",
       "      <td>Myles, Mr. Thomas Francis</td>\n",
       "      <td>male</td>\n",
       "      <td>62.0</td>\n",
       "      <td>0</td>\n",
       "      <td>0</td>\n",
       "      <td>240276</td>\n",
       "      <td>9.6875</td>\n",
       "      <td>NaN</td>\n",
       "      <td>Q</td>\n",
       "    </tr>\n",
       "    <tr>\n",
       "      <th>3</th>\n",
       "      <td>895</td>\n",
       "      <td>3</td>\n",
       "      <td>Wirz, Mr. Albert</td>\n",
       "      <td>male</td>\n",
       "      <td>27.0</td>\n",
       "      <td>0</td>\n",
       "      <td>0</td>\n",
       "      <td>315154</td>\n",
       "      <td>8.6625</td>\n",
       "      <td>NaN</td>\n",
       "      <td>S</td>\n",
       "    </tr>\n",
       "    <tr>\n",
       "      <th>4</th>\n",
       "      <td>896</td>\n",
       "      <td>3</td>\n",
       "      <td>Hirvonen, Mrs. Alexander (Helga E Lindqvist)</td>\n",
       "      <td>female</td>\n",
       "      <td>22.0</td>\n",
       "      <td>1</td>\n",
       "      <td>1</td>\n",
       "      <td>3101298</td>\n",
       "      <td>12.2875</td>\n",
       "      <td>NaN</td>\n",
       "      <td>S</td>\n",
       "    </tr>\n",
       "  </tbody>\n",
       "</table>\n",
       "</div>"
      ],
      "text/plain": [
       "   PassengerId  Pclass                                          Name     Sex  \\\n",
       "0          892       3                              Kelly, Mr. James    male   \n",
       "1          893       3              Wilkes, Mrs. James (Ellen Needs)  female   \n",
       "2          894       2                     Myles, Mr. Thomas Francis    male   \n",
       "3          895       3                              Wirz, Mr. Albert    male   \n",
       "4          896       3  Hirvonen, Mrs. Alexander (Helga E Lindqvist)  female   \n",
       "\n",
       "    Age  SibSp  Parch   Ticket     Fare Cabin Embarked  \n",
       "0  34.5      0      0   330911   7.8292   NaN        Q  \n",
       "1  47.0      1      0   363272   7.0000   NaN        S  \n",
       "2  62.0      0      0   240276   9.6875   NaN        Q  \n",
       "3  27.0      0      0   315154   8.6625   NaN        S  \n",
       "4  22.0      1      1  3101298  12.2875   NaN        S  "
      ]
     },
     "execution_count": 22,
     "metadata": {},
     "output_type": "execute_result"
    }
   ],
   "source": [
    "# Testing data do not have target column rest columns are same\n",
    "df_test = pd.read_csv(\"/kaggle/input/titanic/test.csv\")\n",
    "df_test.head()"
   ]
  },
  {
   "cell_type": "code",
   "execution_count": 23,
   "id": "f7392315",
   "metadata": {
    "execution": {
     "iopub.execute_input": "2024-01-21T15:36:37.139118Z",
     "iopub.status.busy": "2024-01-21T15:36:37.138700Z",
     "iopub.status.idle": "2024-01-21T15:36:37.152267Z",
     "shell.execute_reply": "2024-01-21T15:36:37.150808Z"
    },
    "papermill": {
     "duration": 0.038396,
     "end_time": "2024-01-21T15:36:37.154343",
     "exception": false,
     "start_time": "2024-01-21T15:36:37.115947",
     "status": "completed"
    },
    "tags": []
   },
   "outputs": [
    {
     "name": "stdout",
     "output_type": "stream",
     "text": [
      "<class 'pandas.core.frame.DataFrame'>\n",
      "RangeIndex: 891 entries, 0 to 890\n",
      "Data columns (total 12 columns):\n",
      " #   Column       Non-Null Count  Dtype  \n",
      "---  ------       --------------  -----  \n",
      " 0   PassengerId  891 non-null    int64  \n",
      " 1   Survived     891 non-null    int64  \n",
      " 2   Pclass       891 non-null    int64  \n",
      " 3   Name         891 non-null    object \n",
      " 4   Sex          891 non-null    object \n",
      " 5   Age          714 non-null    float64\n",
      " 6   SibSp        891 non-null    int64  \n",
      " 7   Parch        891 non-null    int64  \n",
      " 8   Ticket       891 non-null    object \n",
      " 9   Fare         891 non-null    float64\n",
      " 10  Cabin        204 non-null    object \n",
      " 11  Embarked     891 non-null    object \n",
      "dtypes: float64(2), int64(5), object(5)\n",
      "memory usage: 83.7+ KB\n"
     ]
    }
   ],
   "source": [
    "df_train.info()"
   ]
  },
  {
   "cell_type": "markdown",
   "id": "2e9d2b36",
   "metadata": {
    "papermill": {
     "duration": 0.020193,
     "end_time": "2024-01-21T15:36:37.194765",
     "exception": false,
     "start_time": "2024-01-21T15:36:37.174572",
     "status": "completed"
    },
    "tags": []
   },
   "source": [
    "### Removing the null values from age column"
   ]
  },
  {
   "cell_type": "code",
   "execution_count": 24,
   "id": "0dd33785",
   "metadata": {
    "execution": {
     "iopub.execute_input": "2024-01-21T15:36:37.239024Z",
     "iopub.status.busy": "2024-01-21T15:36:37.238620Z",
     "iopub.status.idle": "2024-01-21T15:36:37.244650Z",
     "shell.execute_reply": "2024-01-21T15:36:37.243915Z"
    },
    "papermill": {
     "duration": 0.029376,
     "end_time": "2024-01-21T15:36:37.246544",
     "exception": false,
     "start_time": "2024-01-21T15:36:37.217168",
     "status": "completed"
    },
    "tags": []
   },
   "outputs": [],
   "source": [
    "mean = df_train['Age'].mean()\n",
    "std  = df_train[\"Age\"].std() \n",
    "# Count of null value in \"Age\"\n",
    "is_null = df_train[\"Age\"].isnull().sum()"
   ]
  },
  {
   "cell_type": "code",
   "execution_count": 25,
   "id": "30348ae9",
   "metadata": {
    "execution": {
     "iopub.execute_input": "2024-01-21T15:36:37.289701Z",
     "iopub.status.busy": "2024-01-21T15:36:37.288527Z",
     "iopub.status.idle": "2024-01-21T15:36:37.295271Z",
     "shell.execute_reply": "2024-01-21T15:36:37.294243Z"
    },
    "papermill": {
     "duration": 0.030829,
     "end_time": "2024-01-21T15:36:37.297573",
     "exception": false,
     "start_time": "2024-01-21T15:36:37.266744",
     "status": "completed"
    },
    "tags": []
   },
   "outputs": [
    {
     "name": "stdout",
     "output_type": "stream",
     "text": [
      "mean: 29.69911764705882 std: 14.526497332334042 null_value count: 177\n"
     ]
    }
   ],
   "source": [
    "print(\"mean:\",mean,\"std:\",std,\"null_value count:\",is_null)"
   ]
  },
  {
   "cell_type": "code",
   "execution_count": 26,
   "id": "7516446d",
   "metadata": {
    "execution": {
     "iopub.execute_input": "2024-01-21T15:36:37.341200Z",
     "iopub.status.busy": "2024-01-21T15:36:37.340781Z",
     "iopub.status.idle": "2024-01-21T15:36:37.345949Z",
     "shell.execute_reply": "2024-01-21T15:36:37.344832Z"
    },
    "papermill": {
     "duration": 0.029932,
     "end_time": "2024-01-21T15:36:37.348153",
     "exception": false,
     "start_time": "2024-01-21T15:36:37.318221",
     "status": "completed"
    },
    "tags": []
   },
   "outputs": [],
   "source": [
    "# Preparing 177 random age values in the range of mean-std and mean+std\n",
    "rand_age = np.random.randint(mean-std,mean+std,size=is_null)"
   ]
  },
  {
   "cell_type": "code",
   "execution_count": 27,
   "id": "76365421",
   "metadata": {
    "execution": {
     "iopub.execute_input": "2024-01-21T15:36:37.391160Z",
     "iopub.status.busy": "2024-01-21T15:36:37.390749Z",
     "iopub.status.idle": "2024-01-21T15:36:37.397122Z",
     "shell.execute_reply": "2024-01-21T15:36:37.396257Z"
    },
    "papermill": {
     "duration": 0.030213,
     "end_time": "2024-01-21T15:36:37.399231",
     "exception": false,
     "start_time": "2024-01-21T15:36:37.369018",
     "status": "completed"
    },
    "tags": []
   },
   "outputs": [
    {
     "data": {
      "text/plain": [
       "numpy.ndarray"
      ]
     },
     "execution_count": 27,
     "metadata": {},
     "output_type": "execute_result"
    }
   ],
   "source": [
    "type(rand_age)"
   ]
  },
  {
   "cell_type": "code",
   "execution_count": 28,
   "id": "181ca178",
   "metadata": {
    "execution": {
     "iopub.execute_input": "2024-01-21T15:36:37.441975Z",
     "iopub.status.busy": "2024-01-21T15:36:37.441143Z",
     "iopub.status.idle": "2024-01-21T15:36:37.446939Z",
     "shell.execute_reply": "2024-01-21T15:36:37.445966Z"
    },
    "papermill": {
     "duration": 0.02969,
     "end_time": "2024-01-21T15:36:37.449390",
     "exception": false,
     "start_time": "2024-01-21T15:36:37.419700",
     "status": "completed"
    },
    "tags": []
   },
   "outputs": [],
   "source": [
    "dummy_age = df_train[\"Age\"].copy()\n",
    "# Wherever we have null values in \"Age\" column fill it with rand_age\n",
    "dummy_age[np.isnan(dummy_age)] = rand_age\n",
    "# Assign it back to original column\n",
    "df_train[\"Age\"] = dummy_age"
   ]
  },
  {
   "cell_type": "code",
   "execution_count": 29,
   "id": "ea3c791f",
   "metadata": {
    "execution": {
     "iopub.execute_input": "2024-01-21T15:36:37.492771Z",
     "iopub.status.busy": "2024-01-21T15:36:37.492365Z",
     "iopub.status.idle": "2024-01-21T15:36:37.499539Z",
     "shell.execute_reply": "2024-01-21T15:36:37.498531Z"
    },
    "papermill": {
     "duration": 0.031333,
     "end_time": "2024-01-21T15:36:37.501699",
     "exception": false,
     "start_time": "2024-01-21T15:36:37.470366",
     "status": "completed"
    },
    "tags": []
   },
   "outputs": [
    {
     "data": {
      "text/plain": [
       "0"
      ]
     },
     "execution_count": 29,
     "metadata": {},
     "output_type": "execute_result"
    }
   ],
   "source": [
    "df_train[\"Age\"].isnull().sum()"
   ]
  },
  {
   "cell_type": "code",
   "execution_count": 30,
   "id": "362c265f",
   "metadata": {
    "execution": {
     "iopub.execute_input": "2024-01-21T15:36:37.544347Z",
     "iopub.status.busy": "2024-01-21T15:36:37.543950Z",
     "iopub.status.idle": "2024-01-21T15:36:37.557747Z",
     "shell.execute_reply": "2024-01-21T15:36:37.556277Z"
    },
    "papermill": {
     "duration": 0.037821,
     "end_time": "2024-01-21T15:36:37.560125",
     "exception": false,
     "start_time": "2024-01-21T15:36:37.522304",
     "status": "completed"
    },
    "tags": []
   },
   "outputs": [
    {
     "name": "stdout",
     "output_type": "stream",
     "text": [
      "<class 'pandas.core.frame.DataFrame'>\n",
      "RangeIndex: 891 entries, 0 to 890\n",
      "Data columns (total 12 columns):\n",
      " #   Column       Non-Null Count  Dtype  \n",
      "---  ------       --------------  -----  \n",
      " 0   PassengerId  891 non-null    int64  \n",
      " 1   Survived     891 non-null    int64  \n",
      " 2   Pclass       891 non-null    int64  \n",
      " 3   Name         891 non-null    object \n",
      " 4   Sex          891 non-null    object \n",
      " 5   Age          891 non-null    float64\n",
      " 6   SibSp        891 non-null    int64  \n",
      " 7   Parch        891 non-null    int64  \n",
      " 8   Ticket       891 non-null    object \n",
      " 9   Fare         891 non-null    float64\n",
      " 10  Cabin        204 non-null    object \n",
      " 11  Embarked     891 non-null    object \n",
      "dtypes: float64(2), int64(5), object(5)\n",
      "memory usage: 83.7+ KB\n"
     ]
    }
   ],
   "source": [
    "df_train.info()"
   ]
  },
  {
   "cell_type": "code",
   "execution_count": 31,
   "id": "7bde6513",
   "metadata": {
    "execution": {
     "iopub.execute_input": "2024-01-21T15:36:37.603727Z",
     "iopub.status.busy": "2024-01-21T15:36:37.603292Z",
     "iopub.status.idle": "2024-01-21T15:36:37.609163Z",
     "shell.execute_reply": "2024-01-21T15:36:37.608150Z"
    },
    "papermill": {
     "duration": 0.029953,
     "end_time": "2024-01-21T15:36:37.611376",
     "exception": false,
     "start_time": "2024-01-21T15:36:37.581423",
     "status": "completed"
    },
    "tags": []
   },
   "outputs": [],
   "source": [
    "df_train[\"Embarked\"] = df_train[\"Embarked\"].fillna(\"S\")"
   ]
  },
  {
   "cell_type": "markdown",
   "id": "b110dfbd",
   "metadata": {
    "papermill": {
     "duration": 0.020283,
     "end_time": "2024-01-21T15:36:37.652463",
     "exception": false,
     "start_time": "2024-01-21T15:36:37.632180",
     "status": "completed"
    },
    "tags": []
   },
   "source": [
    "#### Dropping Parameters that are not important"
   ]
  },
  {
   "cell_type": "code",
   "execution_count": 32,
   "id": "e363fdf3",
   "metadata": {
    "execution": {
     "iopub.execute_input": "2024-01-21T15:36:37.696892Z",
     "iopub.status.busy": "2024-01-21T15:36:37.696465Z",
     "iopub.status.idle": "2024-01-21T15:36:37.702763Z",
     "shell.execute_reply": "2024-01-21T15:36:37.701575Z"
    },
    "papermill": {
     "duration": 0.031848,
     "end_time": "2024-01-21T15:36:37.704945",
     "exception": false,
     "start_time": "2024-01-21T15:36:37.673097",
     "status": "completed"
    },
    "tags": []
   },
   "outputs": [],
   "source": [
    "col_to_drop = [\"PassengerId\",\"Cabin\",\"Name\",\"Ticket\"]\n",
    "df_train.drop(col_to_drop,axis=1,inplace=True)"
   ]
  },
  {
   "cell_type": "code",
   "execution_count": 33,
   "id": "d3f9545b",
   "metadata": {
    "execution": {
     "iopub.execute_input": "2024-01-21T15:36:37.747780Z",
     "iopub.status.busy": "2024-01-21T15:36:37.747380Z",
     "iopub.status.idle": "2024-01-21T15:36:37.761014Z",
     "shell.execute_reply": "2024-01-21T15:36:37.759800Z"
    },
    "papermill": {
     "duration": 0.0376,
     "end_time": "2024-01-21T15:36:37.763148",
     "exception": false,
     "start_time": "2024-01-21T15:36:37.725548",
     "status": "completed"
    },
    "tags": []
   },
   "outputs": [
    {
     "data": {
      "text/html": [
       "<div>\n",
       "<style scoped>\n",
       "    .dataframe tbody tr th:only-of-type {\n",
       "        vertical-align: middle;\n",
       "    }\n",
       "\n",
       "    .dataframe tbody tr th {\n",
       "        vertical-align: top;\n",
       "    }\n",
       "\n",
       "    .dataframe thead th {\n",
       "        text-align: right;\n",
       "    }\n",
       "</style>\n",
       "<table border=\"1\" class=\"dataframe\">\n",
       "  <thead>\n",
       "    <tr style=\"text-align: right;\">\n",
       "      <th></th>\n",
       "      <th>Survived</th>\n",
       "      <th>Pclass</th>\n",
       "      <th>Sex</th>\n",
       "      <th>Age</th>\n",
       "      <th>SibSp</th>\n",
       "      <th>Parch</th>\n",
       "      <th>Fare</th>\n",
       "      <th>Embarked</th>\n",
       "    </tr>\n",
       "  </thead>\n",
       "  <tbody>\n",
       "    <tr>\n",
       "      <th>0</th>\n",
       "      <td>0</td>\n",
       "      <td>3</td>\n",
       "      <td>male</td>\n",
       "      <td>22.0</td>\n",
       "      <td>1</td>\n",
       "      <td>0</td>\n",
       "      <td>7.2500</td>\n",
       "      <td>S</td>\n",
       "    </tr>\n",
       "    <tr>\n",
       "      <th>1</th>\n",
       "      <td>1</td>\n",
       "      <td>1</td>\n",
       "      <td>female</td>\n",
       "      <td>38.0</td>\n",
       "      <td>1</td>\n",
       "      <td>0</td>\n",
       "      <td>71.2833</td>\n",
       "      <td>C</td>\n",
       "    </tr>\n",
       "    <tr>\n",
       "      <th>2</th>\n",
       "      <td>1</td>\n",
       "      <td>3</td>\n",
       "      <td>female</td>\n",
       "      <td>26.0</td>\n",
       "      <td>0</td>\n",
       "      <td>0</td>\n",
       "      <td>7.9250</td>\n",
       "      <td>S</td>\n",
       "    </tr>\n",
       "    <tr>\n",
       "      <th>3</th>\n",
       "      <td>1</td>\n",
       "      <td>1</td>\n",
       "      <td>female</td>\n",
       "      <td>35.0</td>\n",
       "      <td>1</td>\n",
       "      <td>0</td>\n",
       "      <td>53.1000</td>\n",
       "      <td>S</td>\n",
       "    </tr>\n",
       "    <tr>\n",
       "      <th>4</th>\n",
       "      <td>0</td>\n",
       "      <td>3</td>\n",
       "      <td>male</td>\n",
       "      <td>35.0</td>\n",
       "      <td>0</td>\n",
       "      <td>0</td>\n",
       "      <td>8.0500</td>\n",
       "      <td>S</td>\n",
       "    </tr>\n",
       "  </tbody>\n",
       "</table>\n",
       "</div>"
      ],
      "text/plain": [
       "   Survived  Pclass     Sex   Age  SibSp  Parch     Fare Embarked\n",
       "0         0       3    male  22.0      1      0   7.2500        S\n",
       "1         1       1  female  38.0      1      0  71.2833        C\n",
       "2         1       3  female  26.0      0      0   7.9250        S\n",
       "3         1       1  female  35.0      1      0  53.1000        S\n",
       "4         0       3    male  35.0      0      0   8.0500        S"
      ]
     },
     "execution_count": 33,
     "metadata": {},
     "output_type": "execute_result"
    }
   ],
   "source": [
    "df_train.head()"
   ]
  },
  {
   "cell_type": "code",
   "execution_count": 34,
   "id": "b3795a5c",
   "metadata": {
    "execution": {
     "iopub.execute_input": "2024-01-21T15:36:37.806426Z",
     "iopub.status.busy": "2024-01-21T15:36:37.806049Z",
     "iopub.status.idle": "2024-01-21T15:36:37.812390Z",
     "shell.execute_reply": "2024-01-21T15:36:37.811351Z"
    },
    "papermill": {
     "duration": 0.030464,
     "end_time": "2024-01-21T15:36:37.814460",
     "exception": false,
     "start_time": "2024-01-21T15:36:37.783996",
     "status": "completed"
    },
    "tags": []
   },
   "outputs": [],
   "source": [
    "# Assigning categories to \"Sex\" parameter\n",
    "genders = {\"male\":0,\"female\":1}\n",
    "df_train[\"Sex\"] = df_train[\"Sex\"].map(genders)"
   ]
  },
  {
   "cell_type": "code",
   "execution_count": 35,
   "id": "749acfb5",
   "metadata": {
    "execution": {
     "iopub.execute_input": "2024-01-21T15:36:37.857744Z",
     "iopub.status.busy": "2024-01-21T15:36:37.857338Z",
     "iopub.status.idle": "2024-01-21T15:36:37.863605Z",
     "shell.execute_reply": "2024-01-21T15:36:37.862538Z"
    },
    "papermill": {
     "duration": 0.03044,
     "end_time": "2024-01-21T15:36:37.865784",
     "exception": false,
     "start_time": "2024-01-21T15:36:37.835344",
     "status": "completed"
    },
    "tags": []
   },
   "outputs": [],
   "source": [
    "# Similarly for Ports\n",
    "ports = {'S':0,'C':1,'Q':2}\n",
    "df_train[\"Embarked\"] = df_train[\"Embarked\"].map(ports)"
   ]
  },
  {
   "cell_type": "code",
   "execution_count": 36,
   "id": "b2f89dc3",
   "metadata": {
    "execution": {
     "iopub.execute_input": "2024-01-21T15:36:37.909366Z",
     "iopub.status.busy": "2024-01-21T15:36:37.908886Z",
     "iopub.status.idle": "2024-01-21T15:36:37.923928Z",
     "shell.execute_reply": "2024-01-21T15:36:37.922645Z"
    },
    "papermill": {
     "duration": 0.039395,
     "end_time": "2024-01-21T15:36:37.926166",
     "exception": false,
     "start_time": "2024-01-21T15:36:37.886771",
     "status": "completed"
    },
    "tags": []
   },
   "outputs": [
    {
     "data": {
      "text/html": [
       "<div>\n",
       "<style scoped>\n",
       "    .dataframe tbody tr th:only-of-type {\n",
       "        vertical-align: middle;\n",
       "    }\n",
       "\n",
       "    .dataframe tbody tr th {\n",
       "        vertical-align: top;\n",
       "    }\n",
       "\n",
       "    .dataframe thead th {\n",
       "        text-align: right;\n",
       "    }\n",
       "</style>\n",
       "<table border=\"1\" class=\"dataframe\">\n",
       "  <thead>\n",
       "    <tr style=\"text-align: right;\">\n",
       "      <th></th>\n",
       "      <th>Survived</th>\n",
       "      <th>Pclass</th>\n",
       "      <th>Sex</th>\n",
       "      <th>Age</th>\n",
       "      <th>SibSp</th>\n",
       "      <th>Parch</th>\n",
       "      <th>Fare</th>\n",
       "      <th>Embarked</th>\n",
       "    </tr>\n",
       "  </thead>\n",
       "  <tbody>\n",
       "    <tr>\n",
       "      <th>0</th>\n",
       "      <td>0</td>\n",
       "      <td>3</td>\n",
       "      <td>0</td>\n",
       "      <td>22.0</td>\n",
       "      <td>1</td>\n",
       "      <td>0</td>\n",
       "      <td>7.2500</td>\n",
       "      <td>0</td>\n",
       "    </tr>\n",
       "    <tr>\n",
       "      <th>1</th>\n",
       "      <td>1</td>\n",
       "      <td>1</td>\n",
       "      <td>1</td>\n",
       "      <td>38.0</td>\n",
       "      <td>1</td>\n",
       "      <td>0</td>\n",
       "      <td>71.2833</td>\n",
       "      <td>1</td>\n",
       "    </tr>\n",
       "    <tr>\n",
       "      <th>2</th>\n",
       "      <td>1</td>\n",
       "      <td>3</td>\n",
       "      <td>1</td>\n",
       "      <td>26.0</td>\n",
       "      <td>0</td>\n",
       "      <td>0</td>\n",
       "      <td>7.9250</td>\n",
       "      <td>0</td>\n",
       "    </tr>\n",
       "    <tr>\n",
       "      <th>3</th>\n",
       "      <td>1</td>\n",
       "      <td>1</td>\n",
       "      <td>1</td>\n",
       "      <td>35.0</td>\n",
       "      <td>1</td>\n",
       "      <td>0</td>\n",
       "      <td>53.1000</td>\n",
       "      <td>0</td>\n",
       "    </tr>\n",
       "    <tr>\n",
       "      <th>4</th>\n",
       "      <td>0</td>\n",
       "      <td>3</td>\n",
       "      <td>0</td>\n",
       "      <td>35.0</td>\n",
       "      <td>0</td>\n",
       "      <td>0</td>\n",
       "      <td>8.0500</td>\n",
       "      <td>0</td>\n",
       "    </tr>\n",
       "  </tbody>\n",
       "</table>\n",
       "</div>"
      ],
      "text/plain": [
       "   Survived  Pclass  Sex   Age  SibSp  Parch     Fare  Embarked\n",
       "0         0       3    0  22.0      1      0   7.2500         0\n",
       "1         1       1    1  38.0      1      0  71.2833         1\n",
       "2         1       3    1  26.0      0      0   7.9250         0\n",
       "3         1       1    1  35.0      1      0  53.1000         0\n",
       "4         0       3    0  35.0      0      0   8.0500         0"
      ]
     },
     "execution_count": 36,
     "metadata": {},
     "output_type": "execute_result"
    }
   ],
   "source": [
    "df_train.head()"
   ]
  },
  {
   "cell_type": "markdown",
   "id": "fceb0834",
   "metadata": {
    "papermill": {
     "duration": 0.020618,
     "end_time": "2024-01-21T15:36:37.968148",
     "exception": false,
     "start_time": "2024-01-21T15:36:37.947530",
     "status": "completed"
    },
    "tags": []
   },
   "source": [
    "### Handling Test Data"
   ]
  },
  {
   "cell_type": "code",
   "execution_count": 37,
   "id": "15f25c4b",
   "metadata": {
    "execution": {
     "iopub.execute_input": "2024-01-21T15:36:38.012511Z",
     "iopub.status.busy": "2024-01-21T15:36:38.011993Z",
     "iopub.status.idle": "2024-01-21T15:36:38.018363Z",
     "shell.execute_reply": "2024-01-21T15:36:38.017099Z"
    },
    "papermill": {
     "duration": 0.031548,
     "end_time": "2024-01-21T15:36:38.020751",
     "exception": false,
     "start_time": "2024-01-21T15:36:37.989203",
     "status": "completed"
    },
    "tags": []
   },
   "outputs": [],
   "source": [
    "col_to_drop = [\"PassengerId\",\"Cabin\",\"Name\",\"Ticket\"]\n",
    "df_test.drop(col_to_drop,axis=1,inplace=True)"
   ]
  },
  {
   "cell_type": "code",
   "execution_count": 38,
   "id": "40d3615b",
   "metadata": {
    "execution": {
     "iopub.execute_input": "2024-01-21T15:36:38.065652Z",
     "iopub.status.busy": "2024-01-21T15:36:38.065250Z",
     "iopub.status.idle": "2024-01-21T15:36:38.073446Z",
     "shell.execute_reply": "2024-01-21T15:36:38.072395Z"
    },
    "papermill": {
     "duration": 0.033433,
     "end_time": "2024-01-21T15:36:38.075695",
     "exception": false,
     "start_time": "2024-01-21T15:36:38.042262",
     "status": "completed"
    },
    "tags": []
   },
   "outputs": [
    {
     "data": {
      "text/plain": [
       "Pclass       0\n",
       "Sex          0\n",
       "Age         86\n",
       "SibSp        0\n",
       "Parch        0\n",
       "Fare         1\n",
       "Embarked     0\n",
       "dtype: int64"
      ]
     },
     "execution_count": 38,
     "metadata": {},
     "output_type": "execute_result"
    }
   ],
   "source": [
    "df_test.isnull().sum()"
   ]
  },
  {
   "cell_type": "code",
   "execution_count": 39,
   "id": "ec04206f",
   "metadata": {
    "execution": {
     "iopub.execute_input": "2024-01-21T15:36:38.119547Z",
     "iopub.status.busy": "2024-01-21T15:36:38.118928Z",
     "iopub.status.idle": "2024-01-21T15:36:38.125302Z",
     "shell.execute_reply": "2024-01-21T15:36:38.124199Z"
    },
    "papermill": {
     "duration": 0.030734,
     "end_time": "2024-01-21T15:36:38.127398",
     "exception": false,
     "start_time": "2024-01-21T15:36:38.096664",
     "status": "completed"
    },
    "tags": []
   },
   "outputs": [],
   "source": [
    "mean = df_test['Age'].mean()\n",
    "std  = df_test[\"Age\"].std() \n",
    "is_null = df_test[\"Age\"].isnull().sum()"
   ]
  },
  {
   "cell_type": "code",
   "execution_count": 40,
   "id": "c97dd767",
   "metadata": {
    "execution": {
     "iopub.execute_input": "2024-01-21T15:36:38.172820Z",
     "iopub.status.busy": "2024-01-21T15:36:38.172425Z",
     "iopub.status.idle": "2024-01-21T15:36:38.176899Z",
     "shell.execute_reply": "2024-01-21T15:36:38.176156Z"
    },
    "papermill": {
     "duration": 0.029224,
     "end_time": "2024-01-21T15:36:38.178773",
     "exception": false,
     "start_time": "2024-01-21T15:36:38.149549",
     "status": "completed"
    },
    "tags": []
   },
   "outputs": [],
   "source": [
    "rand_age = np.random.randint(mean-std,mean+std,size=is_null)"
   ]
  },
  {
   "cell_type": "code",
   "execution_count": 41,
   "id": "acf9ed88",
   "metadata": {
    "execution": {
     "iopub.execute_input": "2024-01-21T15:36:38.222986Z",
     "iopub.status.busy": "2024-01-21T15:36:38.222594Z",
     "iopub.status.idle": "2024-01-21T15:36:38.228644Z",
     "shell.execute_reply": "2024-01-21T15:36:38.227602Z"
    },
    "papermill": {
     "duration": 0.030934,
     "end_time": "2024-01-21T15:36:38.230871",
     "exception": false,
     "start_time": "2024-01-21T15:36:38.199937",
     "status": "completed"
    },
    "tags": []
   },
   "outputs": [],
   "source": [
    "dummy_age = df_test[\"Age\"].copy()\n",
    "dummy_age[np.isnan(dummy_age)] = rand_age\n",
    "df_test[\"Age\"] = dummy_age"
   ]
  },
  {
   "cell_type": "code",
   "execution_count": 42,
   "id": "bfa6f66b",
   "metadata": {
    "execution": {
     "iopub.execute_input": "2024-01-21T15:36:38.275474Z",
     "iopub.status.busy": "2024-01-21T15:36:38.275094Z",
     "iopub.status.idle": "2024-01-21T15:36:38.280638Z",
     "shell.execute_reply": "2024-01-21T15:36:38.279639Z"
    },
    "papermill": {
     "duration": 0.030642,
     "end_time": "2024-01-21T15:36:38.282676",
     "exception": false,
     "start_time": "2024-01-21T15:36:38.252034",
     "status": "completed"
    },
    "tags": []
   },
   "outputs": [],
   "source": [
    "mean_fare = df_test[\"Fare\"].mean()"
   ]
  },
  {
   "cell_type": "code",
   "execution_count": 43,
   "id": "20209802",
   "metadata": {
    "execution": {
     "iopub.execute_input": "2024-01-21T15:36:38.328158Z",
     "iopub.status.busy": "2024-01-21T15:36:38.327296Z",
     "iopub.status.idle": "2024-01-21T15:36:38.332814Z",
     "shell.execute_reply": "2024-01-21T15:36:38.331906Z"
    },
    "papermill": {
     "duration": 0.030264,
     "end_time": "2024-01-21T15:36:38.334922",
     "exception": false,
     "start_time": "2024-01-21T15:36:38.304658",
     "status": "completed"
    },
    "tags": []
   },
   "outputs": [],
   "source": [
    "df_test[\"Fare\"] = df_test[\"Fare\"].fillna(mean_fare)"
   ]
  },
  {
   "cell_type": "code",
   "execution_count": 44,
   "id": "02c579e3",
   "metadata": {
    "execution": {
     "iopub.execute_input": "2024-01-21T15:36:38.379698Z",
     "iopub.status.busy": "2024-01-21T15:36:38.379296Z",
     "iopub.status.idle": "2024-01-21T15:36:38.387830Z",
     "shell.execute_reply": "2024-01-21T15:36:38.386783Z"
    },
    "papermill": {
     "duration": 0.034139,
     "end_time": "2024-01-21T15:36:38.389999",
     "exception": false,
     "start_time": "2024-01-21T15:36:38.355860",
     "status": "completed"
    },
    "tags": []
   },
   "outputs": [
    {
     "data": {
      "text/plain": [
       "Pclass      0\n",
       "Sex         0\n",
       "Age         0\n",
       "SibSp       0\n",
       "Parch       0\n",
       "Fare        0\n",
       "Embarked    0\n",
       "dtype: int64"
      ]
     },
     "execution_count": 44,
     "metadata": {},
     "output_type": "execute_result"
    }
   ],
   "source": [
    "df_test.isnull().sum()"
   ]
  },
  {
   "cell_type": "code",
   "execution_count": 45,
   "id": "ef20896e",
   "metadata": {
    "execution": {
     "iopub.execute_input": "2024-01-21T15:36:38.434622Z",
     "iopub.status.busy": "2024-01-21T15:36:38.434200Z",
     "iopub.status.idle": "2024-01-21T15:36:38.440361Z",
     "shell.execute_reply": "2024-01-21T15:36:38.439301Z"
    },
    "papermill": {
     "duration": 0.030845,
     "end_time": "2024-01-21T15:36:38.442464",
     "exception": false,
     "start_time": "2024-01-21T15:36:38.411619",
     "status": "completed"
    },
    "tags": []
   },
   "outputs": [],
   "source": [
    "genders = {\"male\":0,\"female\":1}\n",
    "df_test[\"Sex\"] = df_test[\"Sex\"].map(genders)"
   ]
  },
  {
   "cell_type": "code",
   "execution_count": 46,
   "id": "d7af704b",
   "metadata": {
    "execution": {
     "iopub.execute_input": "2024-01-21T15:36:38.487306Z",
     "iopub.status.busy": "2024-01-21T15:36:38.486552Z",
     "iopub.status.idle": "2024-01-21T15:36:38.491894Z",
     "shell.execute_reply": "2024-01-21T15:36:38.491234Z"
    },
    "papermill": {
     "duration": 0.029834,
     "end_time": "2024-01-21T15:36:38.493785",
     "exception": false,
     "start_time": "2024-01-21T15:36:38.463951",
     "status": "completed"
    },
    "tags": []
   },
   "outputs": [],
   "source": [
    "ports = {'S':0,'C':1,'Q':2}\n",
    "df_test[\"Embarked\"] = df_test[\"Embarked\"].map(ports)"
   ]
  },
  {
   "cell_type": "code",
   "execution_count": 47,
   "id": "0e2be4e5",
   "metadata": {
    "execution": {
     "iopub.execute_input": "2024-01-21T15:36:38.538477Z",
     "iopub.status.busy": "2024-01-21T15:36:38.538105Z",
     "iopub.status.idle": "2024-01-21T15:36:38.549561Z",
     "shell.execute_reply": "2024-01-21T15:36:38.548823Z"
    },
    "papermill": {
     "duration": 0.036311,
     "end_time": "2024-01-21T15:36:38.551447",
     "exception": false,
     "start_time": "2024-01-21T15:36:38.515136",
     "status": "completed"
    },
    "tags": []
   },
   "outputs": [
    {
     "data": {
      "text/html": [
       "<div>\n",
       "<style scoped>\n",
       "    .dataframe tbody tr th:only-of-type {\n",
       "        vertical-align: middle;\n",
       "    }\n",
       "\n",
       "    .dataframe tbody tr th {\n",
       "        vertical-align: top;\n",
       "    }\n",
       "\n",
       "    .dataframe thead th {\n",
       "        text-align: right;\n",
       "    }\n",
       "</style>\n",
       "<table border=\"1\" class=\"dataframe\">\n",
       "  <thead>\n",
       "    <tr style=\"text-align: right;\">\n",
       "      <th></th>\n",
       "      <th>Pclass</th>\n",
       "      <th>Sex</th>\n",
       "      <th>Age</th>\n",
       "      <th>SibSp</th>\n",
       "      <th>Parch</th>\n",
       "      <th>Fare</th>\n",
       "      <th>Embarked</th>\n",
       "    </tr>\n",
       "  </thead>\n",
       "  <tbody>\n",
       "    <tr>\n",
       "      <th>0</th>\n",
       "      <td>3</td>\n",
       "      <td>0</td>\n",
       "      <td>34.5</td>\n",
       "      <td>0</td>\n",
       "      <td>0</td>\n",
       "      <td>7.8292</td>\n",
       "      <td>2</td>\n",
       "    </tr>\n",
       "    <tr>\n",
       "      <th>1</th>\n",
       "      <td>3</td>\n",
       "      <td>1</td>\n",
       "      <td>47.0</td>\n",
       "      <td>1</td>\n",
       "      <td>0</td>\n",
       "      <td>7.0000</td>\n",
       "      <td>0</td>\n",
       "    </tr>\n",
       "    <tr>\n",
       "      <th>2</th>\n",
       "      <td>2</td>\n",
       "      <td>0</td>\n",
       "      <td>62.0</td>\n",
       "      <td>0</td>\n",
       "      <td>0</td>\n",
       "      <td>9.6875</td>\n",
       "      <td>2</td>\n",
       "    </tr>\n",
       "    <tr>\n",
       "      <th>3</th>\n",
       "      <td>3</td>\n",
       "      <td>0</td>\n",
       "      <td>27.0</td>\n",
       "      <td>0</td>\n",
       "      <td>0</td>\n",
       "      <td>8.6625</td>\n",
       "      <td>0</td>\n",
       "    </tr>\n",
       "    <tr>\n",
       "      <th>4</th>\n",
       "      <td>3</td>\n",
       "      <td>1</td>\n",
       "      <td>22.0</td>\n",
       "      <td>1</td>\n",
       "      <td>1</td>\n",
       "      <td>12.2875</td>\n",
       "      <td>0</td>\n",
       "    </tr>\n",
       "  </tbody>\n",
       "</table>\n",
       "</div>"
      ],
      "text/plain": [
       "   Pclass  Sex   Age  SibSp  Parch     Fare  Embarked\n",
       "0       3    0  34.5      0      0   7.8292         2\n",
       "1       3    1  47.0      1      0   7.0000         0\n",
       "2       2    0  62.0      0      0   9.6875         2\n",
       "3       3    0  27.0      0      0   8.6625         0\n",
       "4       3    1  22.0      1      1  12.2875         0"
      ]
     },
     "execution_count": 47,
     "metadata": {},
     "output_type": "execute_result"
    }
   ],
   "source": [
    "df_test.head()"
   ]
  },
  {
   "cell_type": "markdown",
   "id": "93c58297",
   "metadata": {
    "papermill": {
     "duration": 0.021073,
     "end_time": "2024-01-21T15:36:38.594393",
     "exception": false,
     "start_time": "2024-01-21T15:36:38.573320",
     "status": "completed"
    },
    "tags": []
   },
   "source": [
    "### Splitting the Data"
   ]
  },
  {
   "cell_type": "code",
   "execution_count": 48,
   "id": "81fac0a0",
   "metadata": {
    "execution": {
     "iopub.execute_input": "2024-01-21T15:36:38.639300Z",
     "iopub.status.busy": "2024-01-21T15:36:38.638886Z",
     "iopub.status.idle": "2024-01-21T15:36:38.645480Z",
     "shell.execute_reply": "2024-01-21T15:36:38.644454Z"
    },
    "papermill": {
     "duration": 0.031303,
     "end_time": "2024-01-21T15:36:38.647372",
     "exception": false,
     "start_time": "2024-01-21T15:36:38.616069",
     "status": "completed"
    },
    "tags": []
   },
   "outputs": [],
   "source": [
    "x_train = df_train.drop(df_train.columns[[0]],axis=1)\n",
    "y_train = df_train[\"Survived\"]"
   ]
  },
  {
   "cell_type": "markdown",
   "id": "36eb84fe",
   "metadata": {
    "papermill": {
     "duration": 0.020855,
     "end_time": "2024-01-21T15:36:38.689631",
     "exception": false,
     "start_time": "2024-01-21T15:36:38.668776",
     "status": "completed"
    },
    "tags": []
   },
   "source": [
    "### Scaling the Data"
   ]
  },
  {
   "cell_type": "code",
   "execution_count": 49,
   "id": "e1055aa3",
   "metadata": {
    "execution": {
     "iopub.execute_input": "2024-01-21T15:36:38.734064Z",
     "iopub.status.busy": "2024-01-21T15:36:38.733691Z",
     "iopub.status.idle": "2024-01-21T15:36:38.743295Z",
     "shell.execute_reply": "2024-01-21T15:36:38.742225Z"
    },
    "papermill": {
     "duration": 0.034263,
     "end_time": "2024-01-21T15:36:38.745541",
     "exception": false,
     "start_time": "2024-01-21T15:36:38.711278",
     "status": "completed"
    },
    "tags": []
   },
   "outputs": [],
   "source": [
    "from sklearn.preprocessing import StandardScaler\n",
    "sc_x =StandardScaler()\n",
    "x_train = sc_x.fit_transform(x_train)"
   ]
  },
  {
   "cell_type": "code",
   "execution_count": 50,
   "id": "5cb65d81",
   "metadata": {
    "execution": {
     "iopub.execute_input": "2024-01-21T15:36:38.791126Z",
     "iopub.status.busy": "2024-01-21T15:36:38.790760Z",
     "iopub.status.idle": "2024-01-21T15:36:38.797267Z",
     "shell.execute_reply": "2024-01-21T15:36:38.796516Z"
    },
    "papermill": {
     "duration": 0.032151,
     "end_time": "2024-01-21T15:36:38.799126",
     "exception": false,
     "start_time": "2024-01-21T15:36:38.766975",
     "status": "completed"
    },
    "tags": []
   },
   "outputs": [],
   "source": [
    "# Scaling the test data\n",
    "x_test = sc_x.transform(df_test)"
   ]
  },
  {
   "cell_type": "markdown",
   "id": "fe106861",
   "metadata": {
    "papermill": {
     "duration": 0.021136,
     "end_time": "2024-01-21T15:36:38.841815",
     "exception": false,
     "start_time": "2024-01-21T15:36:38.820679",
     "status": "completed"
    },
    "tags": []
   },
   "source": [
    "### Classification"
   ]
  },
  {
   "cell_type": "code",
   "execution_count": 51,
   "id": "47eaa28e",
   "metadata": {
    "execution": {
     "iopub.execute_input": "2024-01-21T15:36:38.886897Z",
     "iopub.status.busy": "2024-01-21T15:36:38.886407Z",
     "iopub.status.idle": "2024-01-21T15:36:38.891359Z",
     "shell.execute_reply": "2024-01-21T15:36:38.890346Z"
    },
    "papermill": {
     "duration": 0.030172,
     "end_time": "2024-01-21T15:36:38.893432",
     "exception": false,
     "start_time": "2024-01-21T15:36:38.863260",
     "status": "completed"
    },
    "tags": []
   },
   "outputs": [],
   "source": [
    "logreg        = LogisticRegression()\n",
    "svc_classifer = SVC()\n",
    "dt_classifier = DecisionTreeClassifier()\n",
    "knn_classifier= KNeighborsClassifier(5)\n",
    "rf_classifier = RandomForestClassifier(n_estimators=1000)"
   ]
  },
  {
   "cell_type": "code",
   "execution_count": 52,
   "id": "8f5a3028",
   "metadata": {
    "execution": {
     "iopub.execute_input": "2024-01-21T15:36:38.940736Z",
     "iopub.status.busy": "2024-01-21T15:36:38.940312Z",
     "iopub.status.idle": "2024-01-21T15:36:41.145210Z",
     "shell.execute_reply": "2024-01-21T15:36:41.144140Z"
    },
    "papermill": {
     "duration": 2.232437,
     "end_time": "2024-01-21T15:36:41.147576",
     "exception": false,
     "start_time": "2024-01-21T15:36:38.915139",
     "status": "completed"
    },
    "tags": []
   },
   "outputs": [
    {
     "data": {
      "text/html": [
       "<style>#sk-container-id-1 {color: black;background-color: white;}#sk-container-id-1 pre{padding: 0;}#sk-container-id-1 div.sk-toggleable {background-color: white;}#sk-container-id-1 label.sk-toggleable__label {cursor: pointer;display: block;width: 100%;margin-bottom: 0;padding: 0.3em;box-sizing: border-box;text-align: center;}#sk-container-id-1 label.sk-toggleable__label-arrow:before {content: \"▸\";float: left;margin-right: 0.25em;color: #696969;}#sk-container-id-1 label.sk-toggleable__label-arrow:hover:before {color: black;}#sk-container-id-1 div.sk-estimator:hover label.sk-toggleable__label-arrow:before {color: black;}#sk-container-id-1 div.sk-toggleable__content {max-height: 0;max-width: 0;overflow: hidden;text-align: left;background-color: #f0f8ff;}#sk-container-id-1 div.sk-toggleable__content pre {margin: 0.2em;color: black;border-radius: 0.25em;background-color: #f0f8ff;}#sk-container-id-1 input.sk-toggleable__control:checked~div.sk-toggleable__content {max-height: 200px;max-width: 100%;overflow: auto;}#sk-container-id-1 input.sk-toggleable__control:checked~label.sk-toggleable__label-arrow:before {content: \"▾\";}#sk-container-id-1 div.sk-estimator input.sk-toggleable__control:checked~label.sk-toggleable__label {background-color: #d4ebff;}#sk-container-id-1 div.sk-label input.sk-toggleable__control:checked~label.sk-toggleable__label {background-color: #d4ebff;}#sk-container-id-1 input.sk-hidden--visually {border: 0;clip: rect(1px 1px 1px 1px);clip: rect(1px, 1px, 1px, 1px);height: 1px;margin: -1px;overflow: hidden;padding: 0;position: absolute;width: 1px;}#sk-container-id-1 div.sk-estimator {font-family: monospace;background-color: #f0f8ff;border: 1px dotted black;border-radius: 0.25em;box-sizing: border-box;margin-bottom: 0.5em;}#sk-container-id-1 div.sk-estimator:hover {background-color: #d4ebff;}#sk-container-id-1 div.sk-parallel-item::after {content: \"\";width: 100%;border-bottom: 1px solid gray;flex-grow: 1;}#sk-container-id-1 div.sk-label:hover label.sk-toggleable__label {background-color: #d4ebff;}#sk-container-id-1 div.sk-serial::before {content: \"\";position: absolute;border-left: 1px solid gray;box-sizing: border-box;top: 0;bottom: 0;left: 50%;z-index: 0;}#sk-container-id-1 div.sk-serial {display: flex;flex-direction: column;align-items: center;background-color: white;padding-right: 0.2em;padding-left: 0.2em;position: relative;}#sk-container-id-1 div.sk-item {position: relative;z-index: 1;}#sk-container-id-1 div.sk-parallel {display: flex;align-items: stretch;justify-content: center;background-color: white;position: relative;}#sk-container-id-1 div.sk-item::before, #sk-container-id-1 div.sk-parallel-item::before {content: \"\";position: absolute;border-left: 1px solid gray;box-sizing: border-box;top: 0;bottom: 0;left: 50%;z-index: -1;}#sk-container-id-1 div.sk-parallel-item {display: flex;flex-direction: column;z-index: 1;position: relative;background-color: white;}#sk-container-id-1 div.sk-parallel-item:first-child::after {align-self: flex-end;width: 50%;}#sk-container-id-1 div.sk-parallel-item:last-child::after {align-self: flex-start;width: 50%;}#sk-container-id-1 div.sk-parallel-item:only-child::after {width: 0;}#sk-container-id-1 div.sk-dashed-wrapped {border: 1px dashed gray;margin: 0 0.4em 0.5em 0.4em;box-sizing: border-box;padding-bottom: 0.4em;background-color: white;}#sk-container-id-1 div.sk-label label {font-family: monospace;font-weight: bold;display: inline-block;line-height: 1.2em;}#sk-container-id-1 div.sk-label-container {text-align: center;}#sk-container-id-1 div.sk-container {/* jupyter's `normalize.less` sets `[hidden] { display: none; }` but bootstrap.min.css set `[hidden] { display: none !important; }` so we also need the `!important` here to be able to override the default hidden behavior on the sphinx rendered scikit-learn.org. See: https://github.com/scikit-learn/scikit-learn/issues/21755 */display: inline-block !important;position: relative;}#sk-container-id-1 div.sk-text-repr-fallback {display: none;}</style><div id=\"sk-container-id-1\" class=\"sk-top-container\"><div class=\"sk-text-repr-fallback\"><pre>RandomForestClassifier(n_estimators=1000)</pre><b>In a Jupyter environment, please rerun this cell to show the HTML representation or trust the notebook. <br />On GitHub, the HTML representation is unable to render, please try loading this page with nbviewer.org.</b></div><div class=\"sk-container\" hidden><div class=\"sk-item\"><div class=\"sk-estimator sk-toggleable\"><input class=\"sk-toggleable__control sk-hidden--visually\" id=\"sk-estimator-id-1\" type=\"checkbox\" checked><label for=\"sk-estimator-id-1\" class=\"sk-toggleable__label sk-toggleable__label-arrow\">RandomForestClassifier</label><div class=\"sk-toggleable__content\"><pre>RandomForestClassifier(n_estimators=1000)</pre></div></div></div></div></div>"
      ],
      "text/plain": [
       "RandomForestClassifier(n_estimators=1000)"
      ]
     },
     "execution_count": 52,
     "metadata": {},
     "output_type": "execute_result"
    }
   ],
   "source": [
    "logreg.fit(x_train,y_train)\n",
    "svc_classifer.fit(x_train,y_train)\n",
    "dt_classifier.fit(x_train,y_train)\n",
    "knn_classifier.fit(x_train,y_train)\n",
    "rf_classifier.fit(x_train,y_train)"
   ]
  },
  {
   "cell_type": "code",
   "execution_count": 53,
   "id": "d6daa63a",
   "metadata": {
    "execution": {
     "iopub.execute_input": "2024-01-21T15:36:41.195386Z",
     "iopub.status.busy": "2024-01-21T15:36:41.194980Z",
     "iopub.status.idle": "2024-01-21T15:36:41.345948Z",
     "shell.execute_reply": "2024-01-21T15:36:41.344880Z"
    },
    "papermill": {
     "duration": 0.177638,
     "end_time": "2024-01-21T15:36:41.348479",
     "exception": false,
     "start_time": "2024-01-21T15:36:41.170841",
     "status": "completed"
    },
    "tags": []
   },
   "outputs": [],
   "source": [
    "logreg_ypred           = logreg.predict(x_test)\n",
    "svc_classifier_ypred   = svc_classifer.predict(x_test)\n",
    "dt_classifier_ypred    = dt_classifier.predict(x_test)\n",
    "knn_classifier_ypred   = knn_classifier.predict(x_test)\n",
    "rf_classifier_ypred    = rf_classifier.predict(x_test)"
   ]
  },
  {
   "cell_type": "code",
   "execution_count": 54,
   "id": "39dcf994",
   "metadata": {
    "execution": {
     "iopub.execute_input": "2024-01-21T15:36:41.396481Z",
     "iopub.status.busy": "2024-01-21T15:36:41.396083Z",
     "iopub.status.idle": "2024-01-21T15:36:41.400608Z",
     "shell.execute_reply": "2024-01-21T15:36:41.399649Z"
    },
    "papermill": {
     "duration": 0.030957,
     "end_time": "2024-01-21T15:36:41.402508",
     "exception": false,
     "start_time": "2024-01-21T15:36:41.371551",
     "status": "completed"
    },
    "tags": []
   },
   "outputs": [],
   "source": [
    "# To predict the performance of each model \n",
    "# from sklearn.metrics import accuracy_score\n",
    "\n",
    "# logreg_acc           = accuracy_score(y_test,logreg_ypred)\n",
    "# svc_classifier_acc   = accuracy_score(y_test,svc_classifer_ypred)\n",
    "# dt_classifier_acc    = accuracy_score(y_test,dt_classifier_ypred)\n",
    "# knn_classifier_acc   = accuracy_score(y_test,knn_classifier_ypred)\n",
    "# rf_classifier_acc    = accuracy_score(y_test,rf_classifier_ypred)"
   ]
  },
  {
   "cell_type": "code",
   "execution_count": 55,
   "id": "af8166c2",
   "metadata": {
    "execution": {
     "iopub.execute_input": "2024-01-21T15:36:41.448423Z",
     "iopub.status.busy": "2024-01-21T15:36:41.447803Z",
     "iopub.status.idle": "2024-01-21T15:36:41.458554Z",
     "shell.execute_reply": "2024-01-21T15:36:41.457654Z"
    },
    "papermill": {
     "duration": 0.036608,
     "end_time": "2024-01-21T15:36:41.461006",
     "exception": false,
     "start_time": "2024-01-21T15:36:41.424398",
     "status": "completed"
    },
    "tags": []
   },
   "outputs": [],
   "source": [
    "df = pd.read_csv(\"/kaggle/input/titanic/gender_submission.csv\")"
   ]
  },
  {
   "cell_type": "code",
   "execution_count": null,
   "id": "b8ff1832",
   "metadata": {
    "papermill": {
     "duration": 0.021962,
     "end_time": "2024-01-21T15:36:41.505745",
     "exception": false,
     "start_time": "2024-01-21T15:36:41.483783",
     "status": "completed"
    },
    "tags": []
   },
   "outputs": [],
   "source": []
  }
 ],
 "metadata": {
  "kaggle": {
   "accelerator": "none",
   "dataSources": [
    {
     "databundleVersionId": 26502,
     "sourceId": 3136,
     "sourceType": "competition"
    }
   ],
   "dockerImageVersionId": 30635,
   "isGpuEnabled": false,
   "isInternetEnabled": true,
   "language": "python",
   "sourceType": "notebook"
  },
  "kernelspec": {
   "display_name": "Python 3",
   "language": "python",
   "name": "python3"
  },
  "language_info": {
   "codemirror_mode": {
    "name": "ipython",
    "version": 3
   },
   "file_extension": ".py",
   "mimetype": "text/x-python",
   "name": "python",
   "nbconvert_exporter": "python",
   "pygments_lexer": "ipython3",
   "version": "3.10.12"
  },
  "papermill": {
   "default_parameters": {},
   "duration": 18.212479,
   "end_time": "2024-01-21T15:36:42.248384",
   "environment_variables": {},
   "exception": null,
   "input_path": "__notebook__.ipynb",
   "output_path": "__notebook__.ipynb",
   "parameters": {},
   "start_time": "2024-01-21T15:36:24.035905",
   "version": "2.4.0"
  }
 },
 "nbformat": 4,
 "nbformat_minor": 5
}
