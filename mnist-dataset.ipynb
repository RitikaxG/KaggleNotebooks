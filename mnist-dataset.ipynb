{
 "cells": [
  {
   "cell_type": "code",
   "execution_count": 1,
   "id": "d60ab44d",
   "metadata": {
    "_cell_guid": "b1076dfc-b9ad-4769-8c92-a6c4dae69d19",
    "_uuid": "8f2839f25d086af736a60e9eeb907d3b93b6e0e5",
    "execution": {
     "iopub.execute_input": "2024-01-23T09:15:48.197518Z",
     "iopub.status.busy": "2024-01-23T09:15:48.196737Z",
     "iopub.status.idle": "2024-01-23T09:15:48.213796Z",
     "shell.execute_reply": "2024-01-23T09:15:48.211926Z"
    },
    "papermill": {
     "duration": 0.030778,
     "end_time": "2024-01-23T09:15:48.217689",
     "exception": false,
     "start_time": "2024-01-23T09:15:48.186911",
     "status": "completed"
    },
    "tags": []
   },
   "outputs": [
    {
     "name": "stdout",
     "output_type": "stream",
     "text": [
      "/kaggle/input/digit-recognizer/sample_submission.csv\n",
      "/kaggle/input/digit-recognizer/train.csv\n",
      "/kaggle/input/digit-recognizer/test.csv\n"
     ]
    }
   ],
   "source": [
    "import os\n",
    "for dirname, _, filenames in os.walk('/kaggle/input'):\n",
    "    for filename in filenames:\n",
    "        print(os.path.join(dirname, filename))"
   ]
  },
  {
   "cell_type": "markdown",
   "id": "e6af6b60",
   "metadata": {
    "papermill": {
     "duration": 0.005933,
     "end_time": "2024-01-23T09:15:48.229806",
     "exception": false,
     "start_time": "2024-01-23T09:15:48.223873",
     "status": "completed"
    },
    "tags": []
   },
   "source": [
    "### Importing libraries"
   ]
  },
  {
   "cell_type": "code",
   "execution_count": 2,
   "id": "eddc2084",
   "metadata": {
    "execution": {
     "iopub.execute_input": "2024-01-23T09:15:48.244517Z",
     "iopub.status.busy": "2024-01-23T09:15:48.244041Z",
     "iopub.status.idle": "2024-01-23T09:15:48.656464Z",
     "shell.execute_reply": "2024-01-23T09:15:48.655293Z"
    },
    "papermill": {
     "duration": 0.423944,
     "end_time": "2024-01-23T09:15:48.659777",
     "exception": false,
     "start_time": "2024-01-23T09:15:48.235833",
     "status": "completed"
    },
    "tags": []
   },
   "outputs": [],
   "source": [
    "import pandas as pd \n",
    "import numpy as np\n",
    "import matplotlib.pyplot as plt"
   ]
  },
  {
   "cell_type": "code",
   "execution_count": 3,
   "id": "eb5ffa50",
   "metadata": {
    "execution": {
     "iopub.execute_input": "2024-01-23T09:15:48.676370Z",
     "iopub.status.busy": "2024-01-23T09:15:48.675870Z",
     "iopub.status.idle": "2024-01-23T09:15:54.864407Z",
     "shell.execute_reply": "2024-01-23T09:15:54.862626Z"
    },
    "papermill": {
     "duration": 6.20079,
     "end_time": "2024-01-23T09:15:54.867892",
     "exception": false,
     "start_time": "2024-01-23T09:15:48.667102",
     "status": "completed"
    },
    "tags": []
   },
   "outputs": [],
   "source": [
    "train = pd.read_csv(\"/kaggle/input/digit-recognizer/train.csv\")\n",
    "test  = pd.read_csv(\"/kaggle/input/digit-recognizer/test.csv\")"
   ]
  },
  {
   "cell_type": "code",
   "execution_count": 4,
   "id": "3174371f",
   "metadata": {
    "execution": {
     "iopub.execute_input": "2024-01-23T09:15:54.885073Z",
     "iopub.status.busy": "2024-01-23T09:15:54.884646Z",
     "iopub.status.idle": "2024-01-23T09:15:54.924648Z",
     "shell.execute_reply": "2024-01-23T09:15:54.923245Z"
    },
    "papermill": {
     "duration": 0.052486,
     "end_time": "2024-01-23T09:15:54.927314",
     "exception": false,
     "start_time": "2024-01-23T09:15:54.874828",
     "status": "completed"
    },
    "tags": []
   },
   "outputs": [
    {
     "data": {
      "text/html": [
       "<div>\n",
       "<style scoped>\n",
       "    .dataframe tbody tr th:only-of-type {\n",
       "        vertical-align: middle;\n",
       "    }\n",
       "\n",
       "    .dataframe tbody tr th {\n",
       "        vertical-align: top;\n",
       "    }\n",
       "\n",
       "    .dataframe thead th {\n",
       "        text-align: right;\n",
       "    }\n",
       "</style>\n",
       "<table border=\"1\" class=\"dataframe\">\n",
       "  <thead>\n",
       "    <tr style=\"text-align: right;\">\n",
       "      <th></th>\n",
       "      <th>label</th>\n",
       "      <th>pixel0</th>\n",
       "      <th>pixel1</th>\n",
       "      <th>pixel2</th>\n",
       "      <th>pixel3</th>\n",
       "      <th>pixel4</th>\n",
       "      <th>pixel5</th>\n",
       "      <th>pixel6</th>\n",
       "      <th>pixel7</th>\n",
       "      <th>pixel8</th>\n",
       "      <th>...</th>\n",
       "      <th>pixel774</th>\n",
       "      <th>pixel775</th>\n",
       "      <th>pixel776</th>\n",
       "      <th>pixel777</th>\n",
       "      <th>pixel778</th>\n",
       "      <th>pixel779</th>\n",
       "      <th>pixel780</th>\n",
       "      <th>pixel781</th>\n",
       "      <th>pixel782</th>\n",
       "      <th>pixel783</th>\n",
       "    </tr>\n",
       "  </thead>\n",
       "  <tbody>\n",
       "    <tr>\n",
       "      <th>0</th>\n",
       "      <td>1</td>\n",
       "      <td>0</td>\n",
       "      <td>0</td>\n",
       "      <td>0</td>\n",
       "      <td>0</td>\n",
       "      <td>0</td>\n",
       "      <td>0</td>\n",
       "      <td>0</td>\n",
       "      <td>0</td>\n",
       "      <td>0</td>\n",
       "      <td>...</td>\n",
       "      <td>0</td>\n",
       "      <td>0</td>\n",
       "      <td>0</td>\n",
       "      <td>0</td>\n",
       "      <td>0</td>\n",
       "      <td>0</td>\n",
       "      <td>0</td>\n",
       "      <td>0</td>\n",
       "      <td>0</td>\n",
       "      <td>0</td>\n",
       "    </tr>\n",
       "    <tr>\n",
       "      <th>1</th>\n",
       "      <td>0</td>\n",
       "      <td>0</td>\n",
       "      <td>0</td>\n",
       "      <td>0</td>\n",
       "      <td>0</td>\n",
       "      <td>0</td>\n",
       "      <td>0</td>\n",
       "      <td>0</td>\n",
       "      <td>0</td>\n",
       "      <td>0</td>\n",
       "      <td>...</td>\n",
       "      <td>0</td>\n",
       "      <td>0</td>\n",
       "      <td>0</td>\n",
       "      <td>0</td>\n",
       "      <td>0</td>\n",
       "      <td>0</td>\n",
       "      <td>0</td>\n",
       "      <td>0</td>\n",
       "      <td>0</td>\n",
       "      <td>0</td>\n",
       "    </tr>\n",
       "    <tr>\n",
       "      <th>2</th>\n",
       "      <td>1</td>\n",
       "      <td>0</td>\n",
       "      <td>0</td>\n",
       "      <td>0</td>\n",
       "      <td>0</td>\n",
       "      <td>0</td>\n",
       "      <td>0</td>\n",
       "      <td>0</td>\n",
       "      <td>0</td>\n",
       "      <td>0</td>\n",
       "      <td>...</td>\n",
       "      <td>0</td>\n",
       "      <td>0</td>\n",
       "      <td>0</td>\n",
       "      <td>0</td>\n",
       "      <td>0</td>\n",
       "      <td>0</td>\n",
       "      <td>0</td>\n",
       "      <td>0</td>\n",
       "      <td>0</td>\n",
       "      <td>0</td>\n",
       "    </tr>\n",
       "    <tr>\n",
       "      <th>3</th>\n",
       "      <td>4</td>\n",
       "      <td>0</td>\n",
       "      <td>0</td>\n",
       "      <td>0</td>\n",
       "      <td>0</td>\n",
       "      <td>0</td>\n",
       "      <td>0</td>\n",
       "      <td>0</td>\n",
       "      <td>0</td>\n",
       "      <td>0</td>\n",
       "      <td>...</td>\n",
       "      <td>0</td>\n",
       "      <td>0</td>\n",
       "      <td>0</td>\n",
       "      <td>0</td>\n",
       "      <td>0</td>\n",
       "      <td>0</td>\n",
       "      <td>0</td>\n",
       "      <td>0</td>\n",
       "      <td>0</td>\n",
       "      <td>0</td>\n",
       "    </tr>\n",
       "    <tr>\n",
       "      <th>4</th>\n",
       "      <td>0</td>\n",
       "      <td>0</td>\n",
       "      <td>0</td>\n",
       "      <td>0</td>\n",
       "      <td>0</td>\n",
       "      <td>0</td>\n",
       "      <td>0</td>\n",
       "      <td>0</td>\n",
       "      <td>0</td>\n",
       "      <td>0</td>\n",
       "      <td>...</td>\n",
       "      <td>0</td>\n",
       "      <td>0</td>\n",
       "      <td>0</td>\n",
       "      <td>0</td>\n",
       "      <td>0</td>\n",
       "      <td>0</td>\n",
       "      <td>0</td>\n",
       "      <td>0</td>\n",
       "      <td>0</td>\n",
       "      <td>0</td>\n",
       "    </tr>\n",
       "  </tbody>\n",
       "</table>\n",
       "<p>5 rows × 785 columns</p>\n",
       "</div>"
      ],
      "text/plain": [
       "   label  pixel0  pixel1  pixel2  pixel3  pixel4  pixel5  pixel6  pixel7  \\\n",
       "0      1       0       0       0       0       0       0       0       0   \n",
       "1      0       0       0       0       0       0       0       0       0   \n",
       "2      1       0       0       0       0       0       0       0       0   \n",
       "3      4       0       0       0       0       0       0       0       0   \n",
       "4      0       0       0       0       0       0       0       0       0   \n",
       "\n",
       "   pixel8  ...  pixel774  pixel775  pixel776  pixel777  pixel778  pixel779  \\\n",
       "0       0  ...         0         0         0         0         0         0   \n",
       "1       0  ...         0         0         0         0         0         0   \n",
       "2       0  ...         0         0         0         0         0         0   \n",
       "3       0  ...         0         0         0         0         0         0   \n",
       "4       0  ...         0         0         0         0         0         0   \n",
       "\n",
       "   pixel780  pixel781  pixel782  pixel783  \n",
       "0         0         0         0         0  \n",
       "1         0         0         0         0  \n",
       "2         0         0         0         0  \n",
       "3         0         0         0         0  \n",
       "4         0         0         0         0  \n",
       "\n",
       "[5 rows x 785 columns]"
      ]
     },
     "execution_count": 4,
     "metadata": {},
     "output_type": "execute_result"
    }
   ],
   "source": [
    "train.head()"
   ]
  },
  {
   "cell_type": "code",
   "execution_count": 5,
   "id": "ca638efc",
   "metadata": {
    "execution": {
     "iopub.execute_input": "2024-01-23T09:15:54.942687Z",
     "iopub.status.busy": "2024-01-23T09:15:54.942199Z",
     "iopub.status.idle": "2024-01-23T09:15:54.965014Z",
     "shell.execute_reply": "2024-01-23T09:15:54.963476Z"
    },
    "papermill": {
     "duration": 0.033788,
     "end_time": "2024-01-23T09:15:54.967748",
     "exception": false,
     "start_time": "2024-01-23T09:15:54.933960",
     "status": "completed"
    },
    "tags": []
   },
   "outputs": [
    {
     "data": {
      "text/html": [
       "<div>\n",
       "<style scoped>\n",
       "    .dataframe tbody tr th:only-of-type {\n",
       "        vertical-align: middle;\n",
       "    }\n",
       "\n",
       "    .dataframe tbody tr th {\n",
       "        vertical-align: top;\n",
       "    }\n",
       "\n",
       "    .dataframe thead th {\n",
       "        text-align: right;\n",
       "    }\n",
       "</style>\n",
       "<table border=\"1\" class=\"dataframe\">\n",
       "  <thead>\n",
       "    <tr style=\"text-align: right;\">\n",
       "      <th></th>\n",
       "      <th>pixel0</th>\n",
       "      <th>pixel1</th>\n",
       "      <th>pixel2</th>\n",
       "      <th>pixel3</th>\n",
       "      <th>pixel4</th>\n",
       "      <th>pixel5</th>\n",
       "      <th>pixel6</th>\n",
       "      <th>pixel7</th>\n",
       "      <th>pixel8</th>\n",
       "      <th>pixel9</th>\n",
       "      <th>...</th>\n",
       "      <th>pixel774</th>\n",
       "      <th>pixel775</th>\n",
       "      <th>pixel776</th>\n",
       "      <th>pixel777</th>\n",
       "      <th>pixel778</th>\n",
       "      <th>pixel779</th>\n",
       "      <th>pixel780</th>\n",
       "      <th>pixel781</th>\n",
       "      <th>pixel782</th>\n",
       "      <th>pixel783</th>\n",
       "    </tr>\n",
       "  </thead>\n",
       "  <tbody>\n",
       "    <tr>\n",
       "      <th>0</th>\n",
       "      <td>0</td>\n",
       "      <td>0</td>\n",
       "      <td>0</td>\n",
       "      <td>0</td>\n",
       "      <td>0</td>\n",
       "      <td>0</td>\n",
       "      <td>0</td>\n",
       "      <td>0</td>\n",
       "      <td>0</td>\n",
       "      <td>0</td>\n",
       "      <td>...</td>\n",
       "      <td>0</td>\n",
       "      <td>0</td>\n",
       "      <td>0</td>\n",
       "      <td>0</td>\n",
       "      <td>0</td>\n",
       "      <td>0</td>\n",
       "      <td>0</td>\n",
       "      <td>0</td>\n",
       "      <td>0</td>\n",
       "      <td>0</td>\n",
       "    </tr>\n",
       "    <tr>\n",
       "      <th>1</th>\n",
       "      <td>0</td>\n",
       "      <td>0</td>\n",
       "      <td>0</td>\n",
       "      <td>0</td>\n",
       "      <td>0</td>\n",
       "      <td>0</td>\n",
       "      <td>0</td>\n",
       "      <td>0</td>\n",
       "      <td>0</td>\n",
       "      <td>0</td>\n",
       "      <td>...</td>\n",
       "      <td>0</td>\n",
       "      <td>0</td>\n",
       "      <td>0</td>\n",
       "      <td>0</td>\n",
       "      <td>0</td>\n",
       "      <td>0</td>\n",
       "      <td>0</td>\n",
       "      <td>0</td>\n",
       "      <td>0</td>\n",
       "      <td>0</td>\n",
       "    </tr>\n",
       "    <tr>\n",
       "      <th>2</th>\n",
       "      <td>0</td>\n",
       "      <td>0</td>\n",
       "      <td>0</td>\n",
       "      <td>0</td>\n",
       "      <td>0</td>\n",
       "      <td>0</td>\n",
       "      <td>0</td>\n",
       "      <td>0</td>\n",
       "      <td>0</td>\n",
       "      <td>0</td>\n",
       "      <td>...</td>\n",
       "      <td>0</td>\n",
       "      <td>0</td>\n",
       "      <td>0</td>\n",
       "      <td>0</td>\n",
       "      <td>0</td>\n",
       "      <td>0</td>\n",
       "      <td>0</td>\n",
       "      <td>0</td>\n",
       "      <td>0</td>\n",
       "      <td>0</td>\n",
       "    </tr>\n",
       "    <tr>\n",
       "      <th>3</th>\n",
       "      <td>0</td>\n",
       "      <td>0</td>\n",
       "      <td>0</td>\n",
       "      <td>0</td>\n",
       "      <td>0</td>\n",
       "      <td>0</td>\n",
       "      <td>0</td>\n",
       "      <td>0</td>\n",
       "      <td>0</td>\n",
       "      <td>0</td>\n",
       "      <td>...</td>\n",
       "      <td>0</td>\n",
       "      <td>0</td>\n",
       "      <td>0</td>\n",
       "      <td>0</td>\n",
       "      <td>0</td>\n",
       "      <td>0</td>\n",
       "      <td>0</td>\n",
       "      <td>0</td>\n",
       "      <td>0</td>\n",
       "      <td>0</td>\n",
       "    </tr>\n",
       "    <tr>\n",
       "      <th>4</th>\n",
       "      <td>0</td>\n",
       "      <td>0</td>\n",
       "      <td>0</td>\n",
       "      <td>0</td>\n",
       "      <td>0</td>\n",
       "      <td>0</td>\n",
       "      <td>0</td>\n",
       "      <td>0</td>\n",
       "      <td>0</td>\n",
       "      <td>0</td>\n",
       "      <td>...</td>\n",
       "      <td>0</td>\n",
       "      <td>0</td>\n",
       "      <td>0</td>\n",
       "      <td>0</td>\n",
       "      <td>0</td>\n",
       "      <td>0</td>\n",
       "      <td>0</td>\n",
       "      <td>0</td>\n",
       "      <td>0</td>\n",
       "      <td>0</td>\n",
       "    </tr>\n",
       "  </tbody>\n",
       "</table>\n",
       "<p>5 rows × 784 columns</p>\n",
       "</div>"
      ],
      "text/plain": [
       "   pixel0  pixel1  pixel2  pixel3  pixel4  pixel5  pixel6  pixel7  pixel8  \\\n",
       "0       0       0       0       0       0       0       0       0       0   \n",
       "1       0       0       0       0       0       0       0       0       0   \n",
       "2       0       0       0       0       0       0       0       0       0   \n",
       "3       0       0       0       0       0       0       0       0       0   \n",
       "4       0       0       0       0       0       0       0       0       0   \n",
       "\n",
       "   pixel9  ...  pixel774  pixel775  pixel776  pixel777  pixel778  pixel779  \\\n",
       "0       0  ...         0         0         0         0         0         0   \n",
       "1       0  ...         0         0         0         0         0         0   \n",
       "2       0  ...         0         0         0         0         0         0   \n",
       "3       0  ...         0         0         0         0         0         0   \n",
       "4       0  ...         0         0         0         0         0         0   \n",
       "\n",
       "   pixel780  pixel781  pixel782  pixel783  \n",
       "0         0         0         0         0  \n",
       "1         0         0         0         0  \n",
       "2         0         0         0         0  \n",
       "3         0         0         0         0  \n",
       "4         0         0         0         0  \n",
       "\n",
       "[5 rows x 784 columns]"
      ]
     },
     "execution_count": 5,
     "metadata": {},
     "output_type": "execute_result"
    }
   ],
   "source": [
    "test.head()"
   ]
  },
  {
   "cell_type": "markdown",
   "id": "f8fbff68",
   "metadata": {
    "papermill": {
     "duration": 0.006551,
     "end_time": "2024-01-23T09:15:54.981302",
     "exception": false,
     "start_time": "2024-01-23T09:15:54.974751",
     "status": "completed"
    },
    "tags": []
   },
   "source": [
    "* Images : collection of pixels\n",
    "* Our dataset has 784 pixels = 28*28"
   ]
  },
  {
   "cell_type": "code",
   "execution_count": 6,
   "id": "64ddd6ae",
   "metadata": {
    "execution": {
     "iopub.execute_input": "2024-01-23T09:15:54.998710Z",
     "iopub.status.busy": "2024-01-23T09:15:54.998233Z",
     "iopub.status.idle": "2024-01-23T09:15:55.008217Z",
     "shell.execute_reply": "2024-01-23T09:15:55.006677Z"
    },
    "papermill": {
     "duration": 0.021839,
     "end_time": "2024-01-23T09:15:55.010782",
     "exception": false,
     "start_time": "2024-01-23T09:15:54.988943",
     "status": "completed"
    },
    "tags": []
   },
   "outputs": [
    {
     "data": {
      "text/plain": [
       "(42000, 785)"
      ]
     },
     "execution_count": 6,
     "metadata": {},
     "output_type": "execute_result"
    }
   ],
   "source": [
    "train.shape"
   ]
  },
  {
   "cell_type": "markdown",
   "id": "28964ca1",
   "metadata": {
    "papermill": {
     "duration": 0.006608,
     "end_time": "2024-01-23T09:15:55.024206",
     "exception": false,
     "start_time": "2024-01-23T09:15:55.017598",
     "status": "completed"
    },
    "tags": []
   },
   "source": [
    "There are 42000 images of different digits"
   ]
  },
  {
   "cell_type": "code",
   "execution_count": 7,
   "id": "763f8710",
   "metadata": {
    "execution": {
     "iopub.execute_input": "2024-01-23T09:15:55.040872Z",
     "iopub.status.busy": "2024-01-23T09:15:55.039956Z",
     "iopub.status.idle": "2024-01-23T09:15:55.052892Z",
     "shell.execute_reply": "2024-01-23T09:15:55.051050Z"
    },
    "papermill": {
     "duration": 0.024898,
     "end_time": "2024-01-23T09:15:55.056083",
     "exception": false,
     "start_time": "2024-01-23T09:15:55.031185",
     "status": "completed"
    },
    "tags": []
   },
   "outputs": [
    {
     "data": {
      "text/plain": [
       "(28000, 784)"
      ]
     },
     "execution_count": 7,
     "metadata": {},
     "output_type": "execute_result"
    }
   ],
   "source": [
    "test.shape"
   ]
  },
  {
   "cell_type": "code",
   "execution_count": 8,
   "id": "3f65cb7a",
   "metadata": {
    "execution": {
     "iopub.execute_input": "2024-01-23T09:15:55.076117Z",
     "iopub.status.busy": "2024-01-23T09:15:55.074297Z",
     "iopub.status.idle": "2024-01-23T09:15:55.381006Z",
     "shell.execute_reply": "2024-01-23T09:15:55.379737Z"
    },
    "papermill": {
     "duration": 0.319395,
     "end_time": "2024-01-23T09:15:55.384178",
     "exception": false,
     "start_time": "2024-01-23T09:15:55.064783",
     "status": "completed"
    },
    "tags": []
   },
   "outputs": [
    {
     "data": {
      "text/plain": [
       "<matplotlib.image.AxesImage at 0x7d828a2ae2f0>"
      ]
     },
     "execution_count": 8,
     "metadata": {},
     "output_type": "execute_result"
    },
    {
     "data": {
      "image/png": "[encoded data removed]",
      "text/plain": [
       "<Figure size 640x480 with 1 Axes>"
      ]
     },
     "metadata": {},
     "output_type": "display_data"
    }
   ],
   "source": [
    "# Converting array into 2-D matrix that can be shown in the form of image\n",
    "# Taking 3rd row and all columns (pixel values) except label\n",
    "num = np.array(train.iloc[3,1:]).reshape(28,28)\n",
    "plt.imshow(num)"
   ]
  },
  {
   "cell_type": "markdown",
   "id": "068b74c9",
   "metadata": {
    "papermill": {
     "duration": 0.00762,
     "end_time": "2024-01-23T09:15:55.399762",
     "exception": false,
     "start_time": "2024-01-23T09:15:55.392142",
     "status": "completed"
    },
    "tags": []
   },
   "source": [
    "### Images in Python\n",
    "An image can be classified into:\n",
    "1. RBG (coloured)\n",
    "2. GrayScale (Black & white)\n",
    "\n",
    "0 - 255 : 256 integers : 2^8 \n",
    "Virtually any colour can be represented as a combination of red, greed, blue with different intensity (proportions in the range of 0 to 255)\n",
    "\n",
    "Suppose, R G B => 3 channels\n",
    "* If a 28* 28 pixel size image is viewed in python its size will be 28 * 28 * 3\n",
    "\n",
    "* In a greyscale image, there would be only one channel : Its size in python would be 28* 28. Any pixel can assume a value from 0 to 255 where 0 : Complete white and 255 : complete black\n"
   ]
  },
  {
   "cell_type": "code",
   "execution_count": 9,
   "id": "cb19650f",
   "metadata": {
    "execution": {
     "iopub.execute_input": "2024-01-23T09:15:55.419297Z",
     "iopub.status.busy": "2024-01-23T09:15:55.418848Z",
     "iopub.status.idle": "2024-01-23T09:15:55.425848Z",
     "shell.execute_reply": "2024-01-23T09:15:55.424382Z"
    },
    "papermill": {
     "duration": 0.020873,
     "end_time": "2024-01-23T09:15:55.429099",
     "exception": false,
     "start_time": "2024-01-23T09:15:55.408226",
     "status": "completed"
    },
    "tags": []
   },
   "outputs": [],
   "source": [
    "arr = train.iloc[3,1:]"
   ]
  },
  {
   "cell_type": "code",
   "execution_count": 10,
   "id": "7723ef87",
   "metadata": {
    "execution": {
     "iopub.execute_input": "2024-01-23T09:15:55.447820Z",
     "iopub.status.busy": "2024-01-23T09:15:55.447422Z",
     "iopub.status.idle": "2024-01-23T09:15:55.704495Z",
     "shell.execute_reply": "2024-01-23T09:15:55.703065Z"
    },
    "papermill": {
     "duration": 0.269687,
     "end_time": "2024-01-23T09:15:55.707569",
     "exception": false,
     "start_time": "2024-01-23T09:15:55.437882",
     "status": "completed"
    },
    "tags": []
   },
   "outputs": [
    {
     "data": {
      "text/plain": [
       "(array([691.,   7.,  18.,   4.,   5.,   5.,   7.,  12.,   9.,  26.]),\n",
       " array([  0. ,  25.5,  51. ,  76.5, 102. , 127.5, 153. , 178.5, 204. ,\n",
       "        229.5, 255. ]),\n",
       " <BarContainer object of 10 artists>)"
      ]
     },
     "execution_count": 10,
     "metadata": {},
     "output_type": "execute_result"
    },
    {
     "data": {
      "image/png": "[encoded data removed]",
      "text/plain": [
       "<Figure size 640x480 with 1 Axes>"
      ]
     },
     "metadata": {},
     "output_type": "display_data"
    }
   ],
   "source": [
    "# Values are in the range of 0 to 255\n",
    "plt.hist(arr) "
   ]
  },
  {
   "cell_type": "code",
   "execution_count": 11,
   "id": "6646bbda",
   "metadata": {
    "execution": {
     "iopub.execute_input": "2024-01-23T09:15:55.728747Z",
     "iopub.status.busy": "2024-01-23T09:15:55.728245Z",
     "iopub.status.idle": "2024-01-23T09:15:55.735776Z",
     "shell.execute_reply": "2024-01-23T09:15:55.734418Z"
    },
    "papermill": {
     "duration": 0.022014,
     "end_time": "2024-01-23T09:15:55.738565",
     "exception": false,
     "start_time": "2024-01-23T09:15:55.716551",
     "status": "completed"
    },
    "tags": []
   },
   "outputs": [
    {
     "data": {
      "text/plain": [
       "255"
      ]
     },
     "execution_count": 11,
     "metadata": {},
     "output_type": "execute_result"
    }
   ],
   "source": [
    "max(arr)"
   ]
  },
  {
   "cell_type": "markdown",
   "id": "047a177f",
   "metadata": {
    "papermill": {
     "duration": 0.009276,
     "end_time": "2024-01-23T09:15:55.756103",
     "exception": false,
     "start_time": "2024-01-23T09:15:55.746827",
     "status": "completed"
    },
    "tags": []
   },
   "source": [
    "### Finding missing values in the dataset"
   ]
  },
  {
   "cell_type": "code",
   "execution_count": 12,
   "id": "c2c63a29",
   "metadata": {
    "execution": {
     "iopub.execute_input": "2024-01-23T09:15:55.777260Z",
     "iopub.status.busy": "2024-01-23T09:15:55.776537Z",
     "iopub.status.idle": "2024-01-23T09:15:55.813512Z",
     "shell.execute_reply": "2024-01-23T09:15:55.812285Z"
    },
    "papermill": {
     "duration": 0.051278,
     "end_time": "2024-01-23T09:15:55.816614",
     "exception": false,
     "start_time": "2024-01-23T09:15:55.765336",
     "status": "completed"
    },
    "tags": []
   },
   "outputs": [
    {
     "data": {
      "text/plain": [
       "label       0\n",
       "pixel0      0\n",
       "pixel1      0\n",
       "pixel2      0\n",
       "pixel3      0\n",
       "           ..\n",
       "pixel779    0\n",
       "pixel780    0\n",
       "pixel781    0\n",
       "pixel782    0\n",
       "pixel783    0\n",
       "Length: 785, dtype: int64"
      ]
     },
     "execution_count": 12,
     "metadata": {},
     "output_type": "execute_result"
    }
   ],
   "source": [
    "missing_val_count = train.isnull().sum()\n",
    "missing_val_count"
   ]
  },
  {
   "cell_type": "markdown",
   "id": "de11857d",
   "metadata": {
    "papermill": {
     "duration": 0.007701,
     "end_time": "2024-01-23T09:15:55.832845",
     "exception": false,
     "start_time": "2024-01-23T09:15:55.825144",
     "status": "completed"
    },
    "tags": []
   },
   "source": [
    "### Feature Engineering in Images\n",
    "1. Create new images by rotating, sheering (tilting the image by keeping the axis same), shifting, zoom, change the height\n",
    "2. By using Keras library, with function ImageDataGenerator : Takes input in the form of (a,x,y,z)\n",
    "\n",
    "x.shape = (a,x,y,z) = (42000,784) -> Reshape it into (42000,28,28,1) before feeding into ImageDataGenerator\n"
   ]
  },
  {
   "cell_type": "code",
   "execution_count": 13,
   "id": "d91e7093",
   "metadata": {
    "execution": {
     "iopub.execute_input": "2024-01-23T09:15:55.850420Z",
     "iopub.status.busy": "2024-01-23T09:15:55.850048Z",
     "iopub.status.idle": "2024-01-23T09:15:56.099814Z",
     "shell.execute_reply": "2024-01-23T09:15:56.098439Z"
    },
    "papermill": {
     "duration": 0.261793,
     "end_time": "2024-01-23T09:15:56.102659",
     "exception": false,
     "start_time": "2024-01-23T09:15:55.840866",
     "status": "completed"
    },
    "tags": []
   },
   "outputs": [],
   "source": [
    "x = np.array(train)\n",
    "y = np.array(test)\n",
    "X_train = x[:,1:]\n",
    "Y_train = x[:,0]\n",
    "X_test = y"
   ]
  },
  {
   "cell_type": "code",
   "execution_count": 14,
   "id": "67ad08cc",
   "metadata": {
    "execution": {
     "iopub.execute_input": "2024-01-23T09:15:56.121430Z",
     "iopub.status.busy": "2024-01-23T09:15:56.120604Z",
     "iopub.status.idle": "2024-01-23T09:16:10.426203Z",
     "shell.execute_reply": "2024-01-23T09:16:10.424947Z"
    },
    "papermill": {
     "duration": 14.318635,
     "end_time": "2024-01-23T09:16:10.429430",
     "exception": false,
     "start_time": "2024-01-23T09:15:56.110795",
     "status": "completed"
    },
    "tags": []
   },
   "outputs": [],
   "source": [
    "from keras.preprocessing.image import ImageDataGenerator\n",
    "# While reshaping a numpy array when we input -1, numpy will automatically figure out which value to put in there\n",
    "X_train = X_train.reshape(-1,28,28,1)"
   ]
  },
  {
   "cell_type": "code",
   "execution_count": 15,
   "id": "3b48b0bc",
   "metadata": {
    "execution": {
     "iopub.execute_input": "2024-01-23T09:16:10.448996Z",
     "iopub.status.busy": "2024-01-23T09:16:10.448263Z",
     "iopub.status.idle": "2024-01-23T09:16:10.613688Z",
     "shell.execute_reply": "2024-01-23T09:16:10.612342Z"
    },
    "papermill": {
     "duration": 0.178577,
     "end_time": "2024-01-23T09:16:10.616753",
     "exception": false,
     "start_time": "2024-01-23T09:16:10.438176",
     "status": "completed"
    },
    "tags": []
   },
   "outputs": [],
   "source": [
    "datagen = ImageDataGenerator(\n",
    "    # how much you want to rotate the image in degrees\n",
    "    rotation_range =15,\n",
    "    height_shift_range = 0.1,\n",
    "    shear_range = 0.1\n",
    ")\n",
    "datagen.fit(X_train)"
   ]
  },
  {
   "cell_type": "code",
   "execution_count": 16,
   "id": "eafa3c1c",
   "metadata": {
    "execution": {
     "iopub.execute_input": "2024-01-23T09:16:10.637184Z",
     "iopub.status.busy": "2024-01-23T09:16:10.636777Z",
     "iopub.status.idle": "2024-01-23T09:16:10.642194Z",
     "shell.execute_reply": "2024-01-23T09:16:10.640877Z"
    },
    "papermill": {
     "duration": 0.019272,
     "end_time": "2024-01-23T09:16:10.645015",
     "exception": false,
     "start_time": "2024-01-23T09:16:10.625743",
     "status": "completed"
    },
    "tags": []
   },
   "outputs": [],
   "source": [
    "# Reshaping X_train to original values\n",
    "X_train = X_train.reshape(-1,784)"
   ]
  },
  {
   "cell_type": "markdown",
   "id": "7a9203c7",
   "metadata": {
    "papermill": {
     "duration": 0.008106,
     "end_time": "2024-01-23T09:16:10.662672",
     "exception": false,
     "start_time": "2024-01-23T09:16:10.654566",
     "status": "completed"
    },
    "tags": []
   },
   "source": [
    "### Implementing KNN Algorithm"
   ]
  },
  {
   "cell_type": "code",
   "execution_count": 17,
   "id": "39a3b1b8",
   "metadata": {
    "execution": {
     "iopub.execute_input": "2024-01-23T09:16:10.683636Z",
     "iopub.status.busy": "2024-01-23T09:16:10.682582Z",
     "iopub.status.idle": "2024-01-23T09:16:12.242145Z",
     "shell.execute_reply": "2024-01-23T09:16:12.241014Z"
    },
    "papermill": {
     "duration": 1.573266,
     "end_time": "2024-01-23T09:16:12.244711",
     "exception": false,
     "start_time": "2024-01-23T09:16:10.671445",
     "status": "completed"
    },
    "tags": []
   },
   "outputs": [
    {
     "data": {
      "text/html": [
       "<style>#sk-container-id-1 {color: black;background-color: white;}#sk-container-id-1 pre{padding: 0;}#sk-container-id-1 div.sk-toggleable {background-color: white;}#sk-container-id-1 label.sk-toggleable__label {cursor: pointer;display: block;width: 100%;margin-bottom: 0;padding: 0.3em;box-sizing: border-box;text-align: center;}#sk-container-id-1 label.sk-toggleable__label-arrow:before {content: \"▸\";float: left;margin-right: 0.25em;color: #696969;}#sk-container-id-1 label.sk-toggleable__label-arrow:hover:before {color: black;}#sk-container-id-1 div.sk-estimator:hover label.sk-toggleable__label-arrow:before {color: black;}#sk-container-id-1 div.sk-toggleable__content {max-height: 0;max-width: 0;overflow: hidden;text-align: left;background-color: #f0f8ff;}#sk-container-id-1 div.sk-toggleable__content pre {margin: 0.2em;color: black;border-radius: 0.25em;background-color: #f0f8ff;}#sk-container-id-1 input.sk-toggleable__control:checked~div.sk-toggleable__content {max-height: 200px;max-width: 100%;overflow: auto;}#sk-container-id-1 input.sk-toggleable__control:checked~label.sk-toggleable__label-arrow:before {content: \"▾\";}#sk-container-id-1 div.sk-estimator input.sk-toggleable__control:checked~label.sk-toggleable__label {background-color: #d4ebff;}#sk-container-id-1 div.sk-label input.sk-toggleable__control:checked~label.sk-toggleable__label {background-color: #d4ebff;}#sk-container-id-1 input.sk-hidden--visually {border: 0;clip: rect(1px 1px 1px 1px);clip: rect(1px, 1px, 1px, 1px);height: 1px;margin: -1px;overflow: hidden;padding: 0;position: absolute;width: 1px;}#sk-container-id-1 div.sk-estimator {font-family: monospace;background-color: #f0f8ff;border: 1px dotted black;border-radius: 0.25em;box-sizing: border-box;margin-bottom: 0.5em;}#sk-container-id-1 div.sk-estimator:hover {background-color: #d4ebff;}#sk-container-id-1 div.sk-parallel-item::after {content: \"\";width: 100%;border-bottom: 1px solid gray;flex-grow: 1;}#sk-container-id-1 div.sk-label:hover label.sk-toggleable__label {background-color: #d4ebff;}#sk-container-id-1 div.sk-serial::before {content: \"\";position: absolute;border-left: 1px solid gray;box-sizing: border-box;top: 0;bottom: 0;left: 50%;z-index: 0;}#sk-container-id-1 div.sk-serial {display: flex;flex-direction: column;align-items: center;background-color: white;padding-right: 0.2em;padding-left: 0.2em;position: relative;}#sk-container-id-1 div.sk-item {position: relative;z-index: 1;}#sk-container-id-1 div.sk-parallel {display: flex;align-items: stretch;justify-content: center;background-color: white;position: relative;}#sk-container-id-1 div.sk-item::before, #sk-container-id-1 div.sk-parallel-item::before {content: \"\";position: absolute;border-left: 1px solid gray;box-sizing: border-box;top: 0;bottom: 0;left: 50%;z-index: -1;}#sk-container-id-1 div.sk-parallel-item {display: flex;flex-direction: column;z-index: 1;position: relative;background-color: white;}#sk-container-id-1 div.sk-parallel-item:first-child::after {align-self: flex-end;width: 50%;}#sk-container-id-1 div.sk-parallel-item:last-child::after {align-self: flex-start;width: 50%;}#sk-container-id-1 div.sk-parallel-item:only-child::after {width: 0;}#sk-container-id-1 div.sk-dashed-wrapped {border: 1px dashed gray;margin: 0 0.4em 0.5em 0.4em;box-sizing: border-box;padding-bottom: 0.4em;background-color: white;}#sk-container-id-1 div.sk-label label {font-family: monospace;font-weight: bold;display: inline-block;line-height: 1.2em;}#sk-container-id-1 div.sk-label-container {text-align: center;}#sk-container-id-1 div.sk-container {/* jupyter's `normalize.less` sets `[hidden] { display: none; }` but bootstrap.min.css set `[hidden] { display: none !important; }` so we also need the `!important` here to be able to override the default hidden behavior on the sphinx rendered scikit-learn.org. See: https://github.com/scikit-learn/scikit-learn/issues/21755 */display: inline-block !important;position: relative;}#sk-container-id-1 div.sk-text-repr-fallback {display: none;}</style><div id=\"sk-container-id-1\" class=\"sk-top-container\"><div class=\"sk-text-repr-fallback\"><pre>KNeighborsClassifier()</pre><b>In a Jupyter environment, please rerun this cell to show the HTML representation or trust the notebook. <br />On GitHub, the HTML representation is unable to render, please try loading this page with nbviewer.org.</b></div><div class=\"sk-container\" hidden><div class=\"sk-item\"><div class=\"sk-estimator sk-toggleable\"><input class=\"sk-toggleable__control sk-hidden--visually\" id=\"sk-estimator-id-1\" type=\"checkbox\" checked><label for=\"sk-estimator-id-1\" class=\"sk-toggleable__label sk-toggleable__label-arrow\">KNeighborsClassifier</label><div class=\"sk-toggleable__content\"><pre>KNeighborsClassifier()</pre></div></div></div></div></div>"
      ],
      "text/plain": [
       "KNeighborsClassifier()"
      ]
     },
     "execution_count": 17,
     "metadata": {},
     "output_type": "execute_result"
    }
   ],
   "source": [
    "from sklearn.neighbors import KNeighborsClassifier\n",
    "knn = KNeighborsClassifier(n_neighbors=5)\n",
    "knn.fit(X_train,Y_train)"
   ]
  },
  {
   "cell_type": "code",
   "execution_count": 18,
   "id": "0fda0c2b",
   "metadata": {
    "execution": {
     "iopub.execute_input": "2024-01-23T09:16:12.264222Z",
     "iopub.status.busy": "2024-01-23T09:16:12.263810Z",
     "iopub.status.idle": "2024-01-23T09:16:12.482956Z",
     "shell.execute_reply": "2024-01-23T09:16:12.481851Z"
    },
    "papermill": {
     "duration": 0.233418,
     "end_time": "2024-01-23T09:16:12.487072",
     "exception": false,
     "start_time": "2024-01-23T09:16:12.253654",
     "status": "completed"
    },
    "tags": []
   },
   "outputs": [
    {
     "data": {
      "text/plain": [
       "array([0])"
      ]
     },
     "execution_count": 18,
     "metadata": {},
     "output_type": "execute_result"
    }
   ],
   "source": [
    "knn.predict(X_test[100].reshape(1,-1))"
   ]
  },
  {
   "cell_type": "code",
   "execution_count": 19,
   "id": "0694815b",
   "metadata": {
    "execution": {
     "iopub.execute_input": "2024-01-23T09:16:12.519770Z",
     "iopub.status.busy": "2024-01-23T09:16:12.519185Z",
     "iopub.status.idle": "2024-01-23T09:16:12.790501Z",
     "shell.execute_reply": "2024-01-23T09:16:12.788948Z"
    },
    "papermill": {
     "duration": 0.291466,
     "end_time": "2024-01-23T09:16:12.793290",
     "exception": false,
     "start_time": "2024-01-23T09:16:12.501824",
     "status": "completed"
    },
    "tags": []
   },
   "outputs": [
    {
     "data": {
      "text/plain": [
       "<matplotlib.image.AxesImage at 0x7d81fc083250>"
      ]
     },
     "execution_count": 19,
     "metadata": {},
     "output_type": "execute_result"
    },
    {
     "data": {
      "image/png": "[encoded data removed]",
      "text/plain": [
       "<Figure size 640x480 with 1 Axes>"
      ]
     },
     "metadata": {},
     "output_type": "display_data"
    }
   ],
   "source": [
    "num = np.array(test.iloc[100,:]).reshape(28,28)\n",
    "plt.imshow(num)"
   ]
  },
  {
   "cell_type": "code",
   "execution_count": null,
   "id": "8a74a113",
   "metadata": {
    "papermill": {
     "duration": 0.008824,
     "end_time": "2024-01-23T09:16:12.811376",
     "exception": false,
     "start_time": "2024-01-23T09:16:12.802552",
     "status": "completed"
    },
    "tags": []
   },
   "outputs": [],
   "source": []
  }
 ],
 "metadata": {
  "kaggle": {
   "accelerator": "none",
   "dataSources": [
    {
     "databundleVersionId": 861823,
     "sourceId": 3004,
     "sourceType": "competition"
    }
   ],
   "dockerImageVersionId": 30635,
   "isGpuEnabled": false,
   "isInternetEnabled": true,
   "language": "python",
   "sourceType": "notebook"
  },
  "kernelspec": {
   "display_name": "Python 3",
   "language": "python",
   "name": "python3"
  },
  "language_info": {
   "codemirror_mode": {
    "name": "ipython",
    "version": 3
   },
   "file_extension": ".py",
   "mimetype": "text/x-python",
   "name": "python",
   "nbconvert_exporter": "python",
   "pygments_lexer": "ipython3",
   "version": "3.10.12"
  },
  "papermill": {
   "default_parameters": {},
   "duration": 30.385925,
   "end_time": "2024-01-23T09:16:15.271761",
   "environment_variables": {},
   "exception": null,
   "input_path": "__notebook__.ipynb",
   "output_path": "__notebook__.ipynb",
   "parameters": {},
   "start_time": "2024-01-23T09:15:44.885836",
   "version": "2.4.0"
  }
 },
 "nbformat": 4,
 "nbformat_minor": 5
}
