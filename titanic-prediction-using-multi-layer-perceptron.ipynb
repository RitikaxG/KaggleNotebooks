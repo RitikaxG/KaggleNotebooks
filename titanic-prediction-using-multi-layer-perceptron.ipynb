{
 "cells": [
  {
   "cell_type": "code",
   "execution_count": 1,
   "id": "1a0a0382",
   "metadata": {
    "_cell_guid": "b1076dfc-b9ad-4769-8c92-a6c4dae69d19",
    "_uuid": "8f2839f25d086af736a60e9eeb907d3b93b6e0e5",
    "execution": {
     "iopub.execute_input": "2024-01-30T06:42:27.853796Z",
     "iopub.status.busy": "2024-01-30T06:42:27.853023Z",
     "iopub.status.idle": "2024-01-30T06:42:27.868178Z",
     "shell.execute_reply": "2024-01-30T06:42:27.866855Z"
    },
    "papermill": {
     "duration": 0.028976,
     "end_time": "2024-01-30T06:42:27.871170",
     "exception": false,
     "start_time": "2024-01-30T06:42:27.842194",
     "status": "completed"
    },
    "tags": []
   },
   "outputs": [
    {
     "name": "stdout",
     "output_type": "stream",
     "text": [
      "/kaggle/input/titanic/train.csv\n",
      "/kaggle/input/titanic/test.csv\n",
      "/kaggle/input/titanic/gender_submission.csv\n"
     ]
    }
   ],
   "source": [
    "import os\n",
    "for dirname, _, filenames in os.walk('/kaggle/input'):\n",
    "    for filename in filenames:\n",
    "        print(os.path.join(dirname, filename))"
   ]
  },
  {
   "cell_type": "markdown",
   "id": "4d6763d3",
   "metadata": {
    "papermill": {
     "duration": 0.007211,
     "end_time": "2024-01-30T06:42:27.886088",
     "exception": false,
     "start_time": "2024-01-30T06:42:27.878877",
     "status": "completed"
    },
    "tags": []
   },
   "source": [
    "## Importing libraries"
   ]
  },
  {
   "cell_type": "code",
   "execution_count": 2,
   "id": "86ce82a2",
   "metadata": {
    "execution": {
     "iopub.execute_input": "2024-01-30T06:42:27.903247Z",
     "iopub.status.busy": "2024-01-30T06:42:27.902221Z",
     "iopub.status.idle": "2024-01-30T06:42:30.274153Z",
     "shell.execute_reply": "2024-01-30T06:42:30.272927Z"
    },
    "papermill": {
     "duration": 2.383241,
     "end_time": "2024-01-30T06:42:30.276967",
     "exception": false,
     "start_time": "2024-01-30T06:42:27.893726",
     "status": "completed"
    },
    "tags": []
   },
   "outputs": [],
   "source": [
    "import numpy as np\n",
    "import pandas as pd\n",
    "\n",
    "import matplotlib.pyplot as plt\n",
    "import seaborn as sns\n",
    "%matplotlib inline \n",
    "\n",
    "sns.set(rc={\"figure.figsize\":(12,10)})\n",
    "\n",
    "import warnings\n",
    "warnings.filterwarnings(\"ignore\")"
   ]
  },
  {
   "cell_type": "code",
   "execution_count": 3,
   "id": "f73044da",
   "metadata": {
    "execution": {
     "iopub.execute_input": "2024-01-30T06:42:30.293910Z",
     "iopub.status.busy": "2024-01-30T06:42:30.293343Z",
     "iopub.status.idle": "2024-01-30T06:42:30.298647Z",
     "shell.execute_reply": "2024-01-30T06:42:30.297496Z"
    },
    "papermill": {
     "duration": 0.016424,
     "end_time": "2024-01-30T06:42:30.301081",
     "exception": false,
     "start_time": "2024-01-30T06:42:30.284657",
     "status": "completed"
    },
    "tags": []
   },
   "outputs": [],
   "source": [
    "import random\n",
    "# Make sure that on rerunning the code the results are reproducable\n",
    "random.seed(101)"
   ]
  },
  {
   "cell_type": "markdown",
   "id": "ab948ff0",
   "metadata": {
    "papermill": {
     "duration": 0.006952,
     "end_time": "2024-01-30T06:42:30.315357",
     "exception": false,
     "start_time": "2024-01-30T06:42:30.308405",
     "status": "completed"
    },
    "tags": []
   },
   "source": [
    "## Loading Data"
   ]
  },
  {
   "cell_type": "code",
   "execution_count": 4,
   "id": "91cebf41",
   "metadata": {
    "execution": {
     "iopub.execute_input": "2024-01-30T06:42:30.331633Z",
     "iopub.status.busy": "2024-01-30T06:42:30.331255Z",
     "iopub.status.idle": "2024-01-30T06:42:30.359693Z",
     "shell.execute_reply": "2024-01-30T06:42:30.358738Z"
    },
    "papermill": {
     "duration": 0.040114,
     "end_time": "2024-01-30T06:42:30.362660",
     "exception": false,
     "start_time": "2024-01-30T06:42:30.322546",
     "status": "completed"
    },
    "tags": []
   },
   "outputs": [],
   "source": [
    "data_train = pd.read_csv(\"/kaggle/input/titanic/train.csv\")\n",
    "data_test  = pd.read_csv(\"/kaggle/input/titanic/test.csv\")"
   ]
  },
  {
   "cell_type": "code",
   "execution_count": 5,
   "id": "8cb4dc6e",
   "metadata": {
    "execution": {
     "iopub.execute_input": "2024-01-30T06:42:30.380889Z",
     "iopub.status.busy": "2024-01-30T06:42:30.379712Z",
     "iopub.status.idle": "2024-01-30T06:42:30.411100Z",
     "shell.execute_reply": "2024-01-30T06:42:30.409831Z"
    },
    "papermill": {
     "duration": 0.043236,
     "end_time": "2024-01-30T06:42:30.413815",
     "exception": false,
     "start_time": "2024-01-30T06:42:30.370579",
     "status": "completed"
    },
    "tags": []
   },
   "outputs": [
    {
     "name": "stdout",
     "output_type": "stream",
     "text": [
      "<class 'pandas.core.frame.DataFrame'>\n",
      "RangeIndex: 891 entries, 0 to 890\n",
      "Data columns (total 12 columns):\n",
      " #   Column       Non-Null Count  Dtype  \n",
      "---  ------       --------------  -----  \n",
      " 0   PassengerId  891 non-null    int64  \n",
      " 1   Survived     891 non-null    int64  \n",
      " 2   Pclass       891 non-null    int64  \n",
      " 3   Name         891 non-null    object \n",
      " 4   Sex          891 non-null    object \n",
      " 5   Age          714 non-null    float64\n",
      " 6   SibSp        891 non-null    int64  \n",
      " 7   Parch        891 non-null    int64  \n",
      " 8   Ticket       891 non-null    object \n",
      " 9   Fare         891 non-null    float64\n",
      " 10  Cabin        204 non-null    object \n",
      " 11  Embarked     889 non-null    object \n",
      "dtypes: float64(2), int64(5), object(5)\n",
      "memory usage: 83.7+ KB\n"
     ]
    }
   ],
   "source": [
    "data_train.info()"
   ]
  },
  {
   "cell_type": "code",
   "execution_count": 6,
   "id": "16c1fba5",
   "metadata": {
    "execution": {
     "iopub.execute_input": "2024-01-30T06:42:30.431120Z",
     "iopub.status.busy": "2024-01-30T06:42:30.430499Z",
     "iopub.status.idle": "2024-01-30T06:42:30.443598Z",
     "shell.execute_reply": "2024-01-30T06:42:30.442516Z"
    },
    "papermill": {
     "duration": 0.025184,
     "end_time": "2024-01-30T06:42:30.446478",
     "exception": false,
     "start_time": "2024-01-30T06:42:30.421294",
     "status": "completed"
    },
    "tags": []
   },
   "outputs": [],
   "source": [
    "# Considering 2 paramters gender and pclass\n",
    "dict_live = {\n",
    "    0:'Died',\n",
    "    1:'Survived'\n",
    "}\n",
    "\n",
    "dict_sex = {\n",
    "    'male':0,\n",
    "    'female':1\n",
    "}\n",
    "# Binary sex parameter\n",
    "# Take each values in sex column and convert them into numarical values as defined in dict_sex\n",
    "data_train['Bsex'] = data_train['Sex'].apply(lambda x: dict_sex[x])\n",
    "data_test['Bsex']  = data_test['Sex'].apply(lambda x: dict_sex[x])\n",
    "\n",
    "# features\n",
    "x_train = data_train[['Pclass','Bsex']].to_numpy() # Converting into numpy array\n",
    "y_train   = data_train['Survived'].to_numpy() \n",
    "\n",
    "x_test = data_test[['Pclass','Bsex']].to_numpy() # Converting into numpy array"
   ]
  },
  {
   "cell_type": "code",
   "execution_count": 7,
   "id": "93093b06",
   "metadata": {
    "execution": {
     "iopub.execute_input": "2024-01-30T06:42:30.463280Z",
     "iopub.status.busy": "2024-01-30T06:42:30.462870Z",
     "iopub.status.idle": "2024-01-30T06:42:30.470677Z",
     "shell.execute_reply": "2024-01-30T06:42:30.469433Z"
    },
    "papermill": {
     "duration": 0.018952,
     "end_time": "2024-01-30T06:42:30.473162",
     "exception": false,
     "start_time": "2024-01-30T06:42:30.454210",
     "status": "completed"
    },
    "tags": []
   },
   "outputs": [
    {
     "data": {
      "text/plain": [
       "(418, 2)"
      ]
     },
     "execution_count": 7,
     "metadata": {},
     "output_type": "execute_result"
    }
   ],
   "source": [
    "x_test.shape"
   ]
  },
  {
   "cell_type": "markdown",
   "id": "9692117c",
   "metadata": {
    "papermill": {
     "duration": 0.007293,
     "end_time": "2024-01-30T06:42:30.487993",
     "exception": false,
     "start_time": "2024-01-30T06:42:30.480700",
     "status": "completed"
    },
    "tags": []
   },
   "source": [
    "## Multi Layer Perceptron"
   ]
  },
  {
   "cell_type": "markdown",
   "id": "7c5b8148",
   "metadata": {
    "papermill": {
     "duration": 0.008142,
     "end_time": "2024-01-30T06:42:30.503670",
     "exception": false,
     "start_time": "2024-01-30T06:42:30.495528",
     "status": "completed"
    },
    "tags": []
   },
   "source": [
    "### Activation function and Derivation"
   ]
  },
  {
   "cell_type": "code",
   "execution_count": 8,
   "id": "c55f44ab",
   "metadata": {
    "execution": {
     "iopub.execute_input": "2024-01-30T06:42:30.520554Z",
     "iopub.status.busy": "2024-01-30T06:42:30.520151Z",
     "iopub.status.idle": "2024-01-30T06:42:30.526515Z",
     "shell.execute_reply": "2024-01-30T06:42:30.525626Z"
    },
    "papermill": {
     "duration": 0.01758,
     "end_time": "2024-01-30T06:42:30.528795",
     "exception": false,
     "start_time": "2024-01-30T06:42:30.511215",
     "status": "completed"
    },
    "tags": []
   },
   "outputs": [],
   "source": [
    "# Sigmoid\n",
    "def sigmoid(x,derivative = False):\n",
    "    f = 1/(1+np.exp(-x))\n",
    "    if derivative == True:\n",
    "        return f * (1 - f)\n",
    "    else:\n",
    "        return f\n",
    "\n",
    "def ReLU(x,derivative=False):\n",
    "    if derivative == True:\n",
    "        f = np.heaviside(x,1)\n",
    "    else:\n",
    "        f = np.maximum(x,0)\n",
    "        \n",
    "    return f"
   ]
  },
  {
   "cell_type": "markdown",
   "id": "19d3c413",
   "metadata": {
    "papermill": {
     "duration": 0.007293,
     "end_time": "2024-01-30T06:42:30.543761",
     "exception": false,
     "start_time": "2024-01-30T06:42:30.536468",
     "status": "completed"
    },
    "tags": []
   },
   "source": [
    "### Training ANN Model"
   ]
  },
  {
   "cell_type": "code",
   "execution_count": 9,
   "id": "b8c981d4",
   "metadata": {
    "execution": {
     "iopub.execute_input": "2024-01-30T06:42:30.561027Z",
     "iopub.status.busy": "2024-01-30T06:42:30.560055Z",
     "iopub.status.idle": "2024-01-30T06:42:30.566615Z",
     "shell.execute_reply": "2024-01-30T06:42:30.565642Z"
    },
    "papermill": {
     "duration": 0.017312,
     "end_time": "2024-01-30T06:42:30.568718",
     "exception": false,
     "start_time": "2024-01-30T06:42:30.551406",
     "status": "completed"
    },
    "tags": []
   },
   "outputs": [
    {
     "data": {
      "text/plain": [
       "(891, 2)"
      ]
     },
     "execution_count": 9,
     "metadata": {},
     "output_type": "execute_result"
    }
   ],
   "source": [
    "x_train.shape"
   ]
  },
  {
   "cell_type": "code",
   "execution_count": 10,
   "id": "47ad9d4d",
   "metadata": {
    "execution": {
     "iopub.execute_input": "2024-01-30T06:42:30.586345Z",
     "iopub.status.busy": "2024-01-30T06:42:30.585613Z",
     "iopub.status.idle": "2024-01-30T06:42:30.601987Z",
     "shell.execute_reply": "2024-01-30T06:42:30.600881Z"
    },
    "papermill": {
     "duration": 0.028316,
     "end_time": "2024-01-30T06:42:30.604726",
     "exception": false,
     "start_time": "2024-01-30T06:42:30.576410",
     "status": "completed"
    },
    "tags": []
   },
   "outputs": [],
   "source": [
    "# Pass 4 perceptron is 1st hidden unit\n",
    "def train_ANN(x_train,y_train,h1_units=4,h2_units=4,learning_rate=0.00015):\n",
    "    random.seed(101)\n",
    "    # Preparing hidden layers\n",
    "    # Hidden layer 1\n",
    "    # no_of_perceptron * no_of_input_features\n",
    "    w1 = 2*np.random.rand(h1_units,x_train.shape[1])\n",
    "    b1 = np.random.randn(h1_units)\n",
    "    \n",
    "    # hidden layer 2\n",
    "    # no_of_percptron in current layer * no_of_features from previous layer\n",
    "    w2 = 2*np.random.randn(h2_units,h1_units)\n",
    "    b2 = np.random.randn(h2_units)\n",
    "    \n",
    "    # output layer\n",
    "    # weights from previous layer as input\n",
    "    w_out = 2*np.random.randn(h2_units)\n",
    "    b_out = np.random.randn(1)\n",
    "    \n",
    "    # Feed - Forward Network\n",
    "    loss = []\n",
    "    vec_y =[]\n",
    "    \n",
    "    for i in range(0,x_train.shape[0]):\n",
    "        x_data = x_train[i]\n",
    "        \n",
    "        # wx + b\n",
    "        h1 = ReLU(np.dot(w1,x_data) + b1) # hidden layer 1 output\n",
    "        h2 = ReLU(np.dot(w2,h1)     + b2) # hidden layer 2 output\n",
    "        y  = sigmoid(np.dot(w_out,h2)+ b_out) # output of the output layer\n",
    "        \n",
    "        # Back Propogate - calculate the layer derivatives\n",
    "        delta_out = (y-y_train[i]) *  sigmoid(y,derivative = True)\n",
    "        delta_2   = delta_out + w_out * ReLU(h2,derivative = True)\n",
    "        delta_1   = np.dot(delta_2,w2)* ReLU(h1,derivative = True) \n",
    "        \n",
    "        # Gradient Descent\n",
    "        w_out = w_out - learning_rate * delta_out * h2 #output layer\n",
    "        b_out = b_out - learning_rate * delta_out\n",
    "        \n",
    "        # Hidden layer 2\n",
    "        w2 = w2 - learning_rate * np.kron(delta_2,h1).reshape(h2_units,h1_units)\n",
    "        b2 = b2 - learning_rate * delta_2\n",
    "        \n",
    "        # Hidden layer 1\n",
    "        w1 = w1 - learning_rate * np.kron(delta_1,x_data).reshape(h1_units,x_data.shape[0])\n",
    "        b1 = b1 - learning_rate * delta_1\n",
    "        \n",
    "        # cost\n",
    "        loss.append((1/2)* (y-y_train[i])**2)\n",
    "        vec_y.append(y[0])\n",
    "    \n",
    "    # Storing the loss after every 60 instances and taking the average of the loss\n",
    "    batch_loss = []\n",
    "    for i in range(0,10):\n",
    "        loss_avg = 0\n",
    "        for m in range(0,60):\n",
    "            loss_avg += vec_y[60*i + m ]/60\n",
    "        batch_loss.append(loss_avg)\n",
    "        \n",
    "    plt.figure(figsize=(10,6))\n",
    "    plt.plot(np.arange(1,len(batch_loss)+1),batch_loss)\n",
    "    plt.title(\"Average loss by epoch\",fontsize=20)\n",
    "    plt.xlabel(\"Epoch :\",fontsize=16)\n",
    "    plt.ylabel(\"Loss :\",fontsize=16)\n",
    "    plt.show()\n",
    "    \n",
    "    return w1,b1,w2,b2,w_out,b_out,loss"
   ]
  },
  {
   "cell_type": "code",
   "execution_count": 11,
   "id": "e1474b15",
   "metadata": {
    "execution": {
     "iopub.execute_input": "2024-01-30T06:42:30.622587Z",
     "iopub.status.busy": "2024-01-30T06:42:30.621574Z",
     "iopub.status.idle": "2024-01-30T06:42:31.213427Z",
     "shell.execute_reply": "2024-01-30T06:42:31.212153Z"
    },
    "papermill": {
     "duration": 0.603722,
     "end_time": "2024-01-30T06:42:31.216191",
     "exception": false,
     "start_time": "2024-01-30T06:42:30.612469",
     "status": "completed"
    },
    "tags": []
   },
   "outputs": [
    {
     "data": {
      "image/png": "[encoded data removed]",
      "text/plain": [
       "<Figure size 1000x600 with 1 Axes>"
      ]
     },
     "metadata": {},
     "output_type": "display_data"
    }
   ],
   "source": [
    "w1,b1,w2,b2,w_out,b_out,loss = train_ANN(x_train,y_train)"
   ]
  },
  {
   "cell_type": "markdown",
   "id": "740fed93",
   "metadata": {
    "papermill": {
     "duration": 0.007943,
     "end_time": "2024-01-30T06:42:31.232560",
     "exception": false,
     "start_time": "2024-01-30T06:42:31.224617",
     "status": "completed"
    },
    "tags": []
   },
   "source": [
    "## Testing Module"
   ]
  },
  {
   "cell_type": "code",
   "execution_count": 12,
   "id": "c2151f89",
   "metadata": {
    "execution": {
     "iopub.execute_input": "2024-01-30T06:42:31.250761Z",
     "iopub.status.busy": "2024-01-30T06:42:31.250379Z",
     "iopub.status.idle": "2024-01-30T06:42:31.258697Z",
     "shell.execute_reply": "2024-01-30T06:42:31.257300Z"
    },
    "papermill": {
     "duration": 0.020224,
     "end_time": "2024-01-30T06:42:31.260996",
     "exception": false,
     "start_time": "2024-01-30T06:42:31.240772",
     "status": "completed"
    },
    "tags": []
   },
   "outputs": [],
   "source": [
    "def ANN_pred(x_test,w1,b1,w2,b2,w_out,b_out):\n",
    "    \n",
    "    pred = []\n",
    "    \n",
    "    for i in range(0,x_test.shape[0]):\n",
    "        x = x_test[i]\n",
    "        \n",
    "        # wx + b\n",
    "        z1 = ReLU(np.dot(w1,x) + b1) # hidden layer 1 output\n",
    "        z2 = ReLU(np.dot(w2,z1)+ b2) # hidden layer 2 output\n",
    "        y  = sigmoid(np.dot(w_out,z2)+ b_out) # output of the output layer\n",
    "        \n",
    "        pred.append(np.heaviside(y-0.5,1)[0])\n",
    "        \n",
    "    return np.array(pred)"
   ]
  },
  {
   "cell_type": "code",
   "execution_count": 13,
   "id": "4cb77634",
   "metadata": {
    "execution": {
     "iopub.execute_input": "2024-01-30T06:42:31.279601Z",
     "iopub.status.busy": "2024-01-30T06:42:31.279229Z",
     "iopub.status.idle": "2024-01-30T06:42:31.301774Z",
     "shell.execute_reply": "2024-01-30T06:42:31.300565Z"
    },
    "papermill": {
     "duration": 0.035167,
     "end_time": "2024-01-30T06:42:31.304700",
     "exception": false,
     "start_time": "2024-01-30T06:42:31.269533",
     "status": "completed"
    },
    "tags": []
   },
   "outputs": [],
   "source": [
    "predictions = ANN_pred(x_test,w1,b1,w2,b2,w_out,b_out)"
   ]
  },
  {
   "cell_type": "markdown",
   "id": "d99f145f",
   "metadata": {
    "papermill": {
     "duration": 0.008079,
     "end_time": "2024-01-30T06:42:31.321341",
     "exception": false,
     "start_time": "2024-01-30T06:42:31.313262",
     "status": "completed"
    },
    "tags": []
   },
   "source": [
    "## Model Evaluation"
   ]
  },
  {
   "cell_type": "code",
   "execution_count": 14,
   "id": "ad5f6f2c",
   "metadata": {
    "_kg_hide-input": true,
    "execution": {
     "iopub.execute_input": "2024-01-30T06:42:31.340419Z",
     "iopub.status.busy": "2024-01-30T06:42:31.339989Z",
     "iopub.status.idle": "2024-01-30T06:42:31.344910Z",
     "shell.execute_reply": "2024-01-30T06:42:31.343763Z"
    },
    "papermill": {
     "duration": 0.017728,
     "end_time": "2024-01-30T06:42:31.347349",
     "exception": false,
     "start_time": "2024-01-30T06:42:31.329621",
     "status": "completed"
    },
    "tags": []
   },
   "outputs": [],
   "source": [
    "# from sklearn.metrics import accuracy_score,confusion_matrix\n",
    "# cm = confusion_matrix(y_test,predictions)\n",
    "\n",
    "# df_cm = pd.DataFrame(cm,index=[dict_live[i] for i in range(0,2)],\n",
    "#                     columns = [dict_live[i] for i in range(0,2)])"
   ]
  },
  {
   "cell_type": "code",
   "execution_count": 15,
   "id": "203b7e30",
   "metadata": {
    "execution": {
     "iopub.execute_input": "2024-01-30T06:42:31.366644Z",
     "iopub.status.busy": "2024-01-30T06:42:31.366221Z",
     "iopub.status.idle": "2024-01-30T06:42:31.371296Z",
     "shell.execute_reply": "2024-01-30T06:42:31.370103Z"
    },
    "papermill": {
     "duration": 0.018042,
     "end_time": "2024-01-30T06:42:31.373824",
     "exception": false,
     "start_time": "2024-01-30T06:42:31.355782",
     "status": "completed"
    },
    "tags": []
   },
   "outputs": [],
   "source": [
    "# plt.figure(figsize=(7,7))\n",
    "# sns.heatmap(df_cm,annot=True,cmap=plt.cm.Blues,fmt='g')\n",
    "# plt.xlabel(\"Predicted Class\",fontsize=18)\n",
    "# plt.ylabel(\"True Class\",fontsize=18)\n",
    "# plt.show()\n",
    "\n",
    "# accuracy_score(y_test,predictions)"
   ]
  }
 ],
 "metadata": {
  "kaggle": {
   "accelerator": "none",
   "dataSources": [
    {
     "databundleVersionId": 26502,
     "sourceId": 3136,
     "sourceType": "competition"
    }
   ],
   "dockerImageVersionId": 30646,
   "isGpuEnabled": false,
   "isInternetEnabled": true,
   "language": "python",
   "sourceType": "notebook"
  },
  "kernelspec": {
   "display_name": "Python 3",
   "language": "python",
   "name": "python3"
  },
  "language_info": {
   "codemirror_mode": {
    "name": "ipython",
    "version": 3
   },
   "file_extension": ".py",
   "mimetype": "text/x-python",
   "name": "python",
   "nbconvert_exporter": "python",
   "pygments_lexer": "ipython3",
   "version": "3.10.13"
  },
  "papermill": {
   "default_parameters": {},
   "duration": 7.196628,
   "end_time": "2024-01-30T06:42:32.003770",
   "environment_variables": {},
   "exception": null,
   "input_path": "__notebook__.ipynb",
   "output_path": "__notebook__.ipynb",
   "parameters": {},
   "start_time": "2024-01-30T06:42:24.807142",
   "version": "2.5.0"
  }
 },
 "nbformat": 4,
 "nbformat_minor": 5
}
