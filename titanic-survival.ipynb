{
 "cells": [
  {
   "cell_type": "code",
   "execution_count": 1,
   "id": "ff8e7a52",
   "metadata": {
    "_cell_guid": "b1076dfc-b9ad-4769-8c92-a6c4dae69d19",
    "_uuid": "8f2839f25d086af736a60e9eeb907d3b93b6e0e5",
    "execution": {
     "iopub.execute_input": "2024-01-23T12:56:22.573014Z",
     "iopub.status.busy": "2024-01-23T12:56:22.572247Z",
     "iopub.status.idle": "2024-01-23T12:56:22.588514Z",
     "shell.execute_reply": "2024-01-23T12:56:22.586257Z"
    },
    "papermill": {
     "duration": 0.033356,
     "end_time": "2024-01-23T12:56:22.592870",
     "exception": false,
     "start_time": "2024-01-23T12:56:22.559514",
     "status": "completed"
    },
    "tags": []
   },
   "outputs": [
    {
     "name": "stdout",
     "output_type": "stream",
     "text": [
      "/kaggle/input/titanic/train.csv\n",
      "/kaggle/input/titanic/test.csv\n",
      "/kaggle/input/titanic/gender_submission.csv\n"
     ]
    }
   ],
   "source": [
    "import os\n",
    "for dirname, _, filenames in os.walk('/kaggle/input'):\n",
    "    for filename in filenames:\n",
    "        print(os.path.join(dirname, filename))"
   ]
  },
  {
   "cell_type": "markdown",
   "id": "5605e1ef",
   "metadata": {
    "papermill": {
     "duration": 0.010313,
     "end_time": "2024-01-23T12:56:22.614518",
     "exception": false,
     "start_time": "2024-01-23T12:56:22.604205",
     "status": "completed"
    },
    "tags": []
   },
   "source": [
    "### Importing Libraries"
   ]
  },
  {
   "cell_type": "code",
   "execution_count": 2,
   "id": "32d81ba7",
   "metadata": {
    "execution": {
     "iopub.execute_input": "2024-01-23T12:56:22.638096Z",
     "iopub.status.busy": "2024-01-23T12:56:22.637178Z",
     "iopub.status.idle": "2024-01-23T12:56:24.539662Z",
     "shell.execute_reply": "2024-01-23T12:56:24.537989Z"
    },
    "papermill": {
     "duration": 1.917937,
     "end_time": "2024-01-23T12:56:24.542837",
     "exception": false,
     "start_time": "2024-01-23T12:56:22.624900",
     "status": "completed"
    },
    "tags": []
   },
   "outputs": [],
   "source": [
    "import pandas as pd\n",
    "import numpy as np\n",
    "import matplotlib.pyplot as plt\n",
    "import seaborn as sns"
   ]
  },
  {
   "cell_type": "code",
   "execution_count": 3,
   "id": "80dba41a",
   "metadata": {
    "execution": {
     "iopub.execute_input": "2024-01-23T12:56:24.569472Z",
     "iopub.status.busy": "2024-01-23T12:56:24.568944Z",
     "iopub.status.idle": "2024-01-23T12:56:24.603839Z",
     "shell.execute_reply": "2024-01-23T12:56:24.602289Z"
    },
    "papermill": {
     "duration": 0.050897,
     "end_time": "2024-01-23T12:56:24.607500",
     "exception": false,
     "start_time": "2024-01-23T12:56:24.556603",
     "status": "completed"
    },
    "tags": []
   },
   "outputs": [],
   "source": [
    "train = pd.read_csv(\"/kaggle/input/titanic/train.csv\")\n",
    "test  = pd.read_csv(\"/kaggle/input/titanic/test.csv\")"
   ]
  },
  {
   "cell_type": "code",
   "execution_count": 4,
   "id": "79dd4670",
   "metadata": {
    "execution": {
     "iopub.execute_input": "2024-01-23T12:56:24.634016Z",
     "iopub.status.busy": "2024-01-23T12:56:24.633630Z",
     "iopub.status.idle": "2024-01-23T12:56:24.665166Z",
     "shell.execute_reply": "2024-01-23T12:56:24.664261Z"
    },
    "papermill": {
     "duration": 0.048777,
     "end_time": "2024-01-23T12:56:24.668043",
     "exception": false,
     "start_time": "2024-01-23T12:56:24.619266",
     "status": "completed"
    },
    "tags": []
   },
   "outputs": [
    {
     "data": {
      "text/html": [
       "<div>\n",
       "<style scoped>\n",
       "    .dataframe tbody tr th:only-of-type {\n",
       "        vertical-align: middle;\n",
       "    }\n",
       "\n",
       "    .dataframe tbody tr th {\n",
       "        vertical-align: top;\n",
       "    }\n",
       "\n",
       "    .dataframe thead th {\n",
       "        text-align: right;\n",
       "    }\n",
       "</style>\n",
       "<table border=\"1\" class=\"dataframe\">\n",
       "  <thead>\n",
       "    <tr style=\"text-align: right;\">\n",
       "      <th></th>\n",
       "      <th>PassengerId</th>\n",
       "      <th>Survived</th>\n",
       "      <th>Pclass</th>\n",
       "      <th>Name</th>\n",
       "      <th>Sex</th>\n",
       "      <th>Age</th>\n",
       "      <th>SibSp</th>\n",
       "      <th>Parch</th>\n",
       "      <th>Ticket</th>\n",
       "      <th>Fare</th>\n",
       "      <th>Cabin</th>\n",
       "      <th>Embarked</th>\n",
       "    </tr>\n",
       "  </thead>\n",
       "  <tbody>\n",
       "    <tr>\n",
       "      <th>0</th>\n",
       "      <td>1</td>\n",
       "      <td>0</td>\n",
       "      <td>3</td>\n",
       "      <td>Braund, Mr. Owen Harris</td>\n",
       "      <td>male</td>\n",
       "      <td>22.0</td>\n",
       "      <td>1</td>\n",
       "      <td>0</td>\n",
       "      <td>A/5 21171</td>\n",
       "      <td>7.2500</td>\n",
       "      <td>NaN</td>\n",
       "      <td>S</td>\n",
       "    </tr>\n",
       "    <tr>\n",
       "      <th>1</th>\n",
       "      <td>2</td>\n",
       "      <td>1</td>\n",
       "      <td>1</td>\n",
       "      <td>Cumings, Mrs. John Bradley (Florence Briggs Th...</td>\n",
       "      <td>female</td>\n",
       "      <td>38.0</td>\n",
       "      <td>1</td>\n",
       "      <td>0</td>\n",
       "      <td>PC 17599</td>\n",
       "      <td>71.2833</td>\n",
       "      <td>C85</td>\n",
       "      <td>C</td>\n",
       "    </tr>\n",
       "    <tr>\n",
       "      <th>2</th>\n",
       "      <td>3</td>\n",
       "      <td>1</td>\n",
       "      <td>3</td>\n",
       "      <td>Heikkinen, Miss. Laina</td>\n",
       "      <td>female</td>\n",
       "      <td>26.0</td>\n",
       "      <td>0</td>\n",
       "      <td>0</td>\n",
       "      <td>STON/O2. 3101282</td>\n",
       "      <td>7.9250</td>\n",
       "      <td>NaN</td>\n",
       "      <td>S</td>\n",
       "    </tr>\n",
       "    <tr>\n",
       "      <th>3</th>\n",
       "      <td>4</td>\n",
       "      <td>1</td>\n",
       "      <td>1</td>\n",
       "      <td>Futrelle, Mrs. Jacques Heath (Lily May Peel)</td>\n",
       "      <td>female</td>\n",
       "      <td>35.0</td>\n",
       "      <td>1</td>\n",
       "      <td>0</td>\n",
       "      <td>113803</td>\n",
       "      <td>53.1000</td>\n",
       "      <td>C123</td>\n",
       "      <td>S</td>\n",
       "    </tr>\n",
       "    <tr>\n",
       "      <th>4</th>\n",
       "      <td>5</td>\n",
       "      <td>0</td>\n",
       "      <td>3</td>\n",
       "      <td>Allen, Mr. William Henry</td>\n",
       "      <td>male</td>\n",
       "      <td>35.0</td>\n",
       "      <td>0</td>\n",
       "      <td>0</td>\n",
       "      <td>373450</td>\n",
       "      <td>8.0500</td>\n",
       "      <td>NaN</td>\n",
       "      <td>S</td>\n",
       "    </tr>\n",
       "  </tbody>\n",
       "</table>\n",
       "</div>"
      ],
      "text/plain": [
       "   PassengerId  Survived  Pclass  \\\n",
       "0            1         0       3   \n",
       "1            2         1       1   \n",
       "2            3         1       3   \n",
       "3            4         1       1   \n",
       "4            5         0       3   \n",
       "\n",
       "                                                Name     Sex   Age  SibSp  \\\n",
       "0                            Braund, Mr. Owen Harris    male  22.0      1   \n",
       "1  Cumings, Mrs. John Bradley (Florence Briggs Th...  female  38.0      1   \n",
       "2                             Heikkinen, Miss. Laina  female  26.0      0   \n",
       "3       Futrelle, Mrs. Jacques Heath (Lily May Peel)  female  35.0      1   \n",
       "4                           Allen, Mr. William Henry    male  35.0      0   \n",
       "\n",
       "   Parch            Ticket     Fare Cabin Embarked  \n",
       "0      0         A/5 21171   7.2500   NaN        S  \n",
       "1      0          PC 17599  71.2833   C85        C  \n",
       "2      0  STON/O2. 3101282   7.9250   NaN        S  \n",
       "3      0            113803  53.1000  C123        S  \n",
       "4      0            373450   8.0500   NaN        S  "
      ]
     },
     "execution_count": 4,
     "metadata": {},
     "output_type": "execute_result"
    }
   ],
   "source": [
    "train.head()"
   ]
  },
  {
   "cell_type": "markdown",
   "id": "317e7e43",
   "metadata": {
    "papermill": {
     "duration": 0.010454,
     "end_time": "2024-01-23T12:56:24.689328",
     "exception": false,
     "start_time": "2024-01-23T12:56:24.678874",
     "status": "completed"
    },
    "tags": []
   },
   "source": [
    "### Missing values in training data"
   ]
  },
  {
   "cell_type": "code",
   "execution_count": 5,
   "id": "5067c020",
   "metadata": {
    "execution": {
     "iopub.execute_input": "2024-01-23T12:56:24.714549Z",
     "iopub.status.busy": "2024-01-23T12:56:24.713680Z",
     "iopub.status.idle": "2024-01-23T12:56:24.724672Z",
     "shell.execute_reply": "2024-01-23T12:56:24.723188Z"
    },
    "papermill": {
     "duration": 0.026768,
     "end_time": "2024-01-23T12:56:24.727100",
     "exception": false,
     "start_time": "2024-01-23T12:56:24.700332",
     "status": "completed"
    },
    "tags": []
   },
   "outputs": [
    {
     "data": {
      "text/plain": [
       "PassengerId      0\n",
       "Survived         0\n",
       "Pclass           0\n",
       "Name             0\n",
       "Sex              0\n",
       "Age            177\n",
       "SibSp            0\n",
       "Parch            0\n",
       "Ticket           0\n",
       "Fare             0\n",
       "Cabin          687\n",
       "Embarked         2\n",
       "dtype: int64"
      ]
     },
     "execution_count": 5,
     "metadata": {},
     "output_type": "execute_result"
    }
   ],
   "source": [
    "train.isnull().sum()"
   ]
  },
  {
   "cell_type": "code",
   "execution_count": 6,
   "id": "1b5fcbfb",
   "metadata": {
    "execution": {
     "iopub.execute_input": "2024-01-23T12:56:24.751202Z",
     "iopub.status.busy": "2024-01-23T12:56:24.749852Z",
     "iopub.status.idle": "2024-01-23T12:56:24.757285Z",
     "shell.execute_reply": "2024-01-23T12:56:24.755656Z"
    },
    "papermill": {
     "duration": 0.02206,
     "end_time": "2024-01-23T12:56:24.759633",
     "exception": false,
     "start_time": "2024-01-23T12:56:24.737573",
     "status": "completed"
    },
    "tags": []
   },
   "outputs": [
    {
     "name": "stdout",
     "output_type": "stream",
     "text": [
      "(891, 12)\n",
      "(418, 11)\n"
     ]
    }
   ],
   "source": [
    "print(train.shape)\n",
    "print(test.shape)"
   ]
  },
  {
   "cell_type": "markdown",
   "id": "f069bc3d",
   "metadata": {
    "papermill": {
     "duration": 0.010139,
     "end_time": "2024-01-23T12:56:24.780113",
     "exception": false,
     "start_time": "2024-01-23T12:56:24.769974",
     "status": "completed"
    },
    "tags": []
   },
   "source": [
    "### Missing values in Test Data"
   ]
  },
  {
   "cell_type": "code",
   "execution_count": 7,
   "id": "125e47e1",
   "metadata": {
    "execution": {
     "iopub.execute_input": "2024-01-23T12:56:24.802979Z",
     "iopub.status.busy": "2024-01-23T12:56:24.802554Z",
     "iopub.status.idle": "2024-01-23T12:56:24.813420Z",
     "shell.execute_reply": "2024-01-23T12:56:24.811934Z"
    },
    "papermill": {
     "duration": 0.026567,
     "end_time": "2024-01-23T12:56:24.817013",
     "exception": false,
     "start_time": "2024-01-23T12:56:24.790446",
     "status": "completed"
    },
    "tags": []
   },
   "outputs": [
    {
     "data": {
      "text/plain": [
       "PassengerId      0\n",
       "Pclass           0\n",
       "Name             0\n",
       "Sex              0\n",
       "Age             86\n",
       "SibSp            0\n",
       "Parch            0\n",
       "Ticket           0\n",
       "Fare             1\n",
       "Cabin          327\n",
       "Embarked         0\n",
       "dtype: int64"
      ]
     },
     "execution_count": 7,
     "metadata": {},
     "output_type": "execute_result"
    }
   ],
   "source": [
    "test.isnull().sum()"
   ]
  },
  {
   "cell_type": "markdown",
   "id": "ecafa1d9",
   "metadata": {
    "papermill": {
     "duration": 0.010501,
     "end_time": "2024-01-23T12:56:24.839904",
     "exception": false,
     "start_time": "2024-01-23T12:56:24.829403",
     "status": "completed"
    },
    "tags": []
   },
   "source": [
    "Assumptions\n",
    "1. There are 891 rows in training data\n",
    "2. Age plays an important role, children had more chances of survival\n",
    "3. Cabin : Drop (Large no. of missing values)\n",
    "4. Sex : Females had higher chances of survival"
   ]
  },
  {
   "cell_type": "markdown",
   "id": "fc2994f2",
   "metadata": {
    "papermill": {
     "duration": 0.010216,
     "end_time": "2024-01-23T12:56:24.924174",
     "exception": false,
     "start_time": "2024-01-23T12:56:24.913958",
     "status": "completed"
    },
    "tags": []
   },
   "source": [
    "### Data Visualization"
   ]
  },
  {
   "cell_type": "code",
   "execution_count": 8,
   "id": "9859caae",
   "metadata": {
    "execution": {
     "iopub.execute_input": "2024-01-23T12:56:24.947219Z",
     "iopub.status.busy": "2024-01-23T12:56:24.946769Z",
     "iopub.status.idle": "2024-01-23T12:56:25.429478Z",
     "shell.execute_reply": "2024-01-23T12:56:25.427903Z"
    },
    "papermill": {
     "duration": 0.497164,
     "end_time": "2024-01-23T12:56:25.432010",
     "exception": false,
     "start_time": "2024-01-23T12:56:24.934846",
     "status": "completed"
    },
    "tags": []
   },
   "outputs": [
    {
     "name": "stdout",
     "output_type": "stream",
     "text": [
      "Percentage of women who survived: 74.20382165605095\n",
      "Percentage of men who survived: 18.890814558058924\n"
     ]
    },
    {
     "data": {
      "image/png": "[encoded data removed]",
      "text/plain": [
       "<Figure size 640x480 with 1 Axes>"
      ]
     },
     "metadata": {},
     "output_type": "display_data"
    }
   ],
   "source": [
    "sns.barplot(x='Sex',y='Survived',data=train)\n",
    "# Print Percentage\n",
    "print(\"Percentage of women who survived:\",train['Survived'][train['Sex']=='female'].value_counts(normalize=True)[1]*100)\n",
    "print(\"Percentage of men who survived:\",train['Survived'][train['Sex']=='male'].value_counts(normalize=True)[1]*100)"
   ]
  },
  {
   "cell_type": "markdown",
   "id": "2e422a7b",
   "metadata": {
    "papermill": {
     "duration": 0.010724,
     "end_time": "2024-01-23T12:56:25.453789",
     "exception": false,
     "start_time": "2024-01-23T12:56:25.443065",
     "status": "completed"
    },
    "tags": []
   },
   "source": [
    "### PClass"
   ]
  },
  {
   "cell_type": "code",
   "execution_count": 9,
   "id": "0d3d424a",
   "metadata": {
    "execution": {
     "iopub.execute_input": "2024-01-23T12:56:25.478289Z",
     "iopub.status.busy": "2024-01-23T12:56:25.477858Z",
     "iopub.status.idle": "2024-01-23T12:56:25.831127Z",
     "shell.execute_reply": "2024-01-23T12:56:25.829339Z"
    },
    "papermill": {
     "duration": 0.368657,
     "end_time": "2024-01-23T12:56:25.833849",
     "exception": false,
     "start_time": "2024-01-23T12:56:25.465192",
     "status": "completed"
    },
    "tags": []
   },
   "outputs": [
    {
     "name": "stdout",
     "output_type": "stream",
     "text": [
      "Percentage of Pclass=1 who survived: 62.96296296296296\n",
      "Percentage of Pclass=2 who survived: 47.28260869565217\n",
      "Percentage of Pclass=3 who survived: 24.236252545824847\n"
     ]
    },
    {
     "data": {
      "image/png": "[encoded data removed]",
      "text/plain": [
       "<Figure size 640x480 with 1 Axes>"
      ]
     },
     "metadata": {},
     "output_type": "display_data"
    }
   ],
   "source": [
    "sns.barplot(x='Pclass',y='Survived',data=train)\n",
    "print(\"Percentage of Pclass=1 who survived:\",train['Survived'][train['Pclass']==1].value_counts(normalize=True)[1]*100)\n",
    "print(\"Percentage of Pclass=2 who survived:\",train['Survived'][train['Pclass']==2].value_counts(normalize=True)[1]*100)\n",
    "print(\"Percentage of Pclass=3 who survived:\",train['Survived'][train['Pclass']==3].value_counts(normalize=True)[1]*100)"
   ]
  },
  {
   "cell_type": "markdown",
   "id": "7d71ab80",
   "metadata": {
    "papermill": {
     "duration": 0.01252,
     "end_time": "2024-01-23T12:56:25.858555",
     "exception": false,
     "start_time": "2024-01-23T12:56:25.846035",
     "status": "completed"
    },
    "tags": []
   },
   "source": [
    "### Age"
   ]
  },
  {
   "cell_type": "code",
   "execution_count": 10,
   "id": "061879fe",
   "metadata": {
    "execution": {
     "iopub.execute_input": "2024-01-23T12:56:25.884707Z",
     "iopub.status.busy": "2024-01-23T12:56:25.884297Z",
     "iopub.status.idle": "2024-01-23T12:56:25.893750Z",
     "shell.execute_reply": "2024-01-23T12:56:25.892336Z"
    },
    "papermill": {
     "duration": 0.025016,
     "end_time": "2024-01-23T12:56:25.896271",
     "exception": false,
     "start_time": "2024-01-23T12:56:25.871255",
     "status": "completed"
    },
    "tags": []
   },
   "outputs": [],
   "source": [
    "# Filling null values with an arbitrary value\n",
    "train.Age = train.Age.fillna(-0.5)\n",
    "test.Age = test.Age.fillna(-0.5)"
   ]
  },
  {
   "cell_type": "markdown",
   "id": "42e1faff",
   "metadata": {
    "papermill": {
     "duration": 0.011362,
     "end_time": "2024-01-23T12:56:25.918972",
     "exception": false,
     "start_time": "2024-01-23T12:56:25.907610",
     "status": "completed"
    },
    "tags": []
   },
   "source": [
    "### Categorizing Age\n",
    "1. -1 : 0  -> unknown\n",
    "2.  0 : 5  -> Baby\n",
    "3.  5 : 12 -> Child\n",
    "4.  12: 18 -> Teenager\n",
    "5.  18: 24 -> Student\n",
    "6.  24: 35 -> Young Adult\n",
    "7.  35: 60 -> Adult\n",
    "8.  60 +   -> Senior"
   ]
  },
  {
   "cell_type": "code",
   "execution_count": 11,
   "id": "f7d71a46",
   "metadata": {
    "execution": {
     "iopub.execute_input": "2024-01-23T12:56:25.943316Z",
     "iopub.status.busy": "2024-01-23T12:56:25.942903Z",
     "iopub.status.idle": "2024-01-23T12:56:26.416864Z",
     "shell.execute_reply": "2024-01-23T12:56:26.415772Z"
    },
    "papermill": {
     "duration": 0.489174,
     "end_time": "2024-01-23T12:56:26.419528",
     "exception": false,
     "start_time": "2024-01-23T12:56:25.930354",
     "status": "completed"
    },
    "tags": []
   },
   "outputs": [
    {
     "data": {
      "text/plain": [
       "<Axes: xlabel='AgeGroup', ylabel='Survived'>"
      ]
     },
     "execution_count": 11,
     "metadata": {},
     "output_type": "execute_result"
    },
    {
     "data": {
      "image/png": "[encoded data removed]",
      "text/plain": [
       "<Figure size 640x480 with 1 Axes>"
      ]
     },
     "metadata": {},
     "output_type": "display_data"
    }
   ],
   "source": [
    "bins = [-1,0,5,12,18,24,35,60,np.inf]\n",
    "labels = [\"Unknown\",\"Baby\",\"Child\",\"Teenager\",\"Student\",\"Young Adult\",\"Adult\",\"Senior\"]\n",
    "train[\"AgeGroup\"] = pd.cut(train['Age'],bins=bins,labels=labels)\n",
    "test[\"AgeGroup\"] = pd.cut(test['Age'],bins=bins,labels=labels)\n",
    "\n",
    "sns.barplot(x='AgeGroup',y='Survived',data=train)"
   ]
  },
  {
   "cell_type": "markdown",
   "id": "8c068fea",
   "metadata": {
    "papermill": {
     "duration": 0.01257,
     "end_time": "2024-01-23T12:56:26.445679",
     "exception": false,
     "start_time": "2024-01-23T12:56:26.433109",
     "status": "completed"
    },
    "tags": []
   },
   "source": [
    "A baby had maximum chances of survival."
   ]
  },
  {
   "cell_type": "code",
   "execution_count": 12,
   "id": "15f32640",
   "metadata": {
    "execution": {
     "iopub.execute_input": "2024-01-23T12:56:26.474946Z",
     "iopub.status.busy": "2024-01-23T12:56:26.474456Z",
     "iopub.status.idle": "2024-01-23T12:56:26.481193Z",
     "shell.execute_reply": "2024-01-23T12:56:26.480446Z"
    },
    "papermill": {
     "duration": 0.023724,
     "end_time": "2024-01-23T12:56:26.483769",
     "exception": false,
     "start_time": "2024-01-23T12:56:26.460045",
     "status": "completed"
    },
    "tags": []
   },
   "outputs": [
    {
     "data": {
      "text/plain": [
       "Index(['PassengerId', 'Survived', 'Pclass', 'Name', 'Sex', 'Age', 'SibSp',\n",
       "       'Parch', 'Ticket', 'Fare', 'Cabin', 'Embarked', 'AgeGroup'],\n",
       "      dtype='object')"
      ]
     },
     "execution_count": 12,
     "metadata": {},
     "output_type": "execute_result"
    }
   ],
   "source": [
    "train.columns"
   ]
  },
  {
   "cell_type": "markdown",
   "id": "056537ee",
   "metadata": {
    "papermill": {
     "duration": 0.012367,
     "end_time": "2024-01-23T12:56:26.509400",
     "exception": false,
     "start_time": "2024-01-23T12:56:26.497033",
     "status": "completed"
    },
    "tags": []
   },
   "source": [
    "### Dropping unimportant columns"
   ]
  },
  {
   "cell_type": "code",
   "execution_count": 13,
   "id": "80390fdf",
   "metadata": {
    "execution": {
     "iopub.execute_input": "2024-01-23T12:56:26.536757Z",
     "iopub.status.busy": "2024-01-23T12:56:26.536157Z",
     "iopub.status.idle": "2024-01-23T12:56:26.542799Z",
     "shell.execute_reply": "2024-01-23T12:56:26.541645Z"
    },
    "papermill": {
     "duration": 0.02382,
     "end_time": "2024-01-23T12:56:26.545680",
     "exception": false,
     "start_time": "2024-01-23T12:56:26.521860",
     "status": "completed"
    },
    "tags": []
   },
   "outputs": [],
   "source": [
    "train = train.drop(['Ticket','Cabin','Fare'],axis=1)\n",
    "test  = test.drop(['Ticket','Cabin','Fare'],axis=1)"
   ]
  },
  {
   "cell_type": "markdown",
   "id": "277683a2",
   "metadata": {
    "papermill": {
     "duration": 0.011491,
     "end_time": "2024-01-23T12:56:26.569323",
     "exception": false,
     "start_time": "2024-01-23T12:56:26.557832",
     "status": "completed"
    },
    "tags": []
   },
   "source": [
    "### Dealing with Missing Values"
   ]
  },
  {
   "cell_type": "code",
   "execution_count": 14,
   "id": "c2b2ffd6",
   "metadata": {
    "execution": {
     "iopub.execute_input": "2024-01-23T12:56:26.594401Z",
     "iopub.status.busy": "2024-01-23T12:56:26.594031Z",
     "iopub.status.idle": "2024-01-23T12:56:26.605001Z",
     "shell.execute_reply": "2024-01-23T12:56:26.603404Z"
    },
    "papermill": {
     "duration": 0.027173,
     "end_time": "2024-01-23T12:56:26.608158",
     "exception": false,
     "start_time": "2024-01-23T12:56:26.580985",
     "status": "completed"
    },
    "tags": []
   },
   "outputs": [
    {
     "name": "stdout",
     "output_type": "stream",
     "text": [
      "Number of people embarking in Southampton(S):\n",
      "644\n",
      "Number of people embarking in Cherbourg(C):\n",
      "168\n",
      "Number of people embarking in Queenstown(Q):\n",
      "77\n"
     ]
    }
   ],
   "source": [
    "print(\"Number of people embarking in Southampton(S):\")\n",
    "southampton = train[train['Embarked']=='S'].shape[0]\n",
    "print(southampton)\n",
    "\n",
    "print(\"Number of people embarking in Cherbourg(C):\")\n",
    "cherbourg = train[train['Embarked']=='C'].shape[0]\n",
    "print(cherbourg)\n",
    "\n",
    "print(\"Number of people embarking in Queenstown(Q):\")\n",
    "queenstown = train[train['Embarked']=='Q'].shape[0]\n",
    "print(queenstown)"
   ]
  },
  {
   "cell_type": "code",
   "execution_count": 15,
   "id": "b12b9778",
   "metadata": {
    "execution": {
     "iopub.execute_input": "2024-01-23T12:56:26.633705Z",
     "iopub.status.busy": "2024-01-23T12:56:26.633337Z",
     "iopub.status.idle": "2024-01-23T12:56:26.651126Z",
     "shell.execute_reply": "2024-01-23T12:56:26.649702Z"
    },
    "papermill": {
     "duration": 0.033471,
     "end_time": "2024-01-23T12:56:26.653592",
     "exception": false,
     "start_time": "2024-01-23T12:56:26.620121",
     "status": "completed"
    },
    "tags": []
   },
   "outputs": [
    {
     "data": {
      "text/html": [
       "<div>\n",
       "<style scoped>\n",
       "    .dataframe tbody tr th:only-of-type {\n",
       "        vertical-align: middle;\n",
       "    }\n",
       "\n",
       "    .dataframe tbody tr th {\n",
       "        vertical-align: top;\n",
       "    }\n",
       "\n",
       "    .dataframe thead th {\n",
       "        text-align: right;\n",
       "    }\n",
       "</style>\n",
       "<table border=\"1\" class=\"dataframe\">\n",
       "  <thead>\n",
       "    <tr style=\"text-align: right;\">\n",
       "      <th></th>\n",
       "      <th>PassengerId</th>\n",
       "      <th>Survived</th>\n",
       "      <th>Pclass</th>\n",
       "      <th>Name</th>\n",
       "      <th>Sex</th>\n",
       "      <th>Age</th>\n",
       "      <th>SibSp</th>\n",
       "      <th>Parch</th>\n",
       "      <th>Embarked</th>\n",
       "      <th>AgeGroup</th>\n",
       "    </tr>\n",
       "  </thead>\n",
       "  <tbody>\n",
       "    <tr>\n",
       "      <th>61</th>\n",
       "      <td>62</td>\n",
       "      <td>1</td>\n",
       "      <td>1</td>\n",
       "      <td>Icard, Miss. Amelie</td>\n",
       "      <td>female</td>\n",
       "      <td>38.0</td>\n",
       "      <td>0</td>\n",
       "      <td>0</td>\n",
       "      <td>NaN</td>\n",
       "      <td>Adult</td>\n",
       "    </tr>\n",
       "    <tr>\n",
       "      <th>829</th>\n",
       "      <td>830</td>\n",
       "      <td>1</td>\n",
       "      <td>1</td>\n",
       "      <td>Stone, Mrs. George Nelson (Martha Evelyn)</td>\n",
       "      <td>female</td>\n",
       "      <td>62.0</td>\n",
       "      <td>0</td>\n",
       "      <td>0</td>\n",
       "      <td>NaN</td>\n",
       "      <td>Senior</td>\n",
       "    </tr>\n",
       "  </tbody>\n",
       "</table>\n",
       "</div>"
      ],
      "text/plain": [
       "     PassengerId  Survived  Pclass                                       Name  \\\n",
       "61            62         1       1                        Icard, Miss. Amelie   \n",
       "829          830         1       1  Stone, Mrs. George Nelson (Martha Evelyn)   \n",
       "\n",
       "        Sex   Age  SibSp  Parch Embarked AgeGroup  \n",
       "61   female  38.0      0      0      NaN    Adult  \n",
       "829  female  62.0      0      0      NaN   Senior  "
      ]
     },
     "execution_count": 15,
     "metadata": {},
     "output_type": "execute_result"
    }
   ],
   "source": [
    "train[train['Embarked'].isnull()]"
   ]
  },
  {
   "cell_type": "code",
   "execution_count": 16,
   "id": "31cbce40",
   "metadata": {
    "execution": {
     "iopub.execute_input": "2024-01-23T12:56:26.680641Z",
     "iopub.status.busy": "2024-01-23T12:56:26.680169Z",
     "iopub.status.idle": "2024-01-23T12:56:26.687998Z",
     "shell.execute_reply": "2024-01-23T12:56:26.686590Z"
    },
    "papermill": {
     "duration": 0.024193,
     "end_time": "2024-01-23T12:56:26.690518",
     "exception": false,
     "start_time": "2024-01-23T12:56:26.666325",
     "status": "completed"
    },
    "tags": []
   },
   "outputs": [],
   "source": [
    "# Replace missing values in embarked with 'S'\n",
    "train = train.fillna({'Embarked':'S'})"
   ]
  },
  {
   "cell_type": "markdown",
   "id": "4c602dde",
   "metadata": {
    "papermill": {
     "duration": 0.011926,
     "end_time": "2024-01-23T12:56:26.714600",
     "exception": false,
     "start_time": "2024-01-23T12:56:26.702674",
     "status": "completed"
    },
    "tags": []
   },
   "source": [
    "### Handling missing values in 'Age' column\n",
    "1. Creating a new feature with the help of regex by taking out initials in each name and then group the passengers according to their initails.\n",
    "2. Fill the missing age with the mode of age of people belonging to that group of initials."
   ]
  },
  {
   "cell_type": "code",
   "execution_count": 17,
   "id": "05ed6a7b",
   "metadata": {
    "execution": {
     "iopub.execute_input": "2024-01-23T12:56:26.740581Z",
     "iopub.status.busy": "2024-01-23T12:56:26.740197Z",
     "iopub.status.idle": "2024-01-23T12:56:26.774691Z",
     "shell.execute_reply": "2024-01-23T12:56:26.773320Z"
    },
    "papermill": {
     "duration": 0.050133,
     "end_time": "2024-01-23T12:56:26.776856",
     "exception": false,
     "start_time": "2024-01-23T12:56:26.726723",
     "status": "completed"
    },
    "tags": []
   },
   "outputs": [
    {
     "data": {
      "text/html": [
       "<div>\n",
       "<style scoped>\n",
       "    .dataframe tbody tr th:only-of-type {\n",
       "        vertical-align: middle;\n",
       "    }\n",
       "\n",
       "    .dataframe tbody tr th {\n",
       "        vertical-align: top;\n",
       "    }\n",
       "\n",
       "    .dataframe thead th {\n",
       "        text-align: right;\n",
       "    }\n",
       "</style>\n",
       "<table border=\"1\" class=\"dataframe\">\n",
       "  <thead>\n",
       "    <tr style=\"text-align: right;\">\n",
       "      <th>Sex</th>\n",
       "      <th>female</th>\n",
       "      <th>male</th>\n",
       "    </tr>\n",
       "    <tr>\n",
       "      <th>Title</th>\n",
       "      <th></th>\n",
       "      <th></th>\n",
       "    </tr>\n",
       "  </thead>\n",
       "  <tbody>\n",
       "    <tr>\n",
       "      <th>Capt</th>\n",
       "      <td>0</td>\n",
       "      <td>1</td>\n",
       "    </tr>\n",
       "    <tr>\n",
       "      <th>Col</th>\n",
       "      <td>0</td>\n",
       "      <td>2</td>\n",
       "    </tr>\n",
       "    <tr>\n",
       "      <th>Countess</th>\n",
       "      <td>1</td>\n",
       "      <td>0</td>\n",
       "    </tr>\n",
       "    <tr>\n",
       "      <th>Don</th>\n",
       "      <td>0</td>\n",
       "      <td>1</td>\n",
       "    </tr>\n",
       "    <tr>\n",
       "      <th>Dr</th>\n",
       "      <td>1</td>\n",
       "      <td>6</td>\n",
       "    </tr>\n",
       "    <tr>\n",
       "      <th>Jonkheer</th>\n",
       "      <td>0</td>\n",
       "      <td>1</td>\n",
       "    </tr>\n",
       "    <tr>\n",
       "      <th>Lady</th>\n",
       "      <td>1</td>\n",
       "      <td>0</td>\n",
       "    </tr>\n",
       "    <tr>\n",
       "      <th>Major</th>\n",
       "      <td>0</td>\n",
       "      <td>2</td>\n",
       "    </tr>\n",
       "    <tr>\n",
       "      <th>Master</th>\n",
       "      <td>0</td>\n",
       "      <td>40</td>\n",
       "    </tr>\n",
       "    <tr>\n",
       "      <th>Miss</th>\n",
       "      <td>182</td>\n",
       "      <td>0</td>\n",
       "    </tr>\n",
       "    <tr>\n",
       "      <th>Mlle</th>\n",
       "      <td>2</td>\n",
       "      <td>0</td>\n",
       "    </tr>\n",
       "    <tr>\n",
       "      <th>Mme</th>\n",
       "      <td>1</td>\n",
       "      <td>0</td>\n",
       "    </tr>\n",
       "    <tr>\n",
       "      <th>Mr</th>\n",
       "      <td>0</td>\n",
       "      <td>517</td>\n",
       "    </tr>\n",
       "    <tr>\n",
       "      <th>Mrs</th>\n",
       "      <td>125</td>\n",
       "      <td>0</td>\n",
       "    </tr>\n",
       "    <tr>\n",
       "      <th>Ms</th>\n",
       "      <td>1</td>\n",
       "      <td>0</td>\n",
       "    </tr>\n",
       "    <tr>\n",
       "      <th>Rev</th>\n",
       "      <td>0</td>\n",
       "      <td>6</td>\n",
       "    </tr>\n",
       "    <tr>\n",
       "      <th>Sir</th>\n",
       "      <td>0</td>\n",
       "      <td>1</td>\n",
       "    </tr>\n",
       "  </tbody>\n",
       "</table>\n",
       "</div>"
      ],
      "text/plain": [
       "Sex       female  male\n",
       "Title                 \n",
       "Capt           0     1\n",
       "Col            0     2\n",
       "Countess       1     0\n",
       "Don            0     1\n",
       "Dr             1     6\n",
       "Jonkheer       0     1\n",
       "Lady           1     0\n",
       "Major          0     2\n",
       "Master         0    40\n",
       "Miss         182     0\n",
       "Mlle           2     0\n",
       "Mme            1     0\n",
       "Mr             0   517\n",
       "Mrs          125     0\n",
       "Ms             1     0\n",
       "Rev            0     6\n",
       "Sir            0     1"
      ]
     },
     "execution_count": 17,
     "metadata": {},
     "output_type": "execute_result"
    }
   ],
   "source": [
    "# Combining both dataset to handle missing 'age' value in both\n",
    "combine = [train,test]\n",
    "for dataset in combine:\n",
    "    dataset['Title'] = dataset.Name.str.extract('([A-Za-z]+)\\.',expand=False)\n",
    "pd.crosstab(train['Title'],train['Sex'])"
   ]
  },
  {
   "cell_type": "code",
   "execution_count": 18,
   "id": "f62d6351",
   "metadata": {
    "execution": {
     "iopub.execute_input": "2024-01-23T12:56:26.804445Z",
     "iopub.status.busy": "2024-01-23T12:56:26.803974Z",
     "iopub.status.idle": "2024-01-23T12:56:26.833918Z",
     "shell.execute_reply": "2024-01-23T12:56:26.832887Z"
    },
    "papermill": {
     "duration": 0.047249,
     "end_time": "2024-01-23T12:56:26.836704",
     "exception": false,
     "start_time": "2024-01-23T12:56:26.789455",
     "status": "completed"
    },
    "tags": []
   },
   "outputs": [
    {
     "data": {
      "text/html": [
       "<div>\n",
       "<style scoped>\n",
       "    .dataframe tbody tr th:only-of-type {\n",
       "        vertical-align: middle;\n",
       "    }\n",
       "\n",
       "    .dataframe tbody tr th {\n",
       "        vertical-align: top;\n",
       "    }\n",
       "\n",
       "    .dataframe thead th {\n",
       "        text-align: right;\n",
       "    }\n",
       "</style>\n",
       "<table border=\"1\" class=\"dataframe\">\n",
       "  <thead>\n",
       "    <tr style=\"text-align: right;\">\n",
       "      <th></th>\n",
       "      <th>Title</th>\n",
       "      <th>Survived</th>\n",
       "    </tr>\n",
       "  </thead>\n",
       "  <tbody>\n",
       "    <tr>\n",
       "      <th>0</th>\n",
       "      <td>Master</td>\n",
       "      <td>0.575000</td>\n",
       "    </tr>\n",
       "    <tr>\n",
       "      <th>1</th>\n",
       "      <td>Miss</td>\n",
       "      <td>0.702703</td>\n",
       "    </tr>\n",
       "    <tr>\n",
       "      <th>2</th>\n",
       "      <td>Mr</td>\n",
       "      <td>0.156673</td>\n",
       "    </tr>\n",
       "    <tr>\n",
       "      <th>3</th>\n",
       "      <td>Mrs</td>\n",
       "      <td>0.793651</td>\n",
       "    </tr>\n",
       "    <tr>\n",
       "      <th>4</th>\n",
       "      <td>Rare</td>\n",
       "      <td>0.250000</td>\n",
       "    </tr>\n",
       "    <tr>\n",
       "      <th>5</th>\n",
       "      <td>Royal</td>\n",
       "      <td>1.000000</td>\n",
       "    </tr>\n",
       "  </tbody>\n",
       "</table>\n",
       "</div>"
      ],
      "text/plain": [
       "    Title  Survived\n",
       "0  Master  0.575000\n",
       "1    Miss  0.702703\n",
       "2      Mr  0.156673\n",
       "3     Mrs  0.793651\n",
       "4    Rare  0.250000\n",
       "5   Royal  1.000000"
      ]
     },
     "execution_count": 18,
     "metadata": {},
     "output_type": "execute_result"
    }
   ],
   "source": [
    "# Clubbing all titles\n",
    "for dataset in combine:\n",
    "    dataset['Title'] = dataset['Title'].replace(['Capt','Col','Don','Dr','Major','Rev','Jonkheer',\n",
    "                                                'Dona'],'Rare')\n",
    "    dataset['Title'] = dataset['Title'].replace(['Countess','Lady','Sir'],'Royal')\n",
    "    dataset['Title'] = dataset['Title'].replace('Mlle','Miss')\n",
    "    dataset['Title'] = dataset['Title'].replace('Ms','Miss')\n",
    "    dataset['Title'] = dataset['Title'].replace('Mme','Mrs')\n",
    "    \n",
    "train[['Title','Survived']].groupby(['Title'],as_index=False).mean()"
   ]
  },
  {
   "cell_type": "code",
   "execution_count": 19,
   "id": "12952825",
   "metadata": {
    "execution": {
     "iopub.execute_input": "2024-01-23T12:56:26.866094Z",
     "iopub.status.busy": "2024-01-23T12:56:26.865676Z",
     "iopub.status.idle": "2024-01-23T12:56:26.876892Z",
     "shell.execute_reply": "2024-01-23T12:56:26.875809Z"
    },
    "papermill": {
     "duration": 0.02843,
     "end_time": "2024-01-23T12:56:26.879350",
     "exception": false,
     "start_time": "2024-01-23T12:56:26.850920",
     "status": "completed"
    },
    "tags": []
   },
   "outputs": [
    {
     "data": {
      "text/plain": [
       "['Master', 'Miss', 'Mr', 'Mrs', 'Rare', 'Royal']"
      ]
     },
     "execution_count": 19,
     "metadata": {},
     "output_type": "execute_result"
    }
   ],
   "source": [
    "list(train[['Title','Survived']].groupby(['Title'],as_index=False).mean()['Title'])"
   ]
  },
  {
   "cell_type": "code",
   "execution_count": 20,
   "id": "cc2bd50b",
   "metadata": {
    "execution": {
     "iopub.execute_input": "2024-01-23T12:56:26.908991Z",
     "iopub.status.busy": "2024-01-23T12:56:26.908516Z",
     "iopub.status.idle": "2024-01-23T12:56:26.918434Z",
     "shell.execute_reply": "2024-01-23T12:56:26.917046Z"
    },
    "papermill": {
     "duration": 0.027809,
     "end_time": "2024-01-23T12:56:26.920924",
     "exception": false,
     "start_time": "2024-01-23T12:56:26.893115",
     "status": "completed"
    },
    "tags": []
   },
   "outputs": [],
   "source": [
    "title_mapping = {'Mr':1,'Miss':2,'Mrs':3,'Master':4,'Royal':5,'Rare':6}\n",
    "for dataset in combine:\n",
    "    dataset['Title'] = dataset['Title'].map(title_mapping)\n",
    "    dataset['Title'] = dataset['Title'].fillna(0)"
   ]
  },
  {
   "cell_type": "code",
   "execution_count": 21,
   "id": "a4e5634f",
   "metadata": {
    "execution": {
     "iopub.execute_input": "2024-01-23T12:56:26.948729Z",
     "iopub.status.busy": "2024-01-23T12:56:26.948318Z",
     "iopub.status.idle": "2024-01-23T12:56:26.964880Z",
     "shell.execute_reply": "2024-01-23T12:56:26.963578Z"
    },
    "papermill": {
     "duration": 0.03336,
     "end_time": "2024-01-23T12:56:26.967384",
     "exception": false,
     "start_time": "2024-01-23T12:56:26.934024",
     "status": "completed"
    },
    "tags": []
   },
   "outputs": [
    {
     "data": {
      "text/html": [
       "<div>\n",
       "<style scoped>\n",
       "    .dataframe tbody tr th:only-of-type {\n",
       "        vertical-align: middle;\n",
       "    }\n",
       "\n",
       "    .dataframe tbody tr th {\n",
       "        vertical-align: top;\n",
       "    }\n",
       "\n",
       "    .dataframe thead th {\n",
       "        text-align: right;\n",
       "    }\n",
       "</style>\n",
       "<table border=\"1\" class=\"dataframe\">\n",
       "  <thead>\n",
       "    <tr style=\"text-align: right;\">\n",
       "      <th></th>\n",
       "      <th>PassengerId</th>\n",
       "      <th>Survived</th>\n",
       "      <th>Pclass</th>\n",
       "      <th>Name</th>\n",
       "      <th>Sex</th>\n",
       "      <th>Age</th>\n",
       "      <th>SibSp</th>\n",
       "      <th>Parch</th>\n",
       "      <th>Embarked</th>\n",
       "      <th>AgeGroup</th>\n",
       "      <th>Title</th>\n",
       "    </tr>\n",
       "  </thead>\n",
       "  <tbody>\n",
       "    <tr>\n",
       "      <th>0</th>\n",
       "      <td>1</td>\n",
       "      <td>0</td>\n",
       "      <td>3</td>\n",
       "      <td>Braund, Mr. Owen Harris</td>\n",
       "      <td>male</td>\n",
       "      <td>22.0</td>\n",
       "      <td>1</td>\n",
       "      <td>0</td>\n",
       "      <td>S</td>\n",
       "      <td>Student</td>\n",
       "      <td>1</td>\n",
       "    </tr>\n",
       "    <tr>\n",
       "      <th>1</th>\n",
       "      <td>2</td>\n",
       "      <td>1</td>\n",
       "      <td>1</td>\n",
       "      <td>Cumings, Mrs. John Bradley (Florence Briggs Th...</td>\n",
       "      <td>female</td>\n",
       "      <td>38.0</td>\n",
       "      <td>1</td>\n",
       "      <td>0</td>\n",
       "      <td>C</td>\n",
       "      <td>Adult</td>\n",
       "      <td>3</td>\n",
       "    </tr>\n",
       "    <tr>\n",
       "      <th>2</th>\n",
       "      <td>3</td>\n",
       "      <td>1</td>\n",
       "      <td>3</td>\n",
       "      <td>Heikkinen, Miss. Laina</td>\n",
       "      <td>female</td>\n",
       "      <td>26.0</td>\n",
       "      <td>0</td>\n",
       "      <td>0</td>\n",
       "      <td>S</td>\n",
       "      <td>Young Adult</td>\n",
       "      <td>2</td>\n",
       "    </tr>\n",
       "    <tr>\n",
       "      <th>3</th>\n",
       "      <td>4</td>\n",
       "      <td>1</td>\n",
       "      <td>1</td>\n",
       "      <td>Futrelle, Mrs. Jacques Heath (Lily May Peel)</td>\n",
       "      <td>female</td>\n",
       "      <td>35.0</td>\n",
       "      <td>1</td>\n",
       "      <td>0</td>\n",
       "      <td>S</td>\n",
       "      <td>Young Adult</td>\n",
       "      <td>3</td>\n",
       "    </tr>\n",
       "    <tr>\n",
       "      <th>4</th>\n",
       "      <td>5</td>\n",
       "      <td>0</td>\n",
       "      <td>3</td>\n",
       "      <td>Allen, Mr. William Henry</td>\n",
       "      <td>male</td>\n",
       "      <td>35.0</td>\n",
       "      <td>0</td>\n",
       "      <td>0</td>\n",
       "      <td>S</td>\n",
       "      <td>Young Adult</td>\n",
       "      <td>1</td>\n",
       "    </tr>\n",
       "  </tbody>\n",
       "</table>\n",
       "</div>"
      ],
      "text/plain": [
       "   PassengerId  Survived  Pclass  \\\n",
       "0            1         0       3   \n",
       "1            2         1       1   \n",
       "2            3         1       3   \n",
       "3            4         1       1   \n",
       "4            5         0       3   \n",
       "\n",
       "                                                Name     Sex   Age  SibSp  \\\n",
       "0                            Braund, Mr. Owen Harris    male  22.0      1   \n",
       "1  Cumings, Mrs. John Bradley (Florence Briggs Th...  female  38.0      1   \n",
       "2                             Heikkinen, Miss. Laina  female  26.0      0   \n",
       "3       Futrelle, Mrs. Jacques Heath (Lily May Peel)  female  35.0      1   \n",
       "4                           Allen, Mr. William Henry    male  35.0      0   \n",
       "\n",
       "   Parch Embarked     AgeGroup  Title  \n",
       "0      0        S      Student      1  \n",
       "1      0        C        Adult      3  \n",
       "2      0        S  Young Adult      2  \n",
       "3      0        S  Young Adult      3  \n",
       "4      0        S  Young Adult      1  "
      ]
     },
     "execution_count": 21,
     "metadata": {},
     "output_type": "execute_result"
    }
   ],
   "source": [
    "train.head()"
   ]
  },
  {
   "cell_type": "code",
   "execution_count": 22,
   "id": "42488d01",
   "metadata": {
    "execution": {
     "iopub.execute_input": "2024-01-23T12:56:26.995514Z",
     "iopub.status.busy": "2024-01-23T12:56:26.994868Z",
     "iopub.status.idle": "2024-01-23T12:56:27.037306Z",
     "shell.execute_reply": "2024-01-23T12:56:27.035974Z"
    },
    "papermill": {
     "duration": 0.059805,
     "end_time": "2024-01-23T12:56:27.040035",
     "exception": false,
     "start_time": "2024-01-23T12:56:26.980230",
     "status": "completed"
    },
    "tags": []
   },
   "outputs": [],
   "source": [
    "# Finding the mode of age groups for each Title\n",
    "mr_age     = train[train['Title']==1]['AgeGroup'].mode() # Young Adult\n",
    "miss_age   = train[train['Title']==2]['AgeGroup'].mode() # Student\n",
    "mrs_age    = train[train['Title']==3]['AgeGroup'].mode() # Adult\n",
    "master_age = train[train['Title']==4]['AgeGroup'].mode() # Baby\n",
    "royal_age  = train[train['Title']==5]['AgeGroup'].mode() # Adult\n",
    "rare_age   = train[train['Title']==6]['AgeGroup'].mode() # Adult\n",
    "\n",
    "age_title_map = {1:'Young Adult',2:'Student',3:'Adult',4:'Baby',5:'Adult',6:'Adult'}\n",
    "\n",
    "# Replacing the unknown values in the age group\n",
    "for i in range(len(train['AgeGroup'])):\n",
    "    if(train['AgeGroup'][i] == 'Unknown'):\n",
    "        train['AgeGroup'][i] =age_title_map[train['Title'][i]]\n",
    "        \n",
    "for i in range(len(test['AgeGroup'])):\n",
    "    if(test['AgeGroup'][i] == 'Unknown'):\n",
    "        test['AgeGroup'][i] =age_title_map[test['Title'][i]]"
   ]
  },
  {
   "cell_type": "code",
   "execution_count": 23,
   "id": "0c38339e",
   "metadata": {
    "execution": {
     "iopub.execute_input": "2024-01-23T12:56:27.068654Z",
     "iopub.status.busy": "2024-01-23T12:56:27.068204Z",
     "iopub.status.idle": "2024-01-23T12:56:27.077480Z",
     "shell.execute_reply": "2024-01-23T12:56:27.076188Z"
    },
    "papermill": {
     "duration": 0.026497,
     "end_time": "2024-01-23T12:56:27.079921",
     "exception": false,
     "start_time": "2024-01-23T12:56:27.053424",
     "status": "completed"
    },
    "tags": []
   },
   "outputs": [
    {
     "data": {
      "text/plain": [
       "185"
      ]
     },
     "execution_count": 23,
     "metadata": {},
     "output_type": "execute_result"
    }
   ],
   "source": [
    "len(train[train['Title']==2])"
   ]
  },
  {
   "cell_type": "code",
   "execution_count": 24,
   "id": "38cea5cc",
   "metadata": {
    "execution": {
     "iopub.execute_input": "2024-01-23T12:56:27.108964Z",
     "iopub.status.busy": "2024-01-23T12:56:27.107910Z",
     "iopub.status.idle": "2024-01-23T12:56:27.121976Z",
     "shell.execute_reply": "2024-01-23T12:56:27.120269Z"
    },
    "papermill": {
     "duration": 0.031273,
     "end_time": "2024-01-23T12:56:27.124316",
     "exception": false,
     "start_time": "2024-01-23T12:56:27.093043",
     "status": "completed"
    },
    "tags": []
   },
   "outputs": [
    {
     "data": {
      "text/plain": [
       "AgeGroup\n",
       "Student        71\n",
       "Young Adult    33\n",
       "Teenager       29\n",
       "Baby           21\n",
       "Adult          19\n",
       "Child          11\n",
       "Senior          1\n",
       "Unknown         0\n",
       "Name: count, dtype: int64"
      ]
     },
     "execution_count": 24,
     "metadata": {},
     "output_type": "execute_result"
    }
   ],
   "source": [
    "train[train['Title']==2]['AgeGroup'].value_counts()"
   ]
  },
  {
   "cell_type": "markdown",
   "id": "fa928e10",
   "metadata": {
    "papermill": {
     "duration": 0.012938,
     "end_time": "2024-01-23T12:56:27.150580",
     "exception": false,
     "start_time": "2024-01-23T12:56:27.137642",
     "status": "completed"
    },
    "tags": []
   },
   "source": [
    "In the data, people with 'Title': Miss have most number of null values in Age column however instead of taking the mode of AgeGroup of people with 'Title': Miss as 'Unknown' we take it as 'Student' which is the 2nd most popular AgeGroup in this column\n"
   ]
  },
  {
   "cell_type": "code",
   "execution_count": 25,
   "id": "aa91d5e4",
   "metadata": {
    "execution": {
     "iopub.execute_input": "2024-01-23T12:56:27.180944Z",
     "iopub.status.busy": "2024-01-23T12:56:27.180545Z",
     "iopub.status.idle": "2024-01-23T12:56:27.189803Z",
     "shell.execute_reply": "2024-01-23T12:56:27.188459Z"
    },
    "papermill": {
     "duration": 0.028085,
     "end_time": "2024-01-23T12:56:27.192041",
     "exception": false,
     "start_time": "2024-01-23T12:56:27.163956",
     "status": "completed"
    },
    "tags": []
   },
   "outputs": [
    {
     "data": {
      "text/plain": [
       "['Student', 'Adult', 'Young Adult', 'Baby', 'Teenager', 'Child', 'Senior']\n",
       "Categories (8, object): ['Unknown' < 'Baby' < 'Child' < 'Teenager' < 'Student' < 'Young Adult' < 'Adult' < 'Senior']"
      ]
     },
     "execution_count": 25,
     "metadata": {},
     "output_type": "execute_result"
    }
   ],
   "source": [
    "# There is no unknown value\n",
    "train.AgeGroup.unique()"
   ]
  },
  {
   "cell_type": "code",
   "execution_count": 26,
   "id": "f4fc22fa",
   "metadata": {
    "execution": {
     "iopub.execute_input": "2024-01-23T12:56:27.222040Z",
     "iopub.status.busy": "2024-01-23T12:56:27.220929Z",
     "iopub.status.idle": "2024-01-23T12:56:27.238669Z",
     "shell.execute_reply": "2024-01-23T12:56:27.236959Z"
    },
    "papermill": {
     "duration": 0.034912,
     "end_time": "2024-01-23T12:56:27.240819",
     "exception": false,
     "start_time": "2024-01-23T12:56:27.205907",
     "status": "completed"
    },
    "tags": []
   },
   "outputs": [
    {
     "data": {
      "text/html": [
       "<div>\n",
       "<style scoped>\n",
       "    .dataframe tbody tr th:only-of-type {\n",
       "        vertical-align: middle;\n",
       "    }\n",
       "\n",
       "    .dataframe tbody tr th {\n",
       "        vertical-align: top;\n",
       "    }\n",
       "\n",
       "    .dataframe thead th {\n",
       "        text-align: right;\n",
       "    }\n",
       "</style>\n",
       "<table border=\"1\" class=\"dataframe\">\n",
       "  <thead>\n",
       "    <tr style=\"text-align: right;\">\n",
       "      <th></th>\n",
       "      <th>PassengerId</th>\n",
       "      <th>Survived</th>\n",
       "      <th>Pclass</th>\n",
       "      <th>Name</th>\n",
       "      <th>Sex</th>\n",
       "      <th>Age</th>\n",
       "      <th>SibSp</th>\n",
       "      <th>Parch</th>\n",
       "      <th>Embarked</th>\n",
       "      <th>AgeGroup</th>\n",
       "      <th>Title</th>\n",
       "    </tr>\n",
       "  </thead>\n",
       "  <tbody>\n",
       "    <tr>\n",
       "      <th>0</th>\n",
       "      <td>1</td>\n",
       "      <td>0</td>\n",
       "      <td>3</td>\n",
       "      <td>Braund, Mr. Owen Harris</td>\n",
       "      <td>male</td>\n",
       "      <td>22.0</td>\n",
       "      <td>1</td>\n",
       "      <td>0</td>\n",
       "      <td>S</td>\n",
       "      <td>Student</td>\n",
       "      <td>1</td>\n",
       "    </tr>\n",
       "    <tr>\n",
       "      <th>1</th>\n",
       "      <td>2</td>\n",
       "      <td>1</td>\n",
       "      <td>1</td>\n",
       "      <td>Cumings, Mrs. John Bradley (Florence Briggs Th...</td>\n",
       "      <td>female</td>\n",
       "      <td>38.0</td>\n",
       "      <td>1</td>\n",
       "      <td>0</td>\n",
       "      <td>C</td>\n",
       "      <td>Adult</td>\n",
       "      <td>3</td>\n",
       "    </tr>\n",
       "    <tr>\n",
       "      <th>2</th>\n",
       "      <td>3</td>\n",
       "      <td>1</td>\n",
       "      <td>3</td>\n",
       "      <td>Heikkinen, Miss. Laina</td>\n",
       "      <td>female</td>\n",
       "      <td>26.0</td>\n",
       "      <td>0</td>\n",
       "      <td>0</td>\n",
       "      <td>S</td>\n",
       "      <td>Young Adult</td>\n",
       "      <td>2</td>\n",
       "    </tr>\n",
       "    <tr>\n",
       "      <th>3</th>\n",
       "      <td>4</td>\n",
       "      <td>1</td>\n",
       "      <td>1</td>\n",
       "      <td>Futrelle, Mrs. Jacques Heath (Lily May Peel)</td>\n",
       "      <td>female</td>\n",
       "      <td>35.0</td>\n",
       "      <td>1</td>\n",
       "      <td>0</td>\n",
       "      <td>S</td>\n",
       "      <td>Young Adult</td>\n",
       "      <td>3</td>\n",
       "    </tr>\n",
       "    <tr>\n",
       "      <th>4</th>\n",
       "      <td>5</td>\n",
       "      <td>0</td>\n",
       "      <td>3</td>\n",
       "      <td>Allen, Mr. William Henry</td>\n",
       "      <td>male</td>\n",
       "      <td>35.0</td>\n",
       "      <td>0</td>\n",
       "      <td>0</td>\n",
       "      <td>S</td>\n",
       "      <td>Young Adult</td>\n",
       "      <td>1</td>\n",
       "    </tr>\n",
       "  </tbody>\n",
       "</table>\n",
       "</div>"
      ],
      "text/plain": [
       "   PassengerId  Survived  Pclass  \\\n",
       "0            1         0       3   \n",
       "1            2         1       1   \n",
       "2            3         1       3   \n",
       "3            4         1       1   \n",
       "4            5         0       3   \n",
       "\n",
       "                                                Name     Sex   Age  SibSp  \\\n",
       "0                            Braund, Mr. Owen Harris    male  22.0      1   \n",
       "1  Cumings, Mrs. John Bradley (Florence Briggs Th...  female  38.0      1   \n",
       "2                             Heikkinen, Miss. Laina  female  26.0      0   \n",
       "3       Futrelle, Mrs. Jacques Heath (Lily May Peel)  female  35.0      1   \n",
       "4                           Allen, Mr. William Henry    male  35.0      0   \n",
       "\n",
       "   Parch Embarked     AgeGroup  Title  \n",
       "0      0        S      Student      1  \n",
       "1      0        C        Adult      3  \n",
       "2      0        S  Young Adult      2  \n",
       "3      0        S  Young Adult      3  \n",
       "4      0        S  Young Adult      1  "
      ]
     },
     "execution_count": 26,
     "metadata": {},
     "output_type": "execute_result"
    }
   ],
   "source": [
    "train.head()"
   ]
  },
  {
   "cell_type": "code",
   "execution_count": 27,
   "id": "c0bc9658",
   "metadata": {
    "execution": {
     "iopub.execute_input": "2024-01-23T12:56:27.269766Z",
     "iopub.status.busy": "2024-01-23T12:56:27.269307Z",
     "iopub.status.idle": "2024-01-23T12:56:27.279729Z",
     "shell.execute_reply": "2024-01-23T12:56:27.278751Z"
    },
    "papermill": {
     "duration": 0.027833,
     "end_time": "2024-01-23T12:56:27.281885",
     "exception": false,
     "start_time": "2024-01-23T12:56:27.254052",
     "status": "completed"
    },
    "tags": []
   },
   "outputs": [
    {
     "data": {
      "text/plain": [
       "Age\n",
       "-0.50     177\n",
       " 24.00     30\n",
       " 22.00     27\n",
       " 18.00     26\n",
       " 28.00     25\n",
       "         ... \n",
       " 36.50      1\n",
       " 55.50      1\n",
       " 0.92       1\n",
       " 23.50      1\n",
       " 74.00      1\n",
       "Name: count, Length: 89, dtype: int64"
      ]
     },
     "execution_count": 27,
     "metadata": {},
     "output_type": "execute_result"
    }
   ],
   "source": [
    "train['Age'].value_counts()"
   ]
  },
  {
   "cell_type": "code",
   "execution_count": 28,
   "id": "44c64876",
   "metadata": {
    "execution": {
     "iopub.execute_input": "2024-01-23T12:56:27.311813Z",
     "iopub.status.busy": "2024-01-23T12:56:27.310582Z",
     "iopub.status.idle": "2024-01-23T12:56:27.508929Z",
     "shell.execute_reply": "2024-01-23T12:56:27.507578Z"
    },
    "papermill": {
     "duration": 0.21625,
     "end_time": "2024-01-23T12:56:27.511779",
     "exception": false,
     "start_time": "2024-01-23T12:56:27.295529",
     "status": "completed"
    },
    "tags": []
   },
   "outputs": [],
   "source": [
    "# Convert categorical to numarical data\n",
    "from sklearn.preprocessing import LabelEncoder \n",
    "le = LabelEncoder()\n",
    "transform = ['Sex','AgeGroup','Embarked']\n",
    "for i in transform:\n",
    "    train[i] = le.fit_transform(train[i])"
   ]
  },
  {
   "cell_type": "code",
   "execution_count": 29,
   "id": "9e12b11a",
   "metadata": {
    "execution": {
     "iopub.execute_input": "2024-01-23T12:56:27.542262Z",
     "iopub.status.busy": "2024-01-23T12:56:27.541756Z",
     "iopub.status.idle": "2024-01-23T12:56:27.550239Z",
     "shell.execute_reply": "2024-01-23T12:56:27.548931Z"
    },
    "papermill": {
     "duration": 0.026219,
     "end_time": "2024-01-23T12:56:27.552455",
     "exception": false,
     "start_time": "2024-01-23T12:56:27.526236",
     "status": "completed"
    },
    "tags": []
   },
   "outputs": [],
   "source": [
    "for i in transform:\n",
    "    test[i] = le.fit_transform(test[i])"
   ]
  },
  {
   "cell_type": "code",
   "execution_count": 30,
   "id": "aa17df74",
   "metadata": {
    "execution": {
     "iopub.execute_input": "2024-01-23T12:56:27.582559Z",
     "iopub.status.busy": "2024-01-23T12:56:27.582043Z",
     "iopub.status.idle": "2024-01-23T12:56:27.598890Z",
     "shell.execute_reply": "2024-01-23T12:56:27.597180Z"
    },
    "papermill": {
     "duration": 0.035307,
     "end_time": "2024-01-23T12:56:27.601524",
     "exception": false,
     "start_time": "2024-01-23T12:56:27.566217",
     "status": "completed"
    },
    "tags": []
   },
   "outputs": [
    {
     "data": {
      "text/html": [
       "<div>\n",
       "<style scoped>\n",
       "    .dataframe tbody tr th:only-of-type {\n",
       "        vertical-align: middle;\n",
       "    }\n",
       "\n",
       "    .dataframe tbody tr th {\n",
       "        vertical-align: top;\n",
       "    }\n",
       "\n",
       "    .dataframe thead th {\n",
       "        text-align: right;\n",
       "    }\n",
       "</style>\n",
       "<table border=\"1\" class=\"dataframe\">\n",
       "  <thead>\n",
       "    <tr style=\"text-align: right;\">\n",
       "      <th></th>\n",
       "      <th>PassengerId</th>\n",
       "      <th>Pclass</th>\n",
       "      <th>Name</th>\n",
       "      <th>Sex</th>\n",
       "      <th>Age</th>\n",
       "      <th>SibSp</th>\n",
       "      <th>Parch</th>\n",
       "      <th>Embarked</th>\n",
       "      <th>AgeGroup</th>\n",
       "      <th>Title</th>\n",
       "    </tr>\n",
       "  </thead>\n",
       "  <tbody>\n",
       "    <tr>\n",
       "      <th>0</th>\n",
       "      <td>892</td>\n",
       "      <td>3</td>\n",
       "      <td>Kelly, Mr. James</td>\n",
       "      <td>1</td>\n",
       "      <td>34.5</td>\n",
       "      <td>0</td>\n",
       "      <td>0</td>\n",
       "      <td>1</td>\n",
       "      <td>6</td>\n",
       "      <td>1</td>\n",
       "    </tr>\n",
       "    <tr>\n",
       "      <th>1</th>\n",
       "      <td>893</td>\n",
       "      <td>3</td>\n",
       "      <td>Wilkes, Mrs. James (Ellen Needs)</td>\n",
       "      <td>0</td>\n",
       "      <td>47.0</td>\n",
       "      <td>1</td>\n",
       "      <td>0</td>\n",
       "      <td>2</td>\n",
       "      <td>0</td>\n",
       "      <td>3</td>\n",
       "    </tr>\n",
       "    <tr>\n",
       "      <th>2</th>\n",
       "      <td>894</td>\n",
       "      <td>2</td>\n",
       "      <td>Myles, Mr. Thomas Francis</td>\n",
       "      <td>1</td>\n",
       "      <td>62.0</td>\n",
       "      <td>0</td>\n",
       "      <td>0</td>\n",
       "      <td>1</td>\n",
       "      <td>3</td>\n",
       "      <td>1</td>\n",
       "    </tr>\n",
       "    <tr>\n",
       "      <th>3</th>\n",
       "      <td>895</td>\n",
       "      <td>3</td>\n",
       "      <td>Wirz, Mr. Albert</td>\n",
       "      <td>1</td>\n",
       "      <td>27.0</td>\n",
       "      <td>0</td>\n",
       "      <td>0</td>\n",
       "      <td>2</td>\n",
       "      <td>6</td>\n",
       "      <td>1</td>\n",
       "    </tr>\n",
       "    <tr>\n",
       "      <th>4</th>\n",
       "      <td>896</td>\n",
       "      <td>3</td>\n",
       "      <td>Hirvonen, Mrs. Alexander (Helga E Lindqvist)</td>\n",
       "      <td>0</td>\n",
       "      <td>22.0</td>\n",
       "      <td>1</td>\n",
       "      <td>1</td>\n",
       "      <td>2</td>\n",
       "      <td>4</td>\n",
       "      <td>3</td>\n",
       "    </tr>\n",
       "  </tbody>\n",
       "</table>\n",
       "</div>"
      ],
      "text/plain": [
       "   PassengerId  Pclass                                          Name  Sex  \\\n",
       "0          892       3                              Kelly, Mr. James    1   \n",
       "1          893       3              Wilkes, Mrs. James (Ellen Needs)    0   \n",
       "2          894       2                     Myles, Mr. Thomas Francis    1   \n",
       "3          895       3                              Wirz, Mr. Albert    1   \n",
       "4          896       3  Hirvonen, Mrs. Alexander (Helga E Lindqvist)    0   \n",
       "\n",
       "    Age  SibSp  Parch  Embarked  AgeGroup  Title  \n",
       "0  34.5      0      0         1         6      1  \n",
       "1  47.0      1      0         2         0      3  \n",
       "2  62.0      0      0         1         3      1  \n",
       "3  27.0      0      0         2         6      1  \n",
       "4  22.0      1      1         2         4      3  "
      ]
     },
     "execution_count": 30,
     "metadata": {},
     "output_type": "execute_result"
    }
   ],
   "source": [
    "test.head()"
   ]
  },
  {
   "cell_type": "markdown",
   "id": "3c7d60c0",
   "metadata": {
    "papermill": {
     "duration": 0.013483,
     "end_time": "2024-01-23T12:56:27.629035",
     "exception": false,
     "start_time": "2024-01-23T12:56:27.615552",
     "status": "completed"
    },
    "tags": []
   },
   "source": [
    "### Machine Learning Model"
   ]
  },
  {
   "cell_type": "code",
   "execution_count": 31,
   "id": "484b6cb5",
   "metadata": {
    "execution": {
     "iopub.execute_input": "2024-01-23T12:56:27.659373Z",
     "iopub.status.busy": "2024-01-23T12:56:27.658832Z",
     "iopub.status.idle": "2024-01-23T12:56:27.667276Z",
     "shell.execute_reply": "2024-01-23T12:56:27.665881Z"
    },
    "papermill": {
     "duration": 0.02668,
     "end_time": "2024-01-23T12:56:27.669510",
     "exception": false,
     "start_time": "2024-01-23T12:56:27.642830",
     "status": "completed"
    },
    "tags": []
   },
   "outputs": [],
   "source": [
    "X_train = train.drop(['PassengerId','Survived','Name','Age'],axis=1)\n",
    "Y_train = train['Survived']\n",
    "X_test  = test.drop(['PassengerId','Name','Age'],axis=1)"
   ]
  },
  {
   "cell_type": "markdown",
   "id": "8d20dbe0",
   "metadata": {
    "papermill": {
     "duration": 0.013485,
     "end_time": "2024-01-23T12:56:27.696906",
     "exception": false,
     "start_time": "2024-01-23T12:56:27.683421",
     "status": "completed"
    },
    "tags": []
   },
   "source": [
    "### Logistic Regression"
   ]
  },
  {
   "cell_type": "code",
   "execution_count": 32,
   "id": "0e266eec",
   "metadata": {
    "execution": {
     "iopub.execute_input": "2024-01-23T12:56:27.726475Z",
     "iopub.status.busy": "2024-01-23T12:56:27.726016Z",
     "iopub.status.idle": "2024-01-23T12:56:27.998387Z",
     "shell.execute_reply": "2024-01-23T12:56:27.997183Z"
    },
    "papermill": {
     "duration": 0.290661,
     "end_time": "2024-01-23T12:56:28.001278",
     "exception": false,
     "start_time": "2024-01-23T12:56:27.710617",
     "status": "completed"
    },
    "tags": []
   },
   "outputs": [],
   "source": [
    "from sklearn.linear_model import LogisticRegression\n",
    "lr = LogisticRegression()\n",
    "lr.fit(X_train,Y_train)\n",
    "y_pred = lr.predict(X_test)"
   ]
  },
  {
   "cell_type": "code",
   "execution_count": 33,
   "id": "4ed046fc",
   "metadata": {
    "execution": {
     "iopub.execute_input": "2024-01-23T12:56:28.033933Z",
     "iopub.status.busy": "2024-01-23T12:56:28.033486Z",
     "iopub.status.idle": "2024-01-23T12:56:28.042691Z",
     "shell.execute_reply": "2024-01-23T12:56:28.041169Z"
    },
    "papermill": {
     "duration": 0.028365,
     "end_time": "2024-01-23T12:56:28.045357",
     "exception": false,
     "start_time": "2024-01-23T12:56:28.016992",
     "status": "completed"
    },
    "tags": []
   },
   "outputs": [
    {
     "data": {
      "text/plain": [
       "array([0, 1, 0, 0, 1, 0, 1, 0, 1, 0, 0, 0, 1, 0, 1, 1, 0, 0, 1, 1, 0, 0,\n",
       "       1, 0, 1, 0, 1, 0, 0, 0, 0, 0, 1, 1, 0, 0, 1, 1, 0, 0, 0, 0, 0, 1,\n",
       "       1, 0, 0, 0, 1, 1, 0, 0, 1, 1, 0, 0, 0, 0, 0, 1, 0, 0, 0, 1, 1, 1,\n",
       "       1, 0, 1, 1, 1, 0, 1, 1, 1, 1, 0, 1, 0, 1, 0, 0, 0, 0, 0, 0, 1, 1,\n",
       "       1, 0, 1, 0, 1, 0, 1, 0, 1, 0, 1, 0, 1, 0, 0, 0, 1, 0, 0, 0, 0, 0,\n",
       "       0, 1, 1, 1, 1, 0, 0, 0, 0, 1, 1, 0, 1, 0, 0, 1, 0, 1, 0, 0, 0, 1,\n",
       "       1, 0, 0, 0, 0, 0, 1, 0, 0, 1, 0, 0, 0, 0, 0, 0, 0, 1, 1, 0, 0, 1,\n",
       "       0, 0, 1, 1, 0, 1, 1, 0, 1, 0, 1, 1, 0, 0, 1, 1, 0, 0, 0, 0, 0, 1,\n",
       "       1, 0, 1, 1, 0, 0, 1, 0, 1, 0, 1, 0, 0, 0, 0, 0, 0, 0, 0, 0, 1, 1,\n",
       "       0, 1, 1, 0, 1, 1, 0, 1, 1, 0, 1, 0, 0, 0, 0, 1, 0, 0, 1, 0, 1, 0,\n",
       "       1, 0, 1, 0, 1, 1, 0, 1, 0, 0, 0, 1, 0, 0, 0, 0, 0, 0, 1, 1, 1, 1,\n",
       "       0, 0, 0, 0, 1, 0, 1, 1, 1, 0, 0, 0, 0, 0, 0, 0, 1, 0, 0, 0, 1, 0,\n",
       "       0, 0, 0, 0, 1, 0, 0, 0, 1, 1, 0, 1, 0, 0, 0, 0, 1, 0, 1, 1, 0, 0,\n",
       "       0, 0, 0, 0, 0, 1, 0, 1, 0, 0, 1, 0, 0, 0, 0, 0, 0, 0, 1, 1, 0, 0,\n",
       "       0, 1, 0, 0, 0, 1, 1, 1, 0, 0, 0, 0, 0, 0, 0, 0, 1, 0, 1, 0, 0, 0,\n",
       "       1, 0, 0, 1, 0, 0, 0, 0, 0, 0, 0, 0, 0, 1, 0, 1, 0, 1, 0, 1, 1, 0,\n",
       "       0, 0, 0, 0, 1, 0, 0, 1, 0, 1, 1, 0, 1, 0, 0, 1, 1, 0, 0, 1, 0, 0,\n",
       "       1, 1, 0, 0, 0, 0, 0, 0, 1, 1, 0, 1, 0, 0, 0, 0, 0, 1, 0, 0, 0, 1,\n",
       "       0, 1, 0, 0, 1, 0, 1, 0, 0, 0, 0, 0, 1, 0, 1, 1, 1, 0, 1, 0, 0, 0])"
      ]
     },
     "execution_count": 33,
     "metadata": {},
     "output_type": "execute_result"
    }
   ],
   "source": [
    "y_pred"
   ]
  },
  {
   "cell_type": "code",
   "execution_count": 34,
   "id": "3b64a5e4",
   "metadata": {
    "execution": {
     "iopub.execute_input": "2024-01-23T12:56:28.079849Z",
     "iopub.status.busy": "2024-01-23T12:56:28.079405Z",
     "iopub.status.idle": "2024-01-23T12:56:28.089572Z",
     "shell.execute_reply": "2024-01-23T12:56:28.088389Z"
    },
    "papermill": {
     "duration": 0.030094,
     "end_time": "2024-01-23T12:56:28.092318",
     "exception": false,
     "start_time": "2024-01-23T12:56:28.062224",
     "status": "completed"
    },
    "tags": []
   },
   "outputs": [],
   "source": [
    "ids = test['PassengerId']\n",
    "output = pd.DataFrame({'PassengerId':ids,'Survived':y_pred})\n",
    "output.to_csv('submission.csv',index=False)"
   ]
  },
  {
   "cell_type": "code",
   "execution_count": null,
   "id": "2ddc22ad",
   "metadata": {
    "papermill": {
     "duration": 0.015181,
     "end_time": "2024-01-23T12:56:28.123317",
     "exception": false,
     "start_time": "2024-01-23T12:56:28.108136",
     "status": "completed"
    },
    "tags": []
   },
   "outputs": [],
   "source": []
  }
 ],
 "metadata": {
  "kaggle": {
   "accelerator": "none",
   "dataSources": [
    {
     "databundleVersionId": 26502,
     "sourceId": 3136,
     "sourceType": "competition"
    }
   ],
   "dockerImageVersionId": 30635,
   "isGpuEnabled": false,
   "isInternetEnabled": true,
   "language": "python",
   "sourceType": "notebook"
  },
  "kernelspec": {
   "display_name": "Python 3",
   "language": "python",
   "name": "python3"
  },
  "language_info": {
   "codemirror_mode": {
    "name": "ipython",
    "version": 3
   },
   "file_extension": ".py",
   "mimetype": "text/x-python",
   "name": "python",
   "nbconvert_exporter": "python",
   "pygments_lexer": "ipython3",
   "version": "3.10.12"
  },
  "papermill": {
   "default_parameters": {},
   "duration": 9.603478,
   "end_time": "2024-01-23T12:56:29.063863",
   "environment_variables": {},
   "exception": null,
   "input_path": "__notebook__.ipynb",
   "output_path": "__notebook__.ipynb",
   "parameters": {},
   "start_time": "2024-01-23T12:56:19.460385",
   "version": "2.4.0"
  }
 },
 "nbformat": 4,
 "nbformat_minor": 5
}
